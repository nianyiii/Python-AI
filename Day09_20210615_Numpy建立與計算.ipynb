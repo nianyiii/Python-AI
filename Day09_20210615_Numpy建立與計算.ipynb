{
 "cells": [
  {
   "cell_type": "markdown",
   "id": "ff7437b8",
   "metadata": {},
   "source": [
    "## 陣列初始與規劃"
   ]
  },
  {
   "cell_type": "code",
   "execution_count": 1,
   "id": "e891c11f",
   "metadata": {},
   "outputs": [
    {
     "data": {
      "text/plain": [
       "(2, (3, 3), 9, dtype('int64'))"
      ]
     },
     "execution_count": 1,
     "metadata": {},
     "output_type": "execute_result"
    }
   ],
   "source": [
    "# ndarray.ndim：維度的數量\n",
    "# ndarray.shape：顯示陣列在每個維度上的整數值\n",
    "# ndarray.size：陣列內維數的總數\n",
    "# ndarray.dtype：用來描述陣列中元素類型的對象\n",
    "\n",
    "import numpy as np\n",
    "\n",
    "data = np.array([[8, 4, 2],\n",
    "                 [9, 6, 3],\n",
    "                 [7, 4, 1]])\n",
    "\n",
    "data.ndim, data.shape, data.size, data.dtype\n",
    "\n",
    "# 第一個得出的數值2為以下兩種含義：\n",
    "# 2階(rank)張量 tensor\n",
    "# 2維(dim)陣列 array"
   ]
  },
  {
   "cell_type": "code",
   "execution_count": 2,
   "id": "6f2902cd",
   "metadata": {},
   "outputs": [
    {
     "name": "stdout",
     "output_type": "stream",
     "text": [
      "[[1 2 3]\n",
      " [2 3 4]]\n",
      "number of dim: 2\n",
      "shape: (2, 3)\n",
      "size: 6\n",
      "size: int64\n"
     ]
    }
   ],
   "source": [
    "# Practice\n",
    "\n",
    "import numpy as np\n",
    "\n",
    "l = [ [1, 2, 3],\n",
    "      [2, 3, 4]]\n",
    "\n",
    "a = np.array(l)\n",
    "\n",
    "print(a)\n",
    "print('number of dim:', a.ndim)\n",
    "print('shape:', a.shape)\n",
    "print('size:', a.size)\n",
    "print('size:', a.dtype)"
   ]
  },
  {
   "cell_type": "code",
   "execution_count": 3,
   "id": "f6abb7bf",
   "metadata": {},
   "outputs": [
    {
     "name": "stdout",
     "output_type": "stream",
     "text": [
      "[[-2.00000000e+000 -2.00000000e+000  6.93001367e-310  4.94065646e-324]\n",
      " [ 8.11978949e-312  6.93001427e-310  3.50977866e+064  5.56268465e-309]]\n",
      "[[0. 0. 0. 0.]\n",
      " [0. 0. 0. 0.]\n",
      " [0. 0. 0. 0.]]\n",
      "[[1. 1.]\n",
      " [1. 1.]\n",
      " [1. 1.]\n",
      " [1. 1.]\n",
      " [1. 1.]]\n",
      "[[6 6 6]\n",
      " [6 6 6]\n",
      " [6 6 6]]\n",
      "[[1. 0. 0.]\n",
      " [0. 1. 0.]\n",
      " [0. 0. 1.]]\n",
      "[[1 0 0 0]\n",
      " [0 2 0 0]\n",
      " [0 0 3 0]\n",
      " [0 0 0 4]]\n"
     ]
    }
   ],
   "source": [
    "# 陣列初始化的方式\n",
    "\n",
    "# 不做初始化\n",
    "print(np.empty((2, 4)))\n",
    "\n",
    "# 全部規劃為0\n",
    "print(np.zeros((3, 4)))\n",
    "\n",
    "# 全部規劃為1\n",
    "print(np.ones((5, 2)))\n",
    "\n",
    "# 全部規劃／填滿為某數，例如6\n",
    "print(np.full((3, 3), 6))\n",
    "\n",
    "# 對角\n",
    "print(np.eye(3))\n",
    "\n",
    "# 建立對角矩陣，對角為1,2,3,4，其他為0\n",
    "print(np.diag([1, 2, 3, 4]))"
   ]
  },
  {
   "cell_type": "code",
   "execution_count": 4,
   "id": "c1b254a6",
   "metadata": {},
   "outputs": [
    {
     "data": {
      "text/plain": [
       "(2, 4)"
      ]
     },
     "execution_count": 4,
     "metadata": {},
     "output_type": "execute_result"
    }
   ],
   "source": [
    "# reshape：可將現有的陣列重新規劃為x乘以y的陣列\n",
    "\n",
    "import numpy as np\n",
    "data = np.array([\n",
    "                 [8, 4, 2, 1], \n",
    "                 [9, 6, 3, 0]\n",
    "                 ])\n",
    "data.shape"
   ]
  },
  {
   "cell_type": "code",
   "execution_count": 7,
   "id": "a52d6cd6",
   "metadata": {
    "scrolled": true
   },
   "outputs": [
    {
     "data": {
      "text/plain": [
       "array([[8, 4],\n",
       "       [2, 1],\n",
       "       [9, 6],\n",
       "       [3, 0]])"
      ]
     },
     "execution_count": 7,
     "metadata": {},
     "output_type": "execute_result"
    }
   ],
   "source": [
    "# 根據上述，執行reshape（相乘後的值一定要相同！！！）\n",
    "data.reshape(4, 2)"
   ]
  },
  {
   "cell_type": "code",
   "execution_count": 5,
   "id": "f77759ce",
   "metadata": {},
   "outputs": [
    {
     "data": {
      "text/plain": [
       "(array([[8],\n",
       "        [4],\n",
       "        [2],\n",
       "        [1],\n",
       "        [9],\n",
       "        [6],\n",
       "        [3],\n",
       "        [0]]),\n",
       " array([[8],\n",
       "        [4],\n",
       "        [2],\n",
       "        [1],\n",
       "        [9],\n",
       "        [6],\n",
       "        [3],\n",
       "        [0]]))"
      ]
     },
     "execution_count": 5,
     "metadata": {},
     "output_type": "execute_result"
    }
   ],
   "source": [
    "# 承上，reshape(-1, 1)，負號在前方，陣列為直向\n",
    "data.reshape(8, 1), data.reshape(-1, 1)"
   ]
  },
  {
   "cell_type": "code",
   "execution_count": 6,
   "id": "47c71f88",
   "metadata": {},
   "outputs": [
    {
     "data": {
      "text/plain": [
       "(array([[8, 4, 2, 1, 9, 6, 3, 0]]), array([[8, 4, 2, 1, 9, 6, 3, 0]]))"
      ]
     },
     "execution_count": 6,
     "metadata": {},
     "output_type": "execute_result"
    }
   ],
   "source": [
    "# 承上，reshape(1, -1)，負號在後方，陣列為橫向\n",
    "data.reshape(1, 8), data.reshape(1, -1)"
   ]
  },
  {
   "cell_type": "code",
   "execution_count": 11,
   "id": "83d0e966",
   "metadata": {},
   "outputs": [
    {
     "data": {
      "text/plain": [
       "array([[90, 92, 95, 90],\n",
       "       [89, 88, 85, 80],\n",
       "       [75, 77, 78, 70]])"
      ]
     },
     "execution_count": 11,
     "metadata": {},
     "output_type": "execute_result"
    }
   ],
   "source": [
    "# 加強觀念\n",
    "# 轉成陣列的優點為可計算總平均\n",
    "\n",
    "scores = [[90, 92, 95, 90], \n",
    "          [89, 88, 85, 80],\n",
    "          [75, 77, 78, 70]]\n",
    "\n",
    "import numpy as np\n",
    "np.array(scores)"
   ]
  },
  {
   "cell_type": "code",
   "execution_count": 12,
   "id": "733d4425",
   "metadata": {},
   "outputs": [
    {
     "data": {
      "text/plain": [
       "84.08333333333333"
      ]
     },
     "execution_count": 12,
     "metadata": {},
     "output_type": "execute_result"
    }
   ],
   "source": [
    "# 承上，使用np.mean計算總平均\n",
    "np.mean(scores)"
   ]
  },
  {
   "cell_type": "code",
   "execution_count": 9,
   "id": "048b47cf",
   "metadata": {},
   "outputs": [
    {
     "ename": "TypeError",
     "evalue": "unsupported operand type(s) for +: 'int' and 'list'",
     "output_type": "error",
     "traceback": [
      "\u001b[0;31m---------------------------------------------------------------------------\u001b[0m",
      "\u001b[0;31mTypeError\u001b[0m                                 Traceback (most recent call last)",
      "\u001b[0;32m<ipython-input-9-8e40676273c2>\u001b[0m in \u001b[0;36m<module>\u001b[0;34m\u001b[0m\n\u001b[1;32m      3\u001b[0m           \u001b[0;34m[\u001b[0m\u001b[0;36m89\u001b[0m\u001b[0;34m,\u001b[0m \u001b[0;36m88\u001b[0m\u001b[0;34m,\u001b[0m \u001b[0;36m85\u001b[0m\u001b[0;34m,\u001b[0m \u001b[0;36m80\u001b[0m\u001b[0;34m]\u001b[0m\u001b[0;34m,\u001b[0m\u001b[0;34m\u001b[0m\u001b[0;34m\u001b[0m\u001b[0m\n\u001b[1;32m      4\u001b[0m           [75, 77, 78, 70]]\n\u001b[0;32m----> 5\u001b[0;31m \u001b[0msum\u001b[0m\u001b[0;34m(\u001b[0m\u001b[0mscores\u001b[0m\u001b[0;34m)\u001b[0m\u001b[0;34m\u001b[0m\u001b[0;34m\u001b[0m\u001b[0m\n\u001b[0m",
      "\u001b[0;31mTypeError\u001b[0m: unsupported operand type(s) for +: 'int' and 'list'"
     ]
    }
   ],
   "source": [
    "# 承上題，如果使用sum加總？（二維以上無法直接使用）\n",
    "scores = [[90, 92, 95, 90], \n",
    "          [89, 88, 85, 80],\n",
    "          [75, 77, 78, 70]]\n",
    "sum(scores)"
   ]
  },
  {
   "cell_type": "code",
   "execution_count": 8,
   "id": "4bd40bf6",
   "metadata": {},
   "outputs": [
    {
     "data": {
      "text/plain": [
       "367"
      ]
     },
     "execution_count": 8,
     "metadata": {},
     "output_type": "execute_result"
    }
   ],
   "source": [
    "# 一維可直接使用sum加總\n",
    "students = [90, 92, 95, 90]\n",
    "sum(students)"
   ]
  },
  {
   "cell_type": "code",
   "execution_count": 4,
   "id": "53c2eaca",
   "metadata": {},
   "outputs": [
    {
     "name": "stdout",
     "output_type": "stream",
     "text": [
      "[90 92 95 90]\n"
     ]
    },
    {
     "data": {
      "text/plain": [
       "(91.75, 85.5, 75.0)"
      ]
     },
     "execution_count": 4,
     "metadata": {},
     "output_type": "execute_result"
    }
   ],
   "source": [
    "# 每個list計算平均\n",
    "\n",
    "import numpy as np\n",
    "\n",
    "scores = np.array([[90, 92, 95, 90], \n",
    "                   [89, 88, 85, 80],\n",
    "                   [75, 77, 78, 70]])\n",
    "\n",
    "print(scores[0, :]) # 第一列的全部\n",
    "\n",
    "np.mean(scores[0, :]), \\\n",
    "np.mean(scores[1, :]), \\\n",
    "np.mean(scores[2, :])"
   ]
  },
  {
   "cell_type": "code",
   "execution_count": 12,
   "id": "5775412f",
   "metadata": {},
   "outputs": [
    {
     "name": "stdout",
     "output_type": "stream",
     "text": [
      "91.75\n",
      "85.5\n",
      "75.0\n"
     ]
    }
   ],
   "source": [
    "# Practice\n",
    "# 使用list迴圈計算平均\n",
    "\n",
    "scores = [[90, 92, 95, 90], \n",
    "          [89, 88, 85, 80],\n",
    "          [75, 77, 78, 70]]\n",
    "\n",
    "for s in scores:\n",
    "    print(sum(s) / len(s))"
   ]
  },
  {
   "cell_type": "code",
   "execution_count": 13,
   "id": "b49f4094",
   "metadata": {},
   "outputs": [
    {
     "data": {
      "text/plain": [
       "[91.75, 85.5, 75.0]"
      ]
     },
     "execution_count": 13,
     "metadata": {},
     "output_type": "execute_result"
    }
   ],
   "source": [
    "# Practice\n",
    "# 使用list comprehension計算平均\n",
    "\n",
    "scores = [[90, 92, 95, 90], \n",
    "          [89, 88, 85, 80],\n",
    "          [75, 77, 78, 70]]\n",
    "\n",
    "[(sum(s) / len(s)) for s in scores]"
   ]
  },
  {
   "cell_type": "code",
   "execution_count": 15,
   "id": "c18dd9d3",
   "metadata": {},
   "outputs": [
    {
     "name": "stdout",
     "output_type": "stream",
     "text": [
      "[91.75 85.5  75.  ]\n",
      "[84.66666667 85.66666667 86.         80.        ]\n"
     ]
    }
   ],
   "source": [
    "# 每個list計算平均的最快用法\n",
    "# 上下axis = 0, 左右axis = 1\n",
    "\n",
    "import numpy as np\n",
    "\n",
    "scores = np.array([[90, 92, 95, 90], \n",
    "                   [89, 88, 85, 80],\n",
    "                   [75, 77, 78, 70]])\n",
    "\n",
    "print(np.mean(scores, axis = 1))\n",
    "print(np.mean(scores, axis = 0))"
   ]
  },
  {
   "cell_type": "code",
   "execution_count": 5,
   "id": "6464043f",
   "metadata": {
    "scrolled": true
   },
   "outputs": [
    {
     "data": {
      "text/plain": [
       "(array([90, 92, 95, 90, 89, 88, 85, 80, 75, 77, 78, 70]),\n",
       " array([90, 92, 95, 90, 89, 88, 85, 80, 75, 77, 78, 70]))"
      ]
     },
     "execution_count": 5,
     "metadata": {},
     "output_type": "execute_result"
    }
   ],
   "source": [
    "# 如果要轉換成(12,) 1-rank tensor(1-dim array)\n",
    "# flatten()返回一個摺疊成一維的陣列\n",
    "\n",
    "import numpy as np\n",
    "\n",
    "scores = np.array([[90, 92, 95, 90], \n",
    "                   [89, 88, 85, 80],\n",
    "                   [75, 77, 78, 70]])\n",
    "\n",
    "scores.flatten(), scores.ravel() # flatten與ravel執行後結果相同"
   ]
  },
  {
   "cell_type": "code",
   "execution_count": 3,
   "id": "4481f1e2",
   "metadata": {},
   "outputs": [
    {
     "data": {
      "text/plain": [
       "(array([[90],\n",
       "        [92],\n",
       "        [95],\n",
       "        [90],\n",
       "        [89],\n",
       "        [88],\n",
       "        [85],\n",
       "        [80],\n",
       "        [75],\n",
       "        [77],\n",
       "        [78],\n",
       "        [70]]),\n",
       " array([[90],\n",
       "        [92],\n",
       "        [95],\n",
       "        [90],\n",
       "        [89],\n",
       "        [88],\n",
       "        [85],\n",
       "        [80],\n",
       "        [75],\n",
       "        [77],\n",
       "        [78],\n",
       "        [70]]))"
      ]
     },
     "execution_count": 3,
     "metadata": {},
     "output_type": "execute_result"
    }
   ],
   "source": [
    "# 如果要轉換成(12, 1) 2-rank tensor(2-dim array)\n",
    "\n",
    "import numpy as np\n",
    "\n",
    "scores = np.array([[90, 92, 95, 90], \n",
    "                   [89, 88, 85, 80],\n",
    "                   [75, 77, 78, 70]])\n",
    "\n",
    "scores.reshape(12, 1), scores.reshape(-1, 1) # 兩種皆可"
   ]
  },
  {
   "cell_type": "code",
   "execution_count": 4,
   "id": "59819212",
   "metadata": {},
   "outputs": [
    {
     "data": {
      "text/plain": [
       "array([[90, 92, 95, 90, 89, 88, 85, 80, 75, 77, 78, 70]])"
      ]
     },
     "execution_count": 4,
     "metadata": {},
     "output_type": "execute_result"
    }
   ],
   "source": [
    "# 如果要轉換成(1, 12) 2-rank tensor(2-dim array)\n",
    "\n",
    "import numpy as np\n",
    "\n",
    "scores = np.array([[90, 92, 95, 90], \n",
    "                   [89, 88, 85, 80],\n",
    "                   [75, 77, 78, 70]])\n",
    "\n",
    "scores.reshape(1, 12)"
   ]
  },
  {
   "cell_type": "code",
   "execution_count": 10,
   "id": "a8c77db3",
   "metadata": {},
   "outputs": [
    {
     "name": "stdout",
     "output_type": "stream",
     "text": [
      "(2, 2)\n",
      "[[1 2]\n",
      " [3 4]]\n",
      "[[  1 100]\n",
      " [  3   4]]\n"
     ]
    }
   ],
   "source": [
    "# flatten與ravel不同！！！\n",
    "# flatten()：返回的是副本，對副本所做的修改不會影響原始矩陣\n",
    "# ravel()：會影響原始矩陣\n",
    "\n",
    "x = np.array([[1, 2], [3, 4]])\n",
    "print(x.shape)\n",
    "\n",
    "x.flatten()[1] = 100\n",
    "print(x)\n",
    "\n",
    "x.ravel()[1] = 100\n",
    "print(x)"
   ]
  },
  {
   "cell_type": "code",
   "execution_count": null,
   "id": "f4277eaa",
   "metadata": {},
   "outputs": [],
   "source": []
  }
 ],
 "metadata": {
  "kernelspec": {
   "display_name": "Python 3",
   "language": "python",
   "name": "python3"
  },
  "language_info": {
   "codemirror_mode": {
    "name": "ipython",
    "version": 3
   },
   "file_extension": ".py",
   "mimetype": "text/x-python",
   "name": "python",
   "nbconvert_exporter": "python",
   "pygments_lexer": "ipython3",
   "version": "3.7.10"
  }
 },
 "nbformat": 4,
 "nbformat_minor": 5
}
