{
 "cells": [
  {
   "cell_type": "markdown",
   "id": "a7a63a82",
   "metadata": {},
   "source": [
    "## 陣列初始與規劃"
   ]
  },
  {
   "cell_type": "code",
   "execution_count": 1,
   "id": "5a0f900f",
   "metadata": {},
   "outputs": [
    {
     "data": {
      "text/plain": [
       "(2, (3, 3), 9, dtype('int64'))"
      ]
     },
     "execution_count": 1,
     "metadata": {},
     "output_type": "execute_result"
    }
   ],
   "source": [
    "# ndarray.ndim：維度的數量\n",
    "# ndarray.shape：顯示陣列在每個維度上的整數值\n",
    "# ndarray.size：陣列內維數的總數\n",
    "# ndarray.dtype：用來描述陣列中元素類型的對象\n",
    "\n",
    "import numpy as np\n",
    "\n",
    "data = np.array([[8, 4, 2],\n",
    "                 [9, 6, 3],\n",
    "                 [7, 4, 1]])\n",
    "data.ndim, data.shape, data.size, data.dtype\n",
    "\n",
    "# 第一個得出的數值2為以下兩種含義：\n",
    "# 2階(rank)張量 tensor\n",
    "# 2維(dim)陣列 array"
   ]
  },
  {
   "cell_type": "code",
   "execution_count": 2,
   "id": "57807b58",
   "metadata": {},
   "outputs": [
    {
     "name": "stdout",
     "output_type": "stream",
     "text": [
      "[[1 2 3]\n",
      " [2 3 4]]\n",
      "number of dim: 2\n",
      "shape: (2, 3)\n",
      "size: 6\n",
      "size: int64\n"
     ]
    }
   ],
   "source": [
    "# Practice\n",
    "\n",
    "import numpy as np\n",
    "\n",
    "l = [ [1, 2, 3],\n",
    "      [2, 3, 4]]\n",
    "a = np.array(l)\n",
    "print(a)\n",
    "print('number of dim:', a.ndim)\n",
    "print('shape:', a.shape)\n",
    "print('size:', a.size)\n",
    "print('size:', a.dtype)"
   ]
  },
  {
   "cell_type": "code",
   "execution_count": 3,
   "id": "5e0cafb2",
   "metadata": {},
   "outputs": [
    {
     "name": "stdout",
     "output_type": "stream",
     "text": [
      "[[-2.00000000e+000 -2.00000000e+000  6.93001367e-310  4.94065646e-324]\n",
      " [ 8.11978949e-312  6.93001427e-310  3.50977866e+064  5.56268465e-309]]\n",
      "[[0. 0. 0. 0.]\n",
      " [0. 0. 0. 0.]\n",
      " [0. 0. 0. 0.]]\n",
      "[[1. 1.]\n",
      " [1. 1.]\n",
      " [1. 1.]\n",
      " [1. 1.]\n",
      " [1. 1.]]\n",
      "[[6 6 6]\n",
      " [6 6 6]\n",
      " [6 6 6]]\n",
      "[[1. 0. 0.]\n",
      " [0. 1. 0.]\n",
      " [0. 0. 1.]]\n",
      "[[1 0 0 0]\n",
      " [0 2 0 0]\n",
      " [0 0 3 0]\n",
      " [0 0 0 4]]\n"
     ]
    }
   ],
   "source": [
    "# 陣列初始化的方式\n",
    "\n",
    "# 不做初始化\n",
    "print(np.empty((2, 4)))\n",
    "\n",
    "# 全部規劃為0\n",
    "print(np.zeros((3, 4)))\n",
    "\n",
    "# 全部規劃為1\n",
    "print(np.ones((5, 2)))\n",
    "\n",
    "# 全部規劃／填滿為某數，例如6\n",
    "print(np.full((3, 3), 6))\n",
    "\n",
    "# 對角\n",
    "print(np.eye(3))\n",
    "\n",
    "# 建立對角矩陣，對角為1,2,3,4，其他為0\n",
    "print(np.diag([1, 2, 3, 4]))"
   ]
  },
  {
   "cell_type": "code",
   "execution_count": 4,
   "id": "471282f9",
   "metadata": {},
   "outputs": [
    {
     "data": {
      "text/plain": [
       "(2, 4)"
      ]
     },
     "execution_count": 4,
     "metadata": {},
     "output_type": "execute_result"
    }
   ],
   "source": [
    "# reshape：可將現有的陣列重新規劃為x乘以y的陣列\n",
    "\n",
    "import numpy as np\n",
    "data = np.array([\n",
    "                 [8, 4, 2, 1], \n",
    "                 [9, 6, 3, 0]\n",
    "                 ])\n",
    "data.shape"
   ]
  },
  {
   "cell_type": "code",
   "execution_count": 7,
   "id": "96024f19",
   "metadata": {
    "scrolled": true
   },
   "outputs": [
    {
     "data": {
      "text/plain": [
       "array([[8, 4],\n",
       "       [2, 1],\n",
       "       [9, 6],\n",
       "       [3, 0]])"
      ]
     },
     "execution_count": 7,
     "metadata": {},
     "output_type": "execute_result"
    }
   ],
   "source": [
    "# 根據上述，執行reshape（相乘後的值一定要相同！！！）\n",
    "data.reshape(4, 2)"
   ]
  },
  {
   "cell_type": "code",
   "execution_count": 5,
   "id": "60bb5a2e",
   "metadata": {},
   "outputs": [
    {
     "data": {
      "text/plain": [
       "(array([[8],\n",
       "        [4],\n",
       "        [2],\n",
       "        [1],\n",
       "        [9],\n",
       "        [6],\n",
       "        [3],\n",
       "        [0]]),\n",
       " array([[8],\n",
       "        [4],\n",
       "        [2],\n",
       "        [1],\n",
       "        [9],\n",
       "        [6],\n",
       "        [3],\n",
       "        [0]]))"
      ]
     },
     "execution_count": 5,
     "metadata": {},
     "output_type": "execute_result"
    }
   ],
   "source": [
    "# 承上，reshape(-1, 1)，負的在前方，陣列為直向\n",
    "data.reshape(8, 1), data.reshape(-1, 1)"
   ]
  },
  {
   "cell_type": "code",
   "execution_count": 6,
   "id": "01173b15",
   "metadata": {},
   "outputs": [
    {
     "data": {
      "text/plain": [
       "(array([[8, 4, 2, 1, 9, 6, 3, 0]]), array([[8, 4, 2, 1, 9, 6, 3, 0]]))"
      ]
     },
     "execution_count": 6,
     "metadata": {},
     "output_type": "execute_result"
    }
   ],
   "source": [
    "# 承上，reshape(1, -1)，負的在後方，陣列為橫向\n",
    "data.reshape(1, 8), data.reshape(1, -1)"
   ]
  },
  {
   "cell_type": "code",
   "execution_count": 11,
   "id": "ef943f4b",
   "metadata": {},
   "outputs": [
    {
     "data": {
      "text/plain": [
       "array([[90, 92, 95, 90],\n",
       "       [89, 88, 85, 80],\n",
       "       [75, 77, 78, 70]])"
      ]
     },
     "execution_count": 11,
     "metadata": {},
     "output_type": "execute_result"
    }
   ],
   "source": [
    "# 加強觀念\n",
    "# 三個班級，每一班級有四個同學\n",
    "# 轉成陣列優點可計算總平均\n",
    "\n",
    "scores = [[90, 92, 95, 90], \n",
    "          [89, 88, 85, 80],\n",
    "          [75, 77, 78, 70]]\n",
    "\n",
    "import numpy as np\n",
    "np.array(scores)"
   ]
  },
  {
   "cell_type": "code",
   "execution_count": 12,
   "id": "022edf12",
   "metadata": {},
   "outputs": [
    {
     "data": {
      "text/plain": [
       "84.08333333333333"
      ]
     },
     "execution_count": 12,
     "metadata": {},
     "output_type": "execute_result"
    }
   ],
   "source": [
    "# 承上，使用np.mean計算總平均\n",
    "np.mean(scores)"
   ]
  },
  {
   "cell_type": "code",
   "execution_count": 9,
   "id": "de5cdf2d",
   "metadata": {},
   "outputs": [
    {
     "ename": "TypeError",
     "evalue": "unsupported operand type(s) for +: 'int' and 'list'",
     "output_type": "error",
     "traceback": [
      "\u001b[0;31m---------------------------------------------------------------------------\u001b[0m",
      "\u001b[0;31mTypeError\u001b[0m                                 Traceback (most recent call last)",
      "\u001b[0;32m<ipython-input-9-8e40676273c2>\u001b[0m in \u001b[0;36m<module>\u001b[0;34m\u001b[0m\n\u001b[1;32m      3\u001b[0m           \u001b[0;34m[\u001b[0m\u001b[0;36m89\u001b[0m\u001b[0;34m,\u001b[0m \u001b[0;36m88\u001b[0m\u001b[0;34m,\u001b[0m \u001b[0;36m85\u001b[0m\u001b[0;34m,\u001b[0m \u001b[0;36m80\u001b[0m\u001b[0;34m]\u001b[0m\u001b[0;34m,\u001b[0m\u001b[0;34m\u001b[0m\u001b[0;34m\u001b[0m\u001b[0m\n\u001b[1;32m      4\u001b[0m           [75, 77, 78, 70]]\n\u001b[0;32m----> 5\u001b[0;31m \u001b[0msum\u001b[0m\u001b[0;34m(\u001b[0m\u001b[0mscores\u001b[0m\u001b[0;34m)\u001b[0m\u001b[0;34m\u001b[0m\u001b[0;34m\u001b[0m\u001b[0m\n\u001b[0m",
      "\u001b[0;31mTypeError\u001b[0m: unsupported operand type(s) for +: 'int' and 'list'"
     ]
    }
   ],
   "source": [
    "# 承上，二維以上則無法直接使用sum加總\n",
    "scores = [[90, 92, 95, 90], \n",
    "          [89, 88, 85, 80],\n",
    "          [75, 77, 78, 70]]\n",
    "sum(scores)"
   ]
  },
  {
   "cell_type": "code",
   "execution_count": 8,
   "id": "29847987",
   "metadata": {},
   "outputs": [
    {
     "data": {
      "text/plain": [
       "367"
      ]
     },
     "execution_count": 8,
     "metadata": {},
     "output_type": "execute_result"
    }
   ],
   "source": [
    "# 再承上，一維可使用sum加總\n",
    "students = [90, 92, 95, 90]\n",
    "sum(students)"
   ]
  },
  {
   "cell_type": "code",
   "execution_count": null,
   "id": "a4bb4a96",
   "metadata": {},
   "outputs": [],
   "source": []
  }
 ],
 "metadata": {
  "kernelspec": {
   "display_name": "Python 3",
   "language": "python",
   "name": "python3"
  },
  "language_info": {
   "codemirror_mode": {
    "name": "ipython",
    "version": 3
   },
   "file_extension": ".py",
   "mimetype": "text/x-python",
   "name": "python",
   "nbconvert_exporter": "python",
   "pygments_lexer": "ipython3",
   "version": "3.7.10"
  }
 },
 "nbformat": 4,
 "nbformat_minor": 5
}
