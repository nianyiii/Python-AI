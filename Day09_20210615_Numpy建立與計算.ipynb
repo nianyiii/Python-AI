{
 "cells": [
  {
   "cell_type": "markdown",
   "id": "213244ca",
   "metadata": {},
   "source": [
    "## 陣列初始與規劃"
   ]
  },
  {
   "cell_type": "code",
   "execution_count": 1,
   "id": "8c7664dd",
   "metadata": {},
   "outputs": [
    {
     "data": {
      "text/plain": [
       "(2, (3, 3), 9, dtype('int64'))"
      ]
     },
     "execution_count": 1,
     "metadata": {},
     "output_type": "execute_result"
    }
   ],
   "source": [
    "# ndarray.ndim：維度的數量\n",
    "# ndarray.shape：顯示陣列在每個維度上的整數值\n",
    "# ndarray.size：陣列內維數的總數\n",
    "# ndarray.dtype：用來描述陣列中元素類型的對象\n",
    "\n",
    "import numpy as np\n",
    "\n",
    "data = np.array([[8, 4, 2],\n",
    "                 [9, 6, 3],\n",
    "                 [7, 4, 1]])\n",
    "\n",
    "data.ndim, data.shape, data.size, data.dtype\n",
    "\n",
    "# 第一個得出的數值2為以下兩種含義：\n",
    "# 2階(rank)張量 tensor\n",
    "# 2維(dim)陣列 array"
   ]
  },
  {
   "cell_type": "code",
   "execution_count": 2,
   "id": "3f3b993f",
   "metadata": {},
   "outputs": [
    {
     "name": "stdout",
     "output_type": "stream",
     "text": [
      "[[1 2 3]\n",
      " [2 3 4]]\n",
      "number of dim: 2\n",
      "shape: (2, 3)\n",
      "size: 6\n",
      "size: int64\n"
     ]
    }
   ],
   "source": [
    "# Practice\n",
    "\n",
    "import numpy as np\n",
    "\n",
    "l = [ [1, 2, 3],\n",
    "      [2, 3, 4]]\n",
    "\n",
    "a = np.array(l)\n",
    "\n",
    "print(a)\n",
    "print('number of dim:', a.ndim)\n",
    "print('shape:', a.shape)\n",
    "print('size:', a.size)\n",
    "print('size:', a.dtype)"
   ]
  },
  {
   "cell_type": "code",
   "execution_count": 3,
   "id": "6b51261b",
   "metadata": {},
   "outputs": [
    {
     "name": "stdout",
     "output_type": "stream",
     "text": [
      "[[-2.00000000e+000 -2.00000000e+000  6.93001367e-310  4.94065646e-324]\n",
      " [ 8.11978949e-312  6.93001427e-310  3.50977866e+064  5.56268465e-309]]\n",
      "[[0. 0. 0. 0.]\n",
      " [0. 0. 0. 0.]\n",
      " [0. 0. 0. 0.]]\n",
      "[[1. 1.]\n",
      " [1. 1.]\n",
      " [1. 1.]\n",
      " [1. 1.]\n",
      " [1. 1.]]\n",
      "[[6 6 6]\n",
      " [6 6 6]\n",
      " [6 6 6]]\n",
      "[[1. 0. 0.]\n",
      " [0. 1. 0.]\n",
      " [0. 0. 1.]]\n",
      "[[1 0 0 0]\n",
      " [0 2 0 0]\n",
      " [0 0 3 0]\n",
      " [0 0 0 4]]\n"
     ]
    }
   ],
   "source": [
    "# 陣列初始化的方式\n",
    "\n",
    "# 不做初始化\n",
    "print(np.empty((2, 4)))\n",
    "\n",
    "# 全部規劃為0\n",
    "print(np.zeros((3, 4)))\n",
    "\n",
    "# 全部規劃為1\n",
    "print(np.ones((5, 2)))\n",
    "\n",
    "# 全部規劃／填滿為某數，例如6\n",
    "print(np.full((3, 3), 6))\n",
    "\n",
    "# 對角\n",
    "print(np.eye(3))\n",
    "\n",
    "# 建立對角矩陣，對角為1,2,3,4，其他為0\n",
    "print(np.diag([1, 2, 3, 4]))"
   ]
  },
  {
   "cell_type": "code",
   "execution_count": 4,
   "id": "09eb17af",
   "metadata": {},
   "outputs": [
    {
     "data": {
      "text/plain": [
       "(2, 4)"
      ]
     },
     "execution_count": 4,
     "metadata": {},
     "output_type": "execute_result"
    }
   ],
   "source": [
    "# reshape：可將現有的陣列重新規劃為x乘以y的陣列\n",
    "\n",
    "import numpy as np\n",
    "data = np.array([\n",
    "                 [8, 4, 2, 1], \n",
    "                 [9, 6, 3, 0]\n",
    "                 ])\n",
    "data.shape"
   ]
  },
  {
   "cell_type": "code",
   "execution_count": 7,
   "id": "7362cf3b",
   "metadata": {
    "scrolled": true
   },
   "outputs": [
    {
     "data": {
      "text/plain": [
       "array([[8, 4],\n",
       "       [2, 1],\n",
       "       [9, 6],\n",
       "       [3, 0]])"
      ]
     },
     "execution_count": 7,
     "metadata": {},
     "output_type": "execute_result"
    }
   ],
   "source": [
    "# 根據上述，執行reshape（相乘後的值一定要相同！！！）\n",
    "data.reshape(4, 2)"
   ]
  },
  {
   "cell_type": "code",
   "execution_count": 5,
   "id": "38abcebc",
   "metadata": {},
   "outputs": [
    {
     "data": {
      "text/plain": [
       "(array([[8],\n",
       "        [4],\n",
       "        [2],\n",
       "        [1],\n",
       "        [9],\n",
       "        [6],\n",
       "        [3],\n",
       "        [0]]),\n",
       " array([[8],\n",
       "        [4],\n",
       "        [2],\n",
       "        [1],\n",
       "        [9],\n",
       "        [6],\n",
       "        [3],\n",
       "        [0]]))"
      ]
     },
     "execution_count": 5,
     "metadata": {},
     "output_type": "execute_result"
    }
   ],
   "source": [
    "# 承上，reshape(-1, 1)，負號在前方，陣列為直向\n",
    "data.reshape(8, 1), data.reshape(-1, 1)"
   ]
  },
  {
   "cell_type": "code",
   "execution_count": 6,
   "id": "da80a1cf",
   "metadata": {},
   "outputs": [
    {
     "data": {
      "text/plain": [
       "(array([[8, 4, 2, 1, 9, 6, 3, 0]]), array([[8, 4, 2, 1, 9, 6, 3, 0]]))"
      ]
     },
     "execution_count": 6,
     "metadata": {},
     "output_type": "execute_result"
    }
   ],
   "source": [
    "# 承上，reshape(1, -1)，負號在後方，陣列為橫向\n",
    "data.reshape(1, 8), data.reshape(1, -1)"
   ]
  },
  {
   "cell_type": "code",
   "execution_count": 11,
   "id": "3645442d",
   "metadata": {},
   "outputs": [
    {
     "data": {
      "text/plain": [
       "array([[90, 92, 95, 90],\n",
       "       [89, 88, 85, 80],\n",
       "       [75, 77, 78, 70]])"
      ]
     },
     "execution_count": 11,
     "metadata": {},
     "output_type": "execute_result"
    }
   ],
   "source": [
    "# 加強觀念\n",
    "# 轉成陣列的優點為可計算總平均\n",
    "\n",
    "scores = [[90, 92, 95, 90], \n",
    "          [89, 88, 85, 80],\n",
    "          [75, 77, 78, 70]]\n",
    "\n",
    "import numpy as np\n",
    "np.array(scores)"
   ]
  },
  {
   "cell_type": "code",
   "execution_count": 12,
   "id": "dfa75343",
   "metadata": {},
   "outputs": [
    {
     "data": {
      "text/plain": [
       "84.08333333333333"
      ]
     },
     "execution_count": 12,
     "metadata": {},
     "output_type": "execute_result"
    }
   ],
   "source": [
    "# 承上，使用np.mean計算總平均\n",
    "np.mean(scores)"
   ]
  },
  {
   "cell_type": "code",
   "execution_count": 9,
   "id": "665f245c",
   "metadata": {},
   "outputs": [
    {
     "ename": "TypeError",
     "evalue": "unsupported operand type(s) for +: 'int' and 'list'",
     "output_type": "error",
     "traceback": [
      "\u001b[0;31m---------------------------------------------------------------------------\u001b[0m",
      "\u001b[0;31mTypeError\u001b[0m                                 Traceback (most recent call last)",
      "\u001b[0;32m<ipython-input-9-8e40676273c2>\u001b[0m in \u001b[0;36m<module>\u001b[0;34m\u001b[0m\n\u001b[1;32m      3\u001b[0m           \u001b[0;34m[\u001b[0m\u001b[0;36m89\u001b[0m\u001b[0;34m,\u001b[0m \u001b[0;36m88\u001b[0m\u001b[0;34m,\u001b[0m \u001b[0;36m85\u001b[0m\u001b[0;34m,\u001b[0m \u001b[0;36m80\u001b[0m\u001b[0;34m]\u001b[0m\u001b[0;34m,\u001b[0m\u001b[0;34m\u001b[0m\u001b[0;34m\u001b[0m\u001b[0m\n\u001b[1;32m      4\u001b[0m           [75, 77, 78, 70]]\n\u001b[0;32m----> 5\u001b[0;31m \u001b[0msum\u001b[0m\u001b[0;34m(\u001b[0m\u001b[0mscores\u001b[0m\u001b[0;34m)\u001b[0m\u001b[0;34m\u001b[0m\u001b[0;34m\u001b[0m\u001b[0m\n\u001b[0m",
      "\u001b[0;31mTypeError\u001b[0m: unsupported operand type(s) for +: 'int' and 'list'"
     ]
    }
   ],
   "source": [
    "# 承上題，如果使用sum加總？（二維以上無法直接使用）\n",
    "scores = [[90, 92, 95, 90], \n",
    "          [89, 88, 85, 80],\n",
    "          [75, 77, 78, 70]]\n",
    "sum(scores)"
   ]
  },
  {
   "cell_type": "code",
   "execution_count": 8,
   "id": "3b8732a6",
   "metadata": {},
   "outputs": [
    {
     "data": {
      "text/plain": [
       "367"
      ]
     },
     "execution_count": 8,
     "metadata": {},
     "output_type": "execute_result"
    }
   ],
   "source": [
    "# 一維可直接使用sum加總\n",
    "students = [90, 92, 95, 90]\n",
    "sum(students)"
   ]
  },
  {
   "cell_type": "code",
   "execution_count": 4,
   "id": "61953507",
   "metadata": {},
   "outputs": [
    {
     "name": "stdout",
     "output_type": "stream",
     "text": [
      "[90 92 95 90]\n"
     ]
    },
    {
     "data": {
      "text/plain": [
       "(91.75, 85.5, 75.0)"
      ]
     },
     "execution_count": 4,
     "metadata": {},
     "output_type": "execute_result"
    }
   ],
   "source": [
    "# 每個list計算平均\n",
    "\n",
    "import numpy as np\n",
    "\n",
    "scores = np.array([[90, 92, 95, 90], \n",
    "                   [89, 88, 85, 80],\n",
    "                   [75, 77, 78, 70]])\n",
    "\n",
    "print(scores[0, :]) # 第一列的全部\n",
    "\n",
    "np.mean(scores[0, :]), \\\n",
    "np.mean(scores[1, :]), \\\n",
    "np.mean(scores[2, :])"
   ]
  },
  {
   "cell_type": "code",
   "execution_count": 12,
   "id": "93e1c33e",
   "metadata": {},
   "outputs": [
    {
     "name": "stdout",
     "output_type": "stream",
     "text": [
      "91.75\n",
      "85.5\n",
      "75.0\n"
     ]
    }
   ],
   "source": [
    "# Practice\n",
    "# 使用list迴圈計算平均\n",
    "\n",
    "scores = [[90, 92, 95, 90], \n",
    "          [89, 88, 85, 80],\n",
    "          [75, 77, 78, 70]]\n",
    "\n",
    "for s in scores:\n",
    "    print(sum(s) / len(s))"
   ]
  },
  {
   "cell_type": "code",
   "execution_count": 13,
   "id": "8bd044d9",
   "metadata": {},
   "outputs": [
    {
     "data": {
      "text/plain": [
       "[91.75, 85.5, 75.0]"
      ]
     },
     "execution_count": 13,
     "metadata": {},
     "output_type": "execute_result"
    }
   ],
   "source": [
    "# Practice\n",
    "# 使用list comprehension計算平均\n",
    "\n",
    "scores = [[90, 92, 95, 90], \n",
    "          [89, 88, 85, 80],\n",
    "          [75, 77, 78, 70]]\n",
    "\n",
    "[(sum(s) / len(s)) for s in scores]"
   ]
  },
  {
   "cell_type": "code",
   "execution_count": 15,
   "id": "ac0dc56d",
   "metadata": {},
   "outputs": [
    {
     "name": "stdout",
     "output_type": "stream",
     "text": [
      "[91.75 85.5  75.  ]\n",
      "[84.66666667 85.66666667 86.         80.        ]\n"
     ]
    }
   ],
   "source": [
    "# 每個list計算平均的最快用法\n",
    "# 上下axis = 0, 左右axis = 1\n",
    "\n",
    "import numpy as np\n",
    "\n",
    "scores = np.array([[90, 92, 95, 90], \n",
    "                   [89, 88, 85, 80],\n",
    "                   [75, 77, 78, 70]])\n",
    "\n",
    "print(np.mean(scores, axis = 1))\n",
    "print(np.mean(scores, axis = 0))"
   ]
  },
  {
   "cell_type": "code",
   "execution_count": 5,
   "id": "8dce601b",
   "metadata": {
    "scrolled": true
   },
   "outputs": [
    {
     "data": {
      "text/plain": [
       "(array([90, 92, 95, 90, 89, 88, 85, 80, 75, 77, 78, 70]),\n",
       " array([90, 92, 95, 90, 89, 88, 85, 80, 75, 77, 78, 70]))"
      ]
     },
     "execution_count": 5,
     "metadata": {},
     "output_type": "execute_result"
    }
   ],
   "source": [
    "# 如果要轉換成(12,) 1-rank tensor(1-dim array)\n",
    "# flatten()返回一個摺疊成一維的陣列\n",
    "\n",
    "import numpy as np\n",
    "\n",
    "scores = np.array([[90, 92, 95, 90], \n",
    "                   [89, 88, 85, 80],\n",
    "                   [75, 77, 78, 70]])\n",
    "\n",
    "scores.flatten(), scores.ravel() # flatten與ravel執行後結果相同"
   ]
  },
  {
   "cell_type": "code",
   "execution_count": 3,
   "id": "f86841e7",
   "metadata": {},
   "outputs": [
    {
     "data": {
      "text/plain": [
       "(array([[90],\n",
       "        [92],\n",
       "        [95],\n",
       "        [90],\n",
       "        [89],\n",
       "        [88],\n",
       "        [85],\n",
       "        [80],\n",
       "        [75],\n",
       "        [77],\n",
       "        [78],\n",
       "        [70]]),\n",
       " array([[90],\n",
       "        [92],\n",
       "        [95],\n",
       "        [90],\n",
       "        [89],\n",
       "        [88],\n",
       "        [85],\n",
       "        [80],\n",
       "        [75],\n",
       "        [77],\n",
       "        [78],\n",
       "        [70]]))"
      ]
     },
     "execution_count": 3,
     "metadata": {},
     "output_type": "execute_result"
    }
   ],
   "source": [
    "# 如果要轉換成(12, 1) 2-rank tensor(2-dim array)\n",
    "\n",
    "import numpy as np\n",
    "\n",
    "scores = np.array([[90, 92, 95, 90], \n",
    "                   [89, 88, 85, 80],\n",
    "                   [75, 77, 78, 70]])\n",
    "\n",
    "scores.reshape(12, 1), scores.reshape(-1, 1) # 兩種皆可"
   ]
  },
  {
   "cell_type": "code",
   "execution_count": 4,
   "id": "058ace05",
   "metadata": {},
   "outputs": [
    {
     "data": {
      "text/plain": [
       "array([[90, 92, 95, 90, 89, 88, 85, 80, 75, 77, 78, 70]])"
      ]
     },
     "execution_count": 4,
     "metadata": {},
     "output_type": "execute_result"
    }
   ],
   "source": [
    "# 如果要轉換成(1, 12) 2-rank tensor(2-dim array)\n",
    "## 留意與(12,) 1-rank tensor很像，但此差異處為多了一層[]。\n",
    "\n",
    "import numpy as np\n",
    "\n",
    "scores = np.array([[90, 92, 95, 90], \n",
    "                   [89, 88, 85, 80],\n",
    "                   [75, 77, 78, 70]])\n",
    "\n",
    "scores.reshape(1, 12)"
   ]
  },
  {
   "cell_type": "code",
   "execution_count": 10,
   "id": "1985dcdc",
   "metadata": {},
   "outputs": [
    {
     "name": "stdout",
     "output_type": "stream",
     "text": [
      "(2, 2)\n",
      "[[1 2]\n",
      " [3 4]]\n",
      "[[  1 100]\n",
      " [  3   4]]\n"
     ]
    }
   ],
   "source": [
    "# flatten與ravel不同！！！\n",
    "# flatten()：返回的是副本，對副本所做的修改不會影響原始矩陣\n",
    "# ravel()：會影響原始矩陣\n",
    "\n",
    "x = np.array([[1, 2], [3, 4]])\n",
    "print(x.shape)\n",
    "\n",
    "x.flatten()[1] = 100\n",
    "print(x)\n",
    "\n",
    "x.ravel()[1] = 100\n",
    "print(x)"
   ]
  },
  {
   "cell_type": "code",
   "execution_count": 4,
   "id": "18bd64f4",
   "metadata": {},
   "outputs": [
    {
     "name": "stdout",
     "output_type": "stream",
     "text": [
      "[1, 2, 3, 4, 5, 6, 7, 8, 9]\n",
      "[1.0, 1.5, 2.0, 2.5, 3.0, 3.5, 4.0, 4.5, 5.0, 5.5, 6.0, 6.5, 7.0, 7.5, 8.0, 8.5, 9.0, 9.5]\n"
     ]
    }
   ],
   "source": [
    "# np.arange(起始, 結束, 固定間隔)：產生1-dim array，與np.array()差別在np.arange有較大彈性。\n",
    "\n",
    "# list操作(無法以浮點數當間隔)\n",
    "print(list(range(1, 10, 1)))\n",
    "\n",
    "# numpy操作\n",
    "import numpy as np\n",
    "print(list(np.arange(1, 10, 0.5)))"
   ]
  },
  {
   "cell_type": "code",
   "execution_count": 5,
   "id": "9d138058",
   "metadata": {},
   "outputs": [
    {
     "data": {
      "text/plain": [
       "array([ 1.        ,  1.47368421,  1.94736842,  2.42105263,  2.89473684,\n",
       "        3.36842105,  3.84210526,  4.31578947,  4.78947368,  5.26315789,\n",
       "        5.73684211,  6.21052632,  6.68421053,  7.15789474,  7.63157895,\n",
       "        8.10526316,  8.57894737,  9.05263158,  9.52631579, 10.        ])"
      ]
     },
     "execution_count": 5,
     "metadata": {},
     "output_type": "execute_result"
    }
   ],
   "source": [
    "# np.linspace(起始, 結束, 起始與結束的區間內產生幾個元素)：只要給定陣列區間，就可指定在這區間內產生幾個元素，包含結束值\n",
    "# np.linspace(起始, 結束, 起始與結束的區間內產生幾個元素, endpoint = False)：不包含結束值\n",
    "import numpy as np\n",
    "np.linspace(1, 10, 20)"
   ]
  },
  {
   "cell_type": "code",
   "execution_count": 6,
   "id": "1d447313",
   "metadata": {},
   "outputs": [
    {
     "name": "stdout",
     "output_type": "stream",
     "text": [
      "[[-2.00000000e+000  1.49457320e-154  1.97626258e-323  0.00000000e+000]\n",
      " [ 0.00000000e+000  0.00000000e+000 -2.00000000e+000  5.60601841e-309]]\n",
      "-----\n",
      "[[0. 0.]\n",
      " [0. 0.]\n",
      " [0. 0.]]\n",
      "-----\n",
      "[[1. 1. 1. 1. 1.]\n",
      " [1. 1. 1. 1. 1.]]\n"
     ]
    }
   ],
   "source": [
    "# Practice\n",
    "\n",
    "import numpy as np\n",
    "\n",
    "x = np.empty((2, 4))\n",
    "print(x)\n",
    "print('-----')\n",
    "y = np.zeros((3, 2))\n",
    "print(y)\n",
    "print('-----')\n",
    "z = np.ones((2, 5))\n",
    "print(z)"
   ]
  },
  {
   "cell_type": "code",
   "execution_count": 9,
   "id": "2140bc7e",
   "metadata": {},
   "outputs": [
    {
     "name": "stdout",
     "output_type": "stream",
     "text": [
      "[[1. 0. 0. 0. 0. 0.]\n",
      " [0. 1. 0. 0. 0. 0.]\n",
      " [0. 0. 1. 0. 0. 0.]\n",
      " [0. 0. 0. 1. 0. 0.]\n",
      " [0. 0. 0. 0. 1. 0.]\n",
      " [0. 0. 0. 0. 0. 1.]]\n",
      "-----\n",
      "[[1 0 0 0]\n",
      " [0 2 0 0]\n",
      " [0 0 3 0]\n",
      " [0 0 0 4]]\n"
     ]
    }
   ],
   "source": [
    "# Practice\n",
    "\n",
    "import numpy as np\n",
    "\n",
    "x = np.eye(6)\n",
    "print(x)\n",
    "print('-----')\n",
    "y = np.diag([1, 2, 3, 4])\n",
    "print(y)"
   ]
  },
  {
   "cell_type": "code",
   "execution_count": 10,
   "id": "aaabd548",
   "metadata": {},
   "outputs": [
    {
     "name": "stdout",
     "output_type": "stream",
     "text": [
      "[[ 1.   2.8]\n",
      " [ 4.6  6.4]\n",
      " [ 8.2 10. ]]\n",
      "-----\n",
      "[[ 1.   2.8  4.6]\n",
      " [ 6.4  8.2 10. ]]\n",
      "-----\n",
      "[[0 1 2 3]\n",
      " [4 5 6 7]]\n",
      "-----\n",
      "[[0 1]\n",
      " [2 3]\n",
      " [4 5]\n",
      " [6 7]]\n"
     ]
    }
   ],
   "source": [
    "# Practice\n",
    "\n",
    "import numpy as np\n",
    "\n",
    "w = np.linspace(1, 10, 6).reshape((3, 2))\n",
    "print(w)\n",
    "print('-----')\n",
    "x = np.linspace(1, 10, 6).reshape((2, 3))\n",
    "print(x)\n",
    "print('-----')\n",
    "y = np.arange(8).reshape((2, 4))\n",
    "print(y)\n",
    "print('-----')\n",
    "z = np.arange(8).reshape((4, 2))\n",
    "print(z)"
   ]
  },
  {
   "cell_type": "code",
   "execution_count": 11,
   "id": "3bc1a146",
   "metadata": {},
   "outputs": [
    {
     "name": "stdout",
     "output_type": "stream",
     "text": [
      "r1=> [25.  25.5 26.  26.5 27.  27.5 28.  28.5 29.  29.5]\n"
     ]
    }
   ],
   "source": [
    "# Practice\n",
    "# 不包含結束值30\n",
    "\n",
    "import numpy as np\n",
    "\n",
    "r1 = np.arange(25, 30, .5)\n",
    "print('r1=>', r1)"
   ]
  },
  {
   "cell_type": "code",
   "execution_count": 12,
   "id": "0645b82c",
   "metadata": {},
   "outputs": [
    {
     "name": "stdout",
     "output_type": "stream",
     "text": [
      "r1=> [3.   3.25 3.5  3.75 4.   4.25 4.5  4.75 5.  ]\n"
     ]
    }
   ],
   "source": [
    "# Practice\n",
    "# 包含結束值5\n",
    "\n",
    "import numpy as np\n",
    "\n",
    "r1 = np.linspace(3, 5, 9)\n",
    "print('r1=>', r1)"
   ]
  },
  {
   "cell_type": "code",
   "execution_count": 1,
   "id": "ad3e977c",
   "metadata": {},
   "outputs": [
    {
     "name": "stdout",
     "output_type": "stream",
     "text": [
      "a=> [6 7 8 9]\n",
      "b=> [0 1 2 3]\n",
      "c=> [6 6 6 6]\n",
      "d=> [0 1 4 9]\n"
     ]
    }
   ],
   "source": [
    "# Practice\n",
    "\n",
    "import numpy as np\n",
    "\n",
    "a = np.array([6, 7, 8, 9])\n",
    "b = np.arange(4)\n",
    "c = a - b\n",
    "print('a=>', a)\n",
    "print('b=>', b)\n",
    "print('c=>', c)\n",
    "d = b**2\n",
    "print('d=>', d)"
   ]
  },
  {
   "cell_type": "code",
   "execution_count": 5,
   "id": "7307e1fc",
   "metadata": {},
   "outputs": [
    {
     "name": "stdout",
     "output_type": "stream",
     "text": [
      "-1\n",
      "3\n",
      "0\n",
      "[False  True  True False  True]\n"
     ]
    },
    {
     "data": {
      "text/plain": [
       "array([-1,  3,  0])"
      ]
     },
     "execution_count": 5,
     "metadata": {},
     "output_type": "execute_result"
    }
   ],
   "source": [
    "# Practice, Boolean Indexing\n",
    "# important!!!\n",
    "# 尋找元素值，<=3\n",
    "\n",
    "f = np.array([5, -1, 3, 9, 0])\n",
    "\n",
    "## 其他語言寫法\n",
    "\n",
    "for i in f:\n",
    "    if i <= 3:\n",
    "        print(i)\n",
    "\n",
    "\n",
    "## python寫法\n",
    "\n",
    "# 找出boolean\n",
    "indexer = (f <= 3)\n",
    "print(indexer)\n",
    "\n",
    "# 利用boolean快速取出數值\n",
    "(f[indexer])"
   ]
  },
  {
   "cell_type": "code",
   "execution_count": 10,
   "id": "6724e427",
   "metadata": {},
   "outputs": [
    {
     "name": "stdout",
     "output_type": "stream",
     "text": [
      "[-1  3  0]\n",
      "[5 1 1 9 1]\n"
     ]
    }
   ],
   "source": [
    "# 承上題，一般寫法\n",
    "\n",
    "f = np.array([5, -1, 3, 9, 0])\n",
    "print(f[f <= 3]) # 直接印出小於等於3\n",
    "\n",
    "f[f <= 3] = 1 # 將小於等於3轉換成1再印出\n",
    "print(f)"
   ]
  },
  {
   "cell_type": "code",
   "execution_count": 11,
   "id": "e8256487",
   "metadata": {},
   "outputs": [
    {
     "name": "stdout",
     "output_type": "stream",
     "text": [
      "[ 8  9 10 11]\n"
     ]
    }
   ],
   "source": [
    "# Practice\n",
    "\n",
    "import numpy as np\n",
    "a = np.array([6, 7, 8, 9])\n",
    "a += 2\n",
    "print(a)"
   ]
  },
  {
   "cell_type": "code",
   "execution_count": 21,
   "id": "f1c40f47",
   "metadata": {},
   "outputs": [
    {
     "name": "stdout",
     "output_type": "stream",
     "text": [
      "7\n",
      "[[ True  True  True  True]\n",
      " [ True  True  True False]\n",
      " [False False False False]]\n",
      "7\n",
      "7\n"
     ]
    }
   ],
   "source": [
    "# Practice\n",
    "# >=85有幾個(三種寫法)\n",
    "\n",
    "import numpy as np\n",
    "\n",
    "scores = np.array([[90, 92, 95, 90],\n",
    "                   [89, 85, 88, 80],\n",
    "                   [75, 77, 78, 70]])\n",
    "\n",
    "print(scores[scores >= 85].shape[0])\n",
    "\n",
    "# sum的用法是將True加總\n",
    "print(scores >= 85)\n",
    "print((scores >= 85).sum())\n",
    "print(np.sum(scores >= 85, axis = None))"
   ]
  },
  {
   "cell_type": "markdown",
   "id": "0ab5c7e2",
   "metadata": {},
   "source": [
    "## 指定與重設"
   ]
  },
  {
   "cell_type": "code",
   "execution_count": 1,
   "id": "166915d3",
   "metadata": {},
   "outputs": [
    {
     "data": {
      "text/plain": [
       "array([90, 92, 95, 90, 89, 88, 85, 80, 75, 78, 77, 70])"
      ]
     },
     "execution_count": 1,
     "metadata": {},
     "output_type": "execute_result"
    }
   ],
   "source": [
    "# 間隔選取[頭：尾：幾個]\n",
    "\n",
    "import numpy as np\n",
    "\n",
    "data = np.array([90, 92, 95, 90, 89, 88, 85, 80, 75, 78, 77, 70])\n",
    "data[ : : ]"
   ]
  },
  {
   "cell_type": "code",
   "execution_count": 2,
   "id": "c01bdba5",
   "metadata": {},
   "outputs": [
    {
     "data": {
      "text/plain": [
       "array([90, 95, 89, 85, 75, 77])"
      ]
     },
     "execution_count": 2,
     "metadata": {},
     "output_type": "execute_result"
    }
   ],
   "source": [
    "# 每兩個取一個值\n",
    "\n",
    "import numpy as np\n",
    "\n",
    "data = np.array([90, 92, 95, 90, 89, 88, 85, 80, 75, 78, 77, 70])\n",
    "data[ : : 2]"
   ]
  },
  {
   "cell_type": "code",
   "execution_count": 3,
   "id": "5a55f300",
   "metadata": {},
   "outputs": [
    {
     "data": {
      "text/plain": [
       "array([70, 77, 78, 75, 80, 85, 88, 89, 90, 95, 92, 90])"
      ]
     },
     "execution_count": 3,
     "metadata": {},
     "output_type": "execute_result"
    }
   ],
   "source": [
    "# 遇到負號，則倒序（由尾到頭）\n",
    "\n",
    "import numpy as np\n",
    "\n",
    "data = np.array([90, 92, 95, 90, 89, 88, 85, 80, 75, 78, 77, 70])\n",
    "data[ : : -1]"
   ]
  },
  {
   "cell_type": "code",
   "execution_count": 4,
   "id": "9ee5cfca",
   "metadata": {},
   "outputs": [
    {
     "data": {
      "text/plain": [
       "array([[90, 92, 95, 90],\n",
       "       [89, 88, 85, 80],\n",
       "       [75, 77, 78, 70]])"
      ]
     },
     "execution_count": 4,
     "metadata": {},
     "output_type": "execute_result"
    }
   ],
   "source": [
    "# 指定位置[row, column]，僅適用於2-rank tensor(2-dim array)\n",
    "\n",
    "import numpy as np\n",
    "\n",
    "scores = np.array([[90, 92, 95, 90], \n",
    "                   [89, 88, 85, 80],\n",
    "                   [75, 77, 78, 70]])\n",
    "\n",
    "scores[ : , : ] # 全部上下，全部左右"
   ]
  },
  {
   "cell_type": "code",
   "execution_count": 6,
   "id": "5621219b",
   "metadata": {},
   "outputs": [
    {
     "data": {
      "text/plain": [
       "array([[90, 92],\n",
       "       [89, 88]])"
      ]
     },
     "execution_count": 6,
     "metadata": {},
     "output_type": "execute_result"
    }
   ],
   "source": [
    "# 承上，指定位置[row, column]\n",
    "\n",
    "import numpy as np\n",
    "\n",
    "scores = np.array([[90, 92, 95, 90], \n",
    "                   [89, 88, 85, 80],\n",
    "                   [75, 77, 78, 70]])\n",
    "\n",
    "scores[ :2, :2] # 第0列取前兩個，第0行取前兩個"
   ]
  },
  {
   "cell_type": "code",
   "execution_count": 7,
   "id": "92d27486",
   "metadata": {},
   "outputs": [
    {
     "data": {
      "text/plain": [
       "array([[75, 77, 78, 70]])"
      ]
     },
     "execution_count": 7,
     "metadata": {},
     "output_type": "execute_result"
    }
   ],
   "source": [
    "# 承上，指定位置[row, column]\n",
    "\n",
    "import numpy as np\n",
    "\n",
    "scores = np.array([[90, 92, 95, 90], \n",
    "                   [89, 88, 85, 80],\n",
    "                   [75, 77, 78, 70]])\n",
    "\n",
    "scores[-1, : ] # 第2列的全部"
   ]
  },
  {
   "cell_type": "code",
   "execution_count": 8,
   "id": "2e3e7617",
   "metadata": {},
   "outputs": [
    {
     "data": {
      "text/plain": [
       "array([[89, 88, 85, 80],\n",
       "       [75, 77, 78, 70]])"
      ]
     },
     "execution_count": 8,
     "metadata": {},
     "output_type": "execute_result"
    }
   ],
   "source": [
    "# 承上，指定位置[row, column]\n",
    "\n",
    "import numpy as np\n",
    "\n",
    "scores = np.array([[90, 92, 95, 90], \n",
    "                   [89, 88, 85, 80],\n",
    "                   [75, 77, 78, 70]])\n",
    "\n",
    "scores[1: , : ] # 第1列之後的全部"
   ]
  },
  {
   "cell_type": "code",
   "execution_count": 19,
   "id": "1f3e3333",
   "metadata": {},
   "outputs": [
    {
     "data": {
      "text/plain": [
       "array([[90, 95],\n",
       "       [75, 78]])"
      ]
     },
     "execution_count": 19,
     "metadata": {},
     "output_type": "execute_result"
    }
   ],
   "source": [
    "# test，取出第0列第0和2個，第2列第0和2個\n",
    "\n",
    "import numpy as np\n",
    "\n",
    "scores = np.array([[90, 92, 95, 90], \n",
    "                   [89, 88, 85, 80],\n",
    "                   [75, 77, 78, 70]])\n",
    "\n",
    "scores[ : :2, : :2]"
   ]
  },
  {
   "cell_type": "code",
   "execution_count": 22,
   "id": "ee58108d",
   "metadata": {},
   "outputs": [
    {
     "data": {
      "text/plain": [
       "array([[90, 90],\n",
       "       [75, 70]])"
      ]
     },
     "execution_count": 22,
     "metadata": {},
     "output_type": "execute_result"
    }
   ],
   "source": [
    "# test，取出第0列第0和3個，第2列第0和3個\n",
    "\n",
    "import numpy as np\n",
    "\n",
    "scores = np.array([[90, 92, 95, 90], \n",
    "                   [89, 88, 85, 80],\n",
    "                   [75, 77, 78, 70]])\n",
    "\n",
    "scores[ : :2, : :3]"
   ]
  },
  {
   "cell_type": "code",
   "execution_count": 23,
   "id": "46384557",
   "metadata": {},
   "outputs": [
    {
     "data": {
      "text/plain": [
       "array([90, 70, 75, 90])"
      ]
     },
     "execution_count": 23,
     "metadata": {},
     "output_type": "execute_result"
    }
   ],
   "source": [
    "# Fancy Indexing\n",
    "# 如遇無規則取值，僅能以下方式操作\n",
    "\n",
    "import numpy as np\n",
    "\n",
    "scores = np.array([[90, 92, 95, 90], \n",
    "                   [89, 88, 85, 80],\n",
    "                   [75, 77, 78, 70]])\n",
    "\n",
    "scores[[0, -1, -1, 0], [0, -1, 0, -1]]"
   ]
  },
  {
   "cell_type": "code",
   "execution_count": 24,
   "id": "146e20f4",
   "metadata": {},
   "outputs": [
    {
     "name": "stdout",
     "output_type": "stream",
     "text": [
      "[[1 2 3]\n",
      " [3 6 9]\n",
      " [2 4 6]]\n",
      "---------\n",
      "[1 2 3]\n",
      "---------\n",
      "9\n"
     ]
    }
   ],
   "source": [
    "# Practice\n",
    "\n",
    "import numpy as np\n",
    "\n",
    "a = np.array([[1, 2, 3],\n",
    "              [3, 6, 9],\n",
    "              [2, 4, 6]])\n",
    "\n",
    "print(a)\n",
    "print('---------')\n",
    "print(a[0])\n",
    "print('---------')\n",
    "print(a[1, 2])"
   ]
  },
  {
   "cell_type": "code",
   "execution_count": 25,
   "id": "7777ce91",
   "metadata": {},
   "outputs": [
    {
     "name": "stdout",
     "output_type": "stream",
     "text": [
      "[6 9]\n",
      "---------\n",
      "[2 6 4]\n",
      "---------\n",
      "[[1 2 3]\n",
      " [3 6 7]\n",
      " [2 4 6]]\n",
      "---------\n",
      "[[0 2 3]\n",
      " [9 6 7]\n",
      " [8 4 6]]\n"
     ]
    }
   ],
   "source": [
    "# Practice\n",
    "\n",
    "import numpy as np\n",
    "\n",
    "a = np.array([[1, 2, 3],\n",
    "              [3, 6, 9],\n",
    "              [2, 4, 6]])\n",
    "\n",
    "print(a[1, 1:3])\n",
    "print('---------')\n",
    "print(a[ : , 1])\n",
    "print('---------')\n",
    "a[1, 2] = 7\n",
    "print(a)\n",
    "print('---------')\n",
    "a[ : , 0] = [0, 9, 8]\n",
    "print(a)"
   ]
  },
  {
   "cell_type": "code",
   "execution_count": 26,
   "id": "07a2a8af",
   "metadata": {},
   "outputs": [
    {
     "data": {
      "text/plain": [
       "(array([1, 2, 3, 4, 5]), array([2, 3]), 2, 4)"
      ]
     },
     "execution_count": 26,
     "metadata": {},
     "output_type": "execute_result"
    }
   ],
   "source": [
    "# 觀念加強：1-rank tensor = list\n",
    "\n",
    "import numpy as np\n",
    "\n",
    "a = np.array([1, 2, 3, 4, 5])\n",
    "a[ : ],a[1:3],a[1],a[3]"
   ]
  },
  {
   "cell_type": "code",
   "execution_count": 27,
   "id": "411c4491",
   "metadata": {},
   "outputs": [
    {
     "name": "stdout",
     "output_type": "stream",
     "text": [
      "--1--\n",
      "[3 4]\n",
      "--2--\n",
      "[[44 45]\n",
      " [54 55]]\n",
      "--3--\n",
      "[[ 0  1  2]\n",
      " [10 11 12]\n",
      " [20 21 22]]\n",
      "--4--\n",
      "[ 2 12 22 32 42 52]\n"
     ]
    }
   ],
   "source": [
    "# Practice：陣列指定位置取值-給予一個整數\n",
    "\n",
    "import numpy as np\n",
    "\n",
    "a = np.array([[ 0, 1, 2, 3, 4, 5],\n",
    "              [10,11,12,13,14,15],\n",
    "              [20,21,22,23,24,25],\n",
    "              [30,31,32,33,34,35],\n",
    "              [40,41,42,43,44,45],\n",
    "              [50,51,52,53,54,55],])\n",
    "\n",
    "print(\"--1--\")\n",
    "print(a[0,3:5]) # 第0個row, 第3,4個column\n",
    "print(\"--2--\")\n",
    "print(a[4:,4:]) # 第4個以後的row, 第4個以後的column\n",
    "print(\"--3--\")\n",
    "print(a[:3,:3]) # 前三個row, 前三個column\n",
    "print(\"--4--\")\n",
    "print(a[:,2])   # 全部的row, 第2個column"
   ]
  },
  {
   "cell_type": "code",
   "execution_count": 28,
   "id": "6cdd190e",
   "metadata": {},
   "outputs": [
    {
     "name": "stdout",
     "output_type": "stream",
     "text": [
      "--1--\n",
      "[ 1 12 23 34 45]\n",
      "--2--\n",
      "[[30 32 35]\n",
      " [40 42 45]\n",
      " [50 52 55]]\n"
     ]
    }
   ],
   "source": [
    "# Practice：陣列指定位置取值-tuple或list\n",
    "\n",
    "import numpy as np\n",
    "\n",
    "a = np.array([[ 0, 1, 2, 3, 4, 5],\n",
    "              [10,11,12,13,14,15],\n",
    "              [20,21,22,23,24,25],\n",
    "              [30,31,32,33,34,35],\n",
    "              [40,41,42,43,44,45],\n",
    "              [50,51,52,53,54,55],])\n",
    "\n",
    "print(\"--1--\")\n",
    "print(a[(0,1,2,3,4),(1,2,3,4,5)]) # 對應的位置：(0,1),(1,2),(2,3),(3,4),(4,5)\n",
    "print(\"--2--\")\n",
    "print(a[3:,[0, 2, 5]]) # 第3個row以後, 第0,2,5個column"
   ]
  },
  {
   "cell_type": "code",
   "execution_count": 29,
   "id": "cf0be0f5",
   "metadata": {},
   "outputs": [
    {
     "name": "stdout",
     "output_type": "stream",
     "text": [
      "[[1 2 3]\n",
      " [4 5 6]]\n",
      "(2, 3)\n",
      "------\n",
      "[[1 2]\n",
      " [3 4]\n",
      " [5 6]]\n",
      "(3, 2)\n",
      "------\n",
      "[[  1 100   3]\n",
      " [  4   5   6]]\n",
      "[[  1 100]\n",
      " [  3   4]\n",
      " [  5   6]]\n",
      "(3, 2)\n"
     ]
    }
   ],
   "source": [
    "# resize(arr1, shape1)：依據原本的陣列再設定指定大小的新陣列。\n",
    "# arr1：原本的陣列，shape1：新規劃的大小\n",
    "\n",
    "#reshape操作\n",
    "import numpy as np\n",
    "\n",
    "a = np.array([[1,2,3],\n",
    "              [4,5,6]\n",
    "             ])\n",
    "\n",
    "print(a)\n",
    "print(a.shape)\n",
    "print('------')\n",
    "b = a.reshape(3,2) # --->此處再加上.copy()，就能將a、b分隔兩個陣列，不會產生連動！！！\n",
    "print(b)\n",
    "print(b.shape)\n",
    "print('------')\n",
    "a[0,1]=100\n",
    "print(a)\n",
    "print(b) # 因為a、b僅是shape不同，但是內容相同，因此若改到a，則b會連動。\n",
    "print(b.shape)"
   ]
  },
  {
   "cell_type": "code",
   "execution_count": 31,
   "id": "ad070c06",
   "metadata": {},
   "outputs": [
    {
     "name": "stdout",
     "output_type": "stream",
     "text": [
      "[[1 2 3]\n",
      " [4 5 6]]\n",
      "(2, 3)\n",
      "------\n",
      "[[1 2 3]\n",
      " [4 5 6]\n",
      " [1 2 3]]\n",
      "(3, 3)\n",
      "------\n",
      "[[1 2 3]\n",
      " [4 5 6]\n",
      " [1 2 3]]\n",
      "(3, 3)\n",
      "(2, 3)\n",
      "[[  1 100   3]\n",
      " [  4   5   6]]\n"
     ]
    }
   ],
   "source": [
    "# 承上\n",
    "\n",
    "#resize操作\n",
    "import numpy as np\n",
    "\n",
    "a = np.array([[1, 2, 3],\n",
    "              [4, 5, 6]])\n",
    "\n",
    "print(a)\n",
    "print(a.shape)\n",
    "print('------')\n",
    "b = np.resize(a, (3,3)) # 多出來就重複遞補\n",
    "print(b)\n",
    "print(b.shape)\n",
    "print('------')\n",
    "a[0,1] = 100 \n",
    "print(b) # .resize()為建立新的陣列，因此無連動影響。\n",
    "print(b.shape)\n",
    "print(a.shape)\n",
    "print(a)"
   ]
  },
  {
   "cell_type": "markdown",
   "id": "be71950f",
   "metadata": {},
   "source": [
    "## 數值計算與處理"
   ]
  },
  {
   "cell_type": "code",
   "execution_count": 1,
   "id": "4a7b7fb3",
   "metadata": {},
   "outputs": [
    {
     "name": "stdout",
     "output_type": "stream",
     "text": [
      "[[11 12 13]\n",
      " [14 15 16]\n",
      " [17 18 19]]\n",
      "------\n",
      "[[-9 -8 -7]\n",
      " [-6 -5 -4]\n",
      " [-3 -2 -1]]\n",
      "------\n",
      "[[10 20 30]\n",
      " [40 50 60]\n",
      " [70 80 90]]\n",
      "------\n",
      "[[0.1 0.2 0.3]\n",
      " [0.4 0.5 0.6]\n",
      " [0.7 0.8 0.9]]\n"
     ]
    }
   ],
   "source": [
    "# np.add()：加，亦可使用+\n",
    "# np.subtract()：減，亦可使用-\n",
    "# np.multiply()：乘，亦可使用*\n",
    "# np.divide()：除，亦可使用/\n",
    "\n",
    "import numpy as np\n",
    "\n",
    "a = np.array([[1, 2, 3],\n",
    "              [4, 5, 6],\n",
    "              [7, 8, 9]\n",
    "             ])\n",
    "\n",
    "b = np.array([10,10,10])\n",
    "c = np.add(a, b)\n",
    "print(c)\n",
    "print('------')\n",
    "d = np.subtract(a, b)\n",
    "print(d)\n",
    "print('------')\n",
    "f = np.multiply(a, b)\n",
    "print(f)\n",
    "print('------')\n",
    "g = np.divide(a, b)\n",
    "print(g)"
   ]
  },
  {
   "cell_type": "code",
   "execution_count": 2,
   "id": "cda481e1",
   "metadata": {},
   "outputs": [
    {
     "name": "stdout",
     "output_type": "stream",
     "text": [
      "[[11 12 13]\n",
      " [14 15 16]\n",
      " [17 18 19]]\n",
      "------\n",
      "[[-9 -8 -7]\n",
      " [-6 -5 -4]\n",
      " [-3 -2 -1]]\n",
      "------\n",
      "[[10 20 30]\n",
      " [40 50 60]\n",
      " [70 80 90]]\n",
      "------\n",
      "[[0.1 0.2 0.3]\n",
      " [0.4 0.5 0.6]\n",
      " [0.7 0.8 0.9]]\n"
     ]
    }
   ],
   "source": [
    "# Practice\n",
    "\n",
    "import numpy as np\n",
    "\n",
    "a = np.array([[1, 2, 3],\n",
    "              [4, 5, 6],\n",
    "              [7, 8, 9]\n",
    "             ])\n",
    "\n",
    "b = np.array([10, 10, 10])\n",
    "c = a + b\n",
    "print(c)\n",
    "print('------')\n",
    "d = a - b\n",
    "print(d)\n",
    "print('------')\n",
    "f = a * b\n",
    "print(f)\n",
    "print('------')\n",
    "g = a / b\n",
    "print(g)"
   ]
  },
  {
   "cell_type": "code",
   "execution_count": 3,
   "id": "a04d3d15",
   "metadata": {},
   "outputs": [
    {
     "data": {
      "text/plain": [
       "array([[ 1,  4,  9],\n",
       "       [16, 25, 36],\n",
       "       [49, 64, 81]])"
      ]
     },
     "execution_count": 3,
     "metadata": {},
     "output_type": "execute_result"
    }
   ],
   "source": [
    "# np.power(a, n)：a陣列的次方，亦可a**n \n",
    "\n",
    "import numpy as np\n",
    "\n",
    "a = np.array([[1, 2, 3],\n",
    "              [4, 5, 6],\n",
    "              [7, 8, 9]])\n",
    "\n",
    "a ** 2"
   ]
  },
  {
   "cell_type": "code",
   "execution_count": 4,
   "id": "2944d310",
   "metadata": {},
   "outputs": [
    {
     "data": {
      "text/plain": [
       "array([[1.        , 0.5       , 0.33333333],\n",
       "       [0.25      , 0.2       , 0.16666667],\n",
       "       [0.14285714, 0.125     , 0.11111111]])"
      ]
     },
     "execution_count": 4,
     "metadata": {},
     "output_type": "execute_result"
    }
   ],
   "source": [
    "# np.reciprocal()：倒數的計算，倒數是指a*b=1，輸入a後求b。分之一\n",
    "\n",
    "import numpy as np\n",
    "\n",
    "a = np.array([[1, 2, 3],\n",
    "              [4, 5, 6],\n",
    "              [7, 8, 9]])\n",
    "\n",
    "1 / a"
   ]
  },
  {
   "cell_type": "code",
   "execution_count": 5,
   "id": "6628a2fb",
   "metadata": {},
   "outputs": [
    {
     "name": "stdout",
     "output_type": "stream",
     "text": [
      "[4 5 6]\n",
      "------\n",
      "[16 25 36]\n",
      "------\n",
      "[  4  25 216]\n",
      "------\n",
      "[  4  25 216]\n"
     ]
    }
   ],
   "source": [
    "# Practice\n",
    "\n",
    "import numpy as np\n",
    "\n",
    "a = np.array([4, 5, 6])\n",
    "print(a)\n",
    "print('------')\n",
    "b = np.power(a, 2)\n",
    "print(b)\n",
    "print('------')\n",
    "c = np.array([1, 2, 3])\n",
    "d = np.power(a, c)\n",
    "print(d)\n",
    "print('------')\n",
    "h = a ** c # 次方\n",
    "print(h)"
   ]
  },
  {
   "cell_type": "code",
   "execution_count": 6,
   "id": "460bab49",
   "metadata": {},
   "outputs": [
    {
     "name": "stdout",
     "output_type": "stream",
     "text": [
      "[  0.25   1.33   1.    -0.1  100.  ]\n",
      "------\n",
      "[  4.          0.7518797   1.        -10.          0.01     ]\n",
      "------\n"
     ]
    },
    {
     "data": {
      "text/plain": [
       "array([  4.       ,   0.7518797,   1.       , -10.       ,   0.01     ])"
      ]
     },
     "execution_count": 6,
     "metadata": {},
     "output_type": "execute_result"
    }
   ],
   "source": [
    "# Practice\n",
    "\n",
    "import numpy as np\n",
    "\n",
    "a = np.array([0.25, 1.33, 1, -0.1, 100])\n",
    "print(a)\n",
    "print('------')\n",
    "b = np.reciprocal(a)\n",
    "print(b)\n",
    "print('------')\n",
    "1 / a # --->等同b的結果"
   ]
  },
  {
   "cell_type": "code",
   "execution_count": 9,
   "id": "a9504524",
   "metadata": {},
   "outputs": [
    {
     "name": "stdout",
     "output_type": "stream",
     "text": [
      "[2. 2.]\n",
      "[-0.5  0.5]\n"
     ]
    }
   ],
   "source": [
    "# np.around()：代表四捨五入\n",
    "# decimals小數位數，預設為0，如果為負數，左邊的正整數將依序四捨五入進位。\n",
    "\n",
    "import numpy as np\n",
    "\n",
    "print(np.around([1.5, 2.5], decimals = 0))\n",
    "print(np.around([-0.5, 0.5], decimals = 1))"
   ]
  },
  {
   "cell_type": "code",
   "execution_count": 11,
   "id": "459fac67",
   "metadata": {},
   "outputs": [
    {
     "name": "stdout",
     "output_type": "stream",
     "text": [
      "[1. 1.]\n",
      "[2. 2.]\n"
     ]
    }
   ],
   "source": [
    "# np.floor()：回傳不大於輸入參數的最大整數。無條件捨去\n",
    "# np.ceil()：回傳大於輸入參數的最小整數。無條件進位\n",
    "\n",
    "import numpy as np\n",
    "\n",
    "print(np.floor([1.234, 1.998]))\n",
    "print(np.ceil([1.234, 1.998]))"
   ]
  },
  {
   "cell_type": "code",
   "execution_count": 12,
   "id": "cc85ba9d",
   "metadata": {},
   "outputs": [
    {
     "name": "stdout",
     "output_type": "stream",
     "text": [
      "[1 0 2]\n",
      "------\n",
      "[1 0 2]\n",
      "------\n",
      "[1 0 2]\n"
     ]
    }
   ],
   "source": [
    "# np.mod(a, b) = np.remainder()：代表a除以b的餘數。\n",
    "\n",
    "import numpy as np\n",
    "\n",
    "a = np.array([10, 20, 30])\n",
    "b = np.array([3, 5, 7])\n",
    "print(a % b)\n",
    "print('------')\n",
    "c = np.mod(a, b)\n",
    "print(c)\n",
    "print('------')\n",
    "d = np.remainder(a, b)\n",
    "print(d)"
   ]
  },
  {
   "cell_type": "code",
   "execution_count": 13,
   "id": "bbaf928c",
   "metadata": {},
   "outputs": [
    {
     "name": "stdout",
     "output_type": "stream",
     "text": [
      "[  1.      5.45  123.      0.567  25.532]\n",
      "------\n",
      "[  1.   5. 123.   1.  26.]\n",
      "[  1.    5.4 123.    0.6  25.5]\n",
      "[  0.  10. 120.   0.  30.]\n",
      "[  0.   0. 100.   0.   0.]\n"
     ]
    }
   ],
   "source": [
    "# practice\n",
    "\n",
    "import numpy as np\n",
    "\n",
    "a = np.array([1.0, 5.45, 123, 0.567, 25.532])\n",
    "print(a)\n",
    "print('------')\n",
    "b = np.around(a)\n",
    "print(b)\n",
    "print(np.around(a, decimals = 1) ) # 小數點下一位\n",
    "print(np.around(a, decimals = -1)) # 十位數\n",
    "print(np.around(a, decimals = -2)) # 百位數"
   ]
  },
  {
   "cell_type": "code",
   "execution_count": 1,
   "id": "5921e267",
   "metadata": {},
   "outputs": [
    {
     "name": "stdout",
     "output_type": "stream",
     "text": [
      "[-1.7  1.5 -0.2  0.6 10. ]\n",
      "------\n",
      "[-2.  1. -1.  0. 10.]\n",
      "------\n",
      "[-1.  2. -0.  1. 10.]\n"
     ]
    }
   ],
   "source": [
    "# Practice\n",
    "\n",
    "import numpy as np\n",
    "a = np.array([-1.7, 1.5, -0.2, 0.6, 10])\n",
    "print(a)\n",
    "print('------')\n",
    "b=np.floor(a)\n",
    "print(b)\n",
    "print('------')\n",
    "c=np.ceil(a)\n",
    "print(c)"
   ]
  },
  {
   "cell_type": "code",
   "execution_count": 6,
   "id": "5dac0080",
   "metadata": {},
   "outputs": [
    {
     "name": "stdout",
     "output_type": "stream",
     "text": [
      "全部最高分 95\n",
      "每個column的最高分 [90 92 95 90]\n",
      "每個row的最高分 [95 89 78]\n"
     ]
    }
   ],
   "source": [
    "# np.max()：某個陣列內容的最大值，也可指定陣列的哪一軸(axis)內容的最大值。\n",
    "# np.min()：某個陣列內容的最小值，也可指定陣列的哪一軸(axis)內容的最小值。\n",
    "# np.sum()：某個陣列內容的總和，也可指定陣列的哪一軸(axis)內容的總和。\n",
    "\n",
    "import numpy as np\n",
    "\n",
    "scores = np.array([[90, 92, 95, 90], \n",
    "                   [89, 88, 85, 80],\n",
    "                   [75, 77, 78, 70]])\n",
    "\n",
    "print('全部最高分',np.max(scores))\n",
    "print('每個column的最高分', np.max(scores, axis = 0))\n",
    "print('每個row的最高分', np.max(scores, axis = 1))"
   ]
  },
  {
   "cell_type": "code",
   "execution_count": 7,
   "id": "74137252",
   "metadata": {},
   "outputs": [
    {
     "name": "stdout",
     "output_type": "stream",
     "text": [
      "[[ 0 30 45]\n",
      " [60 75 90]]\n",
      "---------------\n",
      "300\n",
      "---------------\n",
      "[ 60 105 135]\n",
      "---------------\n",
      "[ 75 225]\n"
     ]
    }
   ],
   "source": [
    "# Practice\n",
    "\n",
    "import numpy as np\n",
    "\n",
    "a = np.array([[ 0, 30, 45],\n",
    "              [60, 75, 90]])\n",
    "\n",
    "print(a)\n",
    "print(\"---------------\")\n",
    "b = np.sum(a)\n",
    "print(b)\n",
    "print(\"---------------\")\n",
    "b = np.sum(a, axis = 0)\n",
    "print(b)\n",
    "print(\"---------------\")\n",
    "b = np.sum(a, axis = 1)\n",
    "print(b)"
   ]
  },
  {
   "cell_type": "code",
   "execution_count": 8,
   "id": "57e7e9aa",
   "metadata": {},
   "outputs": [
    {
     "name": "stdout",
     "output_type": "stream",
     "text": [
      "[[ 0 30 45]\n",
      " [60 75 90]]\n",
      "---------------\n",
      "90\n",
      "---------------\n",
      "[60 75 90]\n",
      "---------------\n",
      "[45 90]\n"
     ]
    }
   ],
   "source": [
    "# Practice\n",
    "\n",
    "import numpy as np\n",
    "\n",
    "a = np.array([[ 0, 30, 45],\n",
    "              [60, 75, 90]])\n",
    "\n",
    "print(a)\n",
    "print(\"---------------\")\n",
    "b = np.max(a)\n",
    "print(b)\n",
    "print(\"---------------\")\n",
    "b = np.max(a, axis = 0)\n",
    "print(b)\n",
    "print(\"---------------\")\n",
    "b = np.max(a, axis = 1)\n",
    "print(b)"
   ]
  },
  {
   "cell_type": "code",
   "execution_count": 9,
   "id": "b3daa649",
   "metadata": {},
   "outputs": [
    {
     "data": {
      "text/plain": [
       "array([91.75, 85.5 , 75.  ])"
      ]
     },
     "execution_count": 9,
     "metadata": {},
     "output_type": "execute_result"
    }
   ],
   "source": [
    "# mean()：取出陣列或陣列中指定的軸之平均數。\n",
    "\n",
    "# 每一個權重都相同\n",
    "import numpy as np\n",
    "\n",
    "scores = np.array([[90, 92, 95, 90], \n",
    "                   [89, 88, 85, 80],\n",
    "                   [75, 77, 78, 70]])\n",
    "\n",
    "\n",
    "np.mean(scores, axis = 1)"
   ]
  },
  {
   "cell_type": "code",
   "execution_count": 11,
   "id": "6accb2f1",
   "metadata": {},
   "outputs": [
    {
     "data": {
      "text/plain": [
       "array([91.4, 84.4, 74. ])"
      ]
     },
     "execution_count": 11,
     "metadata": {},
     "output_type": "execute_result"
    }
   ],
   "source": [
    "# average()：方法與mean相似，可加入權重進行計算。\n",
    "# 參數-> weights：權重，若沒有則設定為1。\n",
    "#       returned：若設定為True，返回計算結果、權重相加總和，若無設定或設定False，則只計算結果。\n",
    "\n",
    "# 每一個權重都不同，利用np.average計算三個row的平均數。\n",
    "import numpy as np\n",
    "\n",
    "scores = np.array([[90, 92, 95, 90], \n",
    "                   [89, 88, 85, 80],\n",
    "                   [75, 77, 78, 70]])\n",
    "\n",
    "w = np.array([0.2, 0.2, 0.2, 0.4])\n",
    "\n",
    "np.average(scores, axis = 1, weights = w)"
   ]
  },
  {
   "cell_type": "code",
   "execution_count": 12,
   "id": "4748341d",
   "metadata": {},
   "outputs": [
    {
     "name": "stdout",
     "output_type": "stream",
     "text": [
      "[[ 0 30 45]\n",
      " [60 75 90]]\n",
      "---------------\n",
      "52.5\n",
      "---------------\n",
      "[30.  52.5 67.5]\n",
      "---------------\n",
      "[30. 75.]\n"
     ]
    }
   ],
   "source": [
    "# median()：取出陣列或陣列中指定的軸之中位數。\n",
    "# 把所有值高低排序後，找出正中間作為中位數；如果資料數為偶數，則取最中間的兩個數值的平均數。\n",
    "\n",
    "import numpy as np\n",
    "\n",
    "a = np.array([[ 0, 30, 45],\n",
    "              [60, 75, 90]])\n",
    "\n",
    "print(a)\n",
    "print(\"---------------\")\n",
    "b = np.median(a)\n",
    "print(b)\n",
    "print(\"---------------\")\n",
    "b = np.median(a, axis = 0)\n",
    "print(b)\n",
    "print(\"---------------\")\n",
    "b = np.median(a, axis = 1)\n",
    "print(b)"
   ]
  },
  {
   "cell_type": "code",
   "execution_count": 13,
   "id": "f8bc0fa1",
   "metadata": {},
   "outputs": [
    {
     "name": "stdout",
     "output_type": "stream",
     "text": [
      "[[ 0 30 45]\n",
      " [60 75 90]]\n",
      "---------------\n",
      "50.0\n",
      "---------------\n",
      "[30.  52.5 67.5]\n",
      "---------------\n",
      "[25. 75.]\n"
     ]
    }
   ],
   "source": [
    "# Practice\n",
    "\n",
    "import numpy as np\n",
    "\n",
    "a = np.array([[ 0, 30, 45],\n",
    "              [60, 75, 90]])\n",
    "\n",
    "print(a)\n",
    "print(\"---------------\")\n",
    "b = np.mean(a)\n",
    "print(b)\n",
    "print(\"---------------\")\n",
    "b = np.mean(a, axis = 0)\n",
    "print(b)\n",
    "print(\"---------------\")\n",
    "b = np.mean(a, axis = 1)\n",
    "print(b)"
   ]
  },
  {
   "cell_type": "code",
   "execution_count": 14,
   "id": "a1f6498a",
   "metadata": {},
   "outputs": [
    {
     "name": "stdout",
     "output_type": "stream",
     "text": [
      "2.5\n",
      "---------\n",
      "2.0\n",
      "---------\n",
      "(2.0, 10.0)\n"
     ]
    }
   ],
   "source": [
    "# Practice\n",
    "\n",
    "import numpy as np\n",
    "\n",
    "a = np.array([1,2,3,4])\n",
    "b = np.average(a)\n",
    "print(b)\n",
    "print(\"---------\")\n",
    "wts = np.array([4,3,2,1])\n",
    "b = np.average(a, weights = wts)\n",
    "print(b)\n",
    "print(\"---------\")\n",
    "b = np.average(       a = [1,2,3,4],\n",
    "               weights  = [4,3,2,1], \n",
    "               returned = True)\n",
    "print(b)"
   ]
  },
  {
   "cell_type": "code",
   "execution_count": 16,
   "id": "20873730",
   "metadata": {},
   "outputs": [
    {
     "name": "stdout",
     "output_type": "stream",
     "text": [
      "(2.4, 10.0)\n",
      "2.4\n"
     ]
    }
   ],
   "source": [
    "# 觀念強調\n",
    "# True代表除了計算結果，也使權重相加。\n",
    "\n",
    "a = np.array([2,2,3,4])\n",
    "wts = np.array([4,3,2,1])\n",
    "\n",
    "b = np.average(a, weights = wts, returned = True)\n",
    "print(b)\n",
    "\n",
    "c  =  np.average(a, weights = wts, returned = False)\n",
    "print(c)"
   ]
  },
  {
   "cell_type": "code",
   "execution_count": null,
   "id": "312984fb",
   "metadata": {},
   "outputs": [],
   "source": []
  }
 ],
 "metadata": {
  "kernelspec": {
   "display_name": "Python 3",
   "language": "python",
   "name": "python3"
  },
  "language_info": {
   "codemirror_mode": {
    "name": "ipython",
    "version": 3
   },
   "file_extension": ".py",
   "mimetype": "text/x-python",
   "name": "python",
   "nbconvert_exporter": "python",
   "pygments_lexer": "ipython3",
   "version": "3.7.10"
  }
 },
 "nbformat": 4,
 "nbformat_minor": 5
}
