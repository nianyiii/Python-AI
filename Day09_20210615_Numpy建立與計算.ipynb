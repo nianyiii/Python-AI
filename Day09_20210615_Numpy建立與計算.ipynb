{
 "cells": [
  {
   "cell_type": "markdown",
   "id": "822b42b2",
   "metadata": {},
   "source": [
    "## 陣列初始與規劃"
   ]
  },
  {
   "cell_type": "code",
   "execution_count": 1,
   "id": "a1977f35",
   "metadata": {},
   "outputs": [
    {
     "data": {
      "text/plain": [
       "(2, (3, 3), 9, dtype('int64'))"
      ]
     },
     "execution_count": 1,
     "metadata": {},
     "output_type": "execute_result"
    }
   ],
   "source": [
    "# ndarray.ndim：維度的數量\n",
    "# ndarray.shape：顯示陣列在每個維度上的整數值\n",
    "# ndarray.size：陣列內維數的總數\n",
    "# ndarray.dtype：用來描述陣列中元素類型的對象\n",
    "\n",
    "import numpy as np\n",
    "\n",
    "data = np.array([[8, 4, 2],\n",
    "                 [9, 6, 3],\n",
    "                 [7, 4, 1]])\n",
    "\n",
    "data.ndim, data.shape, data.size, data.dtype\n",
    "\n",
    "# 第一個得出的數值2為以下兩種含義：\n",
    "# 2階(rank)張量 tensor\n",
    "# 2維(dim)陣列 array"
   ]
  },
  {
   "cell_type": "code",
   "execution_count": 2,
   "id": "076e1850",
   "metadata": {},
   "outputs": [
    {
     "name": "stdout",
     "output_type": "stream",
     "text": [
      "[[1 2 3]\n",
      " [2 3 4]]\n",
      "number of dim: 2\n",
      "shape: (2, 3)\n",
      "size: 6\n",
      "size: int64\n"
     ]
    }
   ],
   "source": [
    "# Practice\n",
    "\n",
    "import numpy as np\n",
    "\n",
    "l = [ [1, 2, 3],\n",
    "      [2, 3, 4]]\n",
    "\n",
    "a = np.array(l)\n",
    "\n",
    "print(a)\n",
    "print('number of dim:', a.ndim)\n",
    "print('shape:', a.shape)\n",
    "print('size:', a.size)\n",
    "print('size:', a.dtype)"
   ]
  },
  {
   "cell_type": "code",
   "execution_count": 3,
   "id": "670f3abd",
   "metadata": {},
   "outputs": [
    {
     "name": "stdout",
     "output_type": "stream",
     "text": [
      "[[-2.00000000e+000 -2.00000000e+000  6.93001367e-310  4.94065646e-324]\n",
      " [ 8.11978949e-312  6.93001427e-310  3.50977866e+064  5.56268465e-309]]\n",
      "[[0. 0. 0. 0.]\n",
      " [0. 0. 0. 0.]\n",
      " [0. 0. 0. 0.]]\n",
      "[[1. 1.]\n",
      " [1. 1.]\n",
      " [1. 1.]\n",
      " [1. 1.]\n",
      " [1. 1.]]\n",
      "[[6 6 6]\n",
      " [6 6 6]\n",
      " [6 6 6]]\n",
      "[[1. 0. 0.]\n",
      " [0. 1. 0.]\n",
      " [0. 0. 1.]]\n",
      "[[1 0 0 0]\n",
      " [0 2 0 0]\n",
      " [0 0 3 0]\n",
      " [0 0 0 4]]\n"
     ]
    }
   ],
   "source": [
    "# 陣列初始化的方式\n",
    "\n",
    "# 不做初始化\n",
    "print(np.empty((2, 4)))\n",
    "\n",
    "# 全部規劃為0\n",
    "print(np.zeros((3, 4)))\n",
    "\n",
    "# 全部規劃為1\n",
    "print(np.ones((5, 2)))\n",
    "\n",
    "# 全部規劃／填滿為某數，例如6\n",
    "print(np.full((3, 3), 6))\n",
    "\n",
    "# 對角\n",
    "print(np.eye(3))\n",
    "\n",
    "# 建立對角矩陣，對角為1,2,3,4，其他為0\n",
    "print(np.diag([1, 2, 3, 4]))"
   ]
  },
  {
   "cell_type": "code",
   "execution_count": 4,
   "id": "2bdbaff0",
   "metadata": {},
   "outputs": [
    {
     "data": {
      "text/plain": [
       "(2, 4)"
      ]
     },
     "execution_count": 4,
     "metadata": {},
     "output_type": "execute_result"
    }
   ],
   "source": [
    "# reshape：可將現有的陣列重新規劃為x乘以y的陣列\n",
    "\n",
    "import numpy as np\n",
    "data = np.array([\n",
    "                 [8, 4, 2, 1], \n",
    "                 [9, 6, 3, 0]\n",
    "                 ])\n",
    "data.shape"
   ]
  },
  {
   "cell_type": "code",
   "execution_count": 7,
   "id": "3f36fd5d",
   "metadata": {
    "scrolled": true
   },
   "outputs": [
    {
     "data": {
      "text/plain": [
       "array([[8, 4],\n",
       "       [2, 1],\n",
       "       [9, 6],\n",
       "       [3, 0]])"
      ]
     },
     "execution_count": 7,
     "metadata": {},
     "output_type": "execute_result"
    }
   ],
   "source": [
    "# 根據上述，執行reshape（相乘後的值一定要相同！！！）\n",
    "data.reshape(4, 2)"
   ]
  },
  {
   "cell_type": "code",
   "execution_count": 5,
   "id": "fc754d58",
   "metadata": {},
   "outputs": [
    {
     "data": {
      "text/plain": [
       "(array([[8],\n",
       "        [4],\n",
       "        [2],\n",
       "        [1],\n",
       "        [9],\n",
       "        [6],\n",
       "        [3],\n",
       "        [0]]),\n",
       " array([[8],\n",
       "        [4],\n",
       "        [2],\n",
       "        [1],\n",
       "        [9],\n",
       "        [6],\n",
       "        [3],\n",
       "        [0]]))"
      ]
     },
     "execution_count": 5,
     "metadata": {},
     "output_type": "execute_result"
    }
   ],
   "source": [
    "# 承上，reshape(-1, 1)，負號在前方，陣列為直向\n",
    "data.reshape(8, 1), data.reshape(-1, 1)"
   ]
  },
  {
   "cell_type": "code",
   "execution_count": 6,
   "id": "33da34a1",
   "metadata": {},
   "outputs": [
    {
     "data": {
      "text/plain": [
       "(array([[8, 4, 2, 1, 9, 6, 3, 0]]), array([[8, 4, 2, 1, 9, 6, 3, 0]]))"
      ]
     },
     "execution_count": 6,
     "metadata": {},
     "output_type": "execute_result"
    }
   ],
   "source": [
    "# 承上，reshape(1, -1)，負號在後方，陣列為橫向\n",
    "data.reshape(1, 8), data.reshape(1, -1)"
   ]
  },
  {
   "cell_type": "code",
   "execution_count": 11,
   "id": "fdf94cd2",
   "metadata": {},
   "outputs": [
    {
     "data": {
      "text/plain": [
       "array([[90, 92, 95, 90],\n",
       "       [89, 88, 85, 80],\n",
       "       [75, 77, 78, 70]])"
      ]
     },
     "execution_count": 11,
     "metadata": {},
     "output_type": "execute_result"
    }
   ],
   "source": [
    "# 加強觀念\n",
    "# 轉成陣列的優點為可計算總平均\n",
    "\n",
    "scores = [[90, 92, 95, 90], \n",
    "          [89, 88, 85, 80],\n",
    "          [75, 77, 78, 70]]\n",
    "\n",
    "import numpy as np\n",
    "np.array(scores)"
   ]
  },
  {
   "cell_type": "code",
   "execution_count": 12,
   "id": "45ce344d",
   "metadata": {},
   "outputs": [
    {
     "data": {
      "text/plain": [
       "84.08333333333333"
      ]
     },
     "execution_count": 12,
     "metadata": {},
     "output_type": "execute_result"
    }
   ],
   "source": [
    "# 承上，使用np.mean計算總平均\n",
    "np.mean(scores)"
   ]
  },
  {
   "cell_type": "code",
   "execution_count": 9,
   "id": "a426e0c7",
   "metadata": {},
   "outputs": [
    {
     "ename": "TypeError",
     "evalue": "unsupported operand type(s) for +: 'int' and 'list'",
     "output_type": "error",
     "traceback": [
      "\u001b[0;31m---------------------------------------------------------------------------\u001b[0m",
      "\u001b[0;31mTypeError\u001b[0m                                 Traceback (most recent call last)",
      "\u001b[0;32m<ipython-input-9-8e40676273c2>\u001b[0m in \u001b[0;36m<module>\u001b[0;34m\u001b[0m\n\u001b[1;32m      3\u001b[0m           \u001b[0;34m[\u001b[0m\u001b[0;36m89\u001b[0m\u001b[0;34m,\u001b[0m \u001b[0;36m88\u001b[0m\u001b[0;34m,\u001b[0m \u001b[0;36m85\u001b[0m\u001b[0;34m,\u001b[0m \u001b[0;36m80\u001b[0m\u001b[0;34m]\u001b[0m\u001b[0;34m,\u001b[0m\u001b[0;34m\u001b[0m\u001b[0;34m\u001b[0m\u001b[0m\n\u001b[1;32m      4\u001b[0m           [75, 77, 78, 70]]\n\u001b[0;32m----> 5\u001b[0;31m \u001b[0msum\u001b[0m\u001b[0;34m(\u001b[0m\u001b[0mscores\u001b[0m\u001b[0;34m)\u001b[0m\u001b[0;34m\u001b[0m\u001b[0;34m\u001b[0m\u001b[0m\n\u001b[0m",
      "\u001b[0;31mTypeError\u001b[0m: unsupported operand type(s) for +: 'int' and 'list'"
     ]
    }
   ],
   "source": [
    "# 承上題，如果使用sum加總？（二維以上無法直接使用）\n",
    "scores = [[90, 92, 95, 90], \n",
    "          [89, 88, 85, 80],\n",
    "          [75, 77, 78, 70]]\n",
    "sum(scores)"
   ]
  },
  {
   "cell_type": "code",
   "execution_count": 8,
   "id": "bcda3c4b",
   "metadata": {},
   "outputs": [
    {
     "data": {
      "text/plain": [
       "367"
      ]
     },
     "execution_count": 8,
     "metadata": {},
     "output_type": "execute_result"
    }
   ],
   "source": [
    "# 一維可直接使用sum加總\n",
    "students = [90, 92, 95, 90]\n",
    "sum(students)"
   ]
  },
  {
   "cell_type": "code",
   "execution_count": 4,
   "id": "7aa586a0",
   "metadata": {},
   "outputs": [
    {
     "name": "stdout",
     "output_type": "stream",
     "text": [
      "[90 92 95 90]\n"
     ]
    },
    {
     "data": {
      "text/plain": [
       "(91.75, 85.5, 75.0)"
      ]
     },
     "execution_count": 4,
     "metadata": {},
     "output_type": "execute_result"
    }
   ],
   "source": [
    "# 每個list計算平均\n",
    "\n",
    "import numpy as np\n",
    "\n",
    "scores = np.array([[90, 92, 95, 90], \n",
    "                   [89, 88, 85, 80],\n",
    "                   [75, 77, 78, 70]])\n",
    "\n",
    "print(scores[0, :]) # 第一列的全部\n",
    "\n",
    "np.mean(scores[0, :]), \\\n",
    "np.mean(scores[1, :]), \\\n",
    "np.mean(scores[2, :])"
   ]
  },
  {
   "cell_type": "code",
   "execution_count": 12,
   "id": "31dc014a",
   "metadata": {},
   "outputs": [
    {
     "name": "stdout",
     "output_type": "stream",
     "text": [
      "91.75\n",
      "85.5\n",
      "75.0\n"
     ]
    }
   ],
   "source": [
    "# Practice\n",
    "# 使用list迴圈計算平均\n",
    "\n",
    "scores = [[90, 92, 95, 90], \n",
    "          [89, 88, 85, 80],\n",
    "          [75, 77, 78, 70]]\n",
    "\n",
    "for s in scores:\n",
    "    print(sum(s) / len(s))"
   ]
  },
  {
   "cell_type": "code",
   "execution_count": 13,
   "id": "f2e693b3",
   "metadata": {},
   "outputs": [
    {
     "data": {
      "text/plain": [
       "[91.75, 85.5, 75.0]"
      ]
     },
     "execution_count": 13,
     "metadata": {},
     "output_type": "execute_result"
    }
   ],
   "source": [
    "# Practice\n",
    "# 使用list comprehension計算平均\n",
    "\n",
    "scores = [[90, 92, 95, 90], \n",
    "          [89, 88, 85, 80],\n",
    "          [75, 77, 78, 70]]\n",
    "\n",
    "[(sum(s) / len(s)) for s in scores]"
   ]
  },
  {
   "cell_type": "code",
   "execution_count": 15,
   "id": "6712124c",
   "metadata": {},
   "outputs": [
    {
     "name": "stdout",
     "output_type": "stream",
     "text": [
      "[91.75 85.5  75.  ]\n",
      "[84.66666667 85.66666667 86.         80.        ]\n"
     ]
    }
   ],
   "source": [
    "# 每個list計算平均的最快用法\n",
    "# 上下axis = 0, 左右axis = 1\n",
    "\n",
    "import numpy as np\n",
    "\n",
    "scores = np.array([[90, 92, 95, 90], \n",
    "                   [89, 88, 85, 80],\n",
    "                   [75, 77, 78, 70]])\n",
    "\n",
    "print(np.mean(scores, axis = 1))\n",
    "print(np.mean(scores, axis = 0))"
   ]
  },
  {
   "cell_type": "code",
   "execution_count": 5,
   "id": "7bddcd62",
   "metadata": {
    "scrolled": true
   },
   "outputs": [
    {
     "data": {
      "text/plain": [
       "(array([90, 92, 95, 90, 89, 88, 85, 80, 75, 77, 78, 70]),\n",
       " array([90, 92, 95, 90, 89, 88, 85, 80, 75, 77, 78, 70]))"
      ]
     },
     "execution_count": 5,
     "metadata": {},
     "output_type": "execute_result"
    }
   ],
   "source": [
    "# 如果要轉換成(12,) 1-rank tensor(1-dim array)\n",
    "# flatten()返回一個摺疊成一維的陣列\n",
    "\n",
    "import numpy as np\n",
    "\n",
    "scores = np.array([[90, 92, 95, 90], \n",
    "                   [89, 88, 85, 80],\n",
    "                   [75, 77, 78, 70]])\n",
    "\n",
    "scores.flatten(), scores.ravel() # flatten與ravel執行後結果相同"
   ]
  },
  {
   "cell_type": "code",
   "execution_count": 3,
   "id": "58ef87e1",
   "metadata": {},
   "outputs": [
    {
     "data": {
      "text/plain": [
       "(array([[90],\n",
       "        [92],\n",
       "        [95],\n",
       "        [90],\n",
       "        [89],\n",
       "        [88],\n",
       "        [85],\n",
       "        [80],\n",
       "        [75],\n",
       "        [77],\n",
       "        [78],\n",
       "        [70]]),\n",
       " array([[90],\n",
       "        [92],\n",
       "        [95],\n",
       "        [90],\n",
       "        [89],\n",
       "        [88],\n",
       "        [85],\n",
       "        [80],\n",
       "        [75],\n",
       "        [77],\n",
       "        [78],\n",
       "        [70]]))"
      ]
     },
     "execution_count": 3,
     "metadata": {},
     "output_type": "execute_result"
    }
   ],
   "source": [
    "# 如果要轉換成(12, 1) 2-rank tensor(2-dim array)\n",
    "\n",
    "import numpy as np\n",
    "\n",
    "scores = np.array([[90, 92, 95, 90], \n",
    "                   [89, 88, 85, 80],\n",
    "                   [75, 77, 78, 70]])\n",
    "\n",
    "scores.reshape(12, 1), scores.reshape(-1, 1) # 兩種皆可"
   ]
  },
  {
   "cell_type": "code",
   "execution_count": 4,
   "id": "7abce325",
   "metadata": {},
   "outputs": [
    {
     "data": {
      "text/plain": [
       "array([[90, 92, 95, 90, 89, 88, 85, 80, 75, 77, 78, 70]])"
      ]
     },
     "execution_count": 4,
     "metadata": {},
     "output_type": "execute_result"
    }
   ],
   "source": [
    "# 如果要轉換成(1, 12) 2-rank tensor(2-dim array)\n",
    "\n",
    "import numpy as np\n",
    "\n",
    "scores = np.array([[90, 92, 95, 90], \n",
    "                   [89, 88, 85, 80],\n",
    "                   [75, 77, 78, 70]])\n",
    "\n",
    "scores.reshape(1, 12)"
   ]
  },
  {
   "cell_type": "code",
   "execution_count": 10,
   "id": "55f6e5c5",
   "metadata": {},
   "outputs": [
    {
     "name": "stdout",
     "output_type": "stream",
     "text": [
      "(2, 2)\n",
      "[[1 2]\n",
      " [3 4]]\n",
      "[[  1 100]\n",
      " [  3   4]]\n"
     ]
    }
   ],
   "source": [
    "# flatten與ravel不同！！！\n",
    "# flatten()：返回的是副本，對副本所做的修改不會影響原始矩陣\n",
    "# ravel()：會影響原始矩陣\n",
    "\n",
    "x = np.array([[1, 2], [3, 4]])\n",
    "print(x.shape)\n",
    "\n",
    "x.flatten()[1] = 100\n",
    "print(x)\n",
    "\n",
    "x.ravel()[1] = 100\n",
    "print(x)"
   ]
  },
  {
   "cell_type": "code",
   "execution_count": 4,
   "id": "84653749",
   "metadata": {},
   "outputs": [
    {
     "name": "stdout",
     "output_type": "stream",
     "text": [
      "[1, 2, 3, 4, 5, 6, 7, 8, 9]\n",
      "[1.0, 1.5, 2.0, 2.5, 3.0, 3.5, 4.0, 4.5, 5.0, 5.5, 6.0, 6.5, 7.0, 7.5, 8.0, 8.5, 9.0, 9.5]\n"
     ]
    }
   ],
   "source": [
    "# np.arange(起始, 結束, 固定間隔)：產生1-dim array，與np.array()差別在np.arange有較大彈性。\n",
    "\n",
    "# list操作(無法以浮點數當間隔)\n",
    "print(list(range(1, 10, 1)))\n",
    "\n",
    "# numpy操作\n",
    "import numpy as np\n",
    "print(list(np.arange(1, 10, 0.5)))"
   ]
  },
  {
   "cell_type": "code",
   "execution_count": 5,
   "id": "cb422ad1",
   "metadata": {},
   "outputs": [
    {
     "data": {
      "text/plain": [
       "array([ 1.        ,  1.47368421,  1.94736842,  2.42105263,  2.89473684,\n",
       "        3.36842105,  3.84210526,  4.31578947,  4.78947368,  5.26315789,\n",
       "        5.73684211,  6.21052632,  6.68421053,  7.15789474,  7.63157895,\n",
       "        8.10526316,  8.57894737,  9.05263158,  9.52631579, 10.        ])"
      ]
     },
     "execution_count": 5,
     "metadata": {},
     "output_type": "execute_result"
    }
   ],
   "source": [
    "# np.linspace(起始, 結束, 起始與結束的區間內產生幾個元素)：只要給定陣列區間，就可指定在這區間內產生幾個元素，包含結束值\n",
    "# np.linspace(起始, 結束, 起始與結束的區間內產生幾個元素, endpoint = False)：不包含結束值\n",
    "import numpy as np\n",
    "np.linspace(1, 10, 20)"
   ]
  },
  {
   "cell_type": "code",
   "execution_count": 6,
   "id": "3634a251",
   "metadata": {},
   "outputs": [
    {
     "name": "stdout",
     "output_type": "stream",
     "text": [
      "[[-2.00000000e+000  1.49457320e-154  1.97626258e-323  0.00000000e+000]\n",
      " [ 0.00000000e+000  0.00000000e+000 -2.00000000e+000  5.60601841e-309]]\n",
      "-----\n",
      "[[0. 0.]\n",
      " [0. 0.]\n",
      " [0. 0.]]\n",
      "-----\n",
      "[[1. 1. 1. 1. 1.]\n",
      " [1. 1. 1. 1. 1.]]\n"
     ]
    }
   ],
   "source": [
    "# Practice\n",
    "\n",
    "import numpy as np\n",
    "\n",
    "x = np.empty((2, 4))\n",
    "print(x)\n",
    "print('-----')\n",
    "y = np.zeros((3, 2))\n",
    "print(y)\n",
    "print('-----')\n",
    "z = np.ones((2, 5))\n",
    "print(z)"
   ]
  },
  {
   "cell_type": "code",
   "execution_count": 9,
   "id": "5be69ff2",
   "metadata": {},
   "outputs": [
    {
     "name": "stdout",
     "output_type": "stream",
     "text": [
      "[[1. 0. 0. 0. 0. 0.]\n",
      " [0. 1. 0. 0. 0. 0.]\n",
      " [0. 0. 1. 0. 0. 0.]\n",
      " [0. 0. 0. 1. 0. 0.]\n",
      " [0. 0. 0. 0. 1. 0.]\n",
      " [0. 0. 0. 0. 0. 1.]]\n",
      "-----\n",
      "[[1 0 0 0]\n",
      " [0 2 0 0]\n",
      " [0 0 3 0]\n",
      " [0 0 0 4]]\n"
     ]
    }
   ],
   "source": [
    "# Practice\n",
    "\n",
    "import numpy as np\n",
    "\n",
    "x = np.eye(6)\n",
    "print(x)\n",
    "print('-----')\n",
    "y = np.diag([1, 2, 3, 4])\n",
    "print(y)"
   ]
  },
  {
   "cell_type": "code",
   "execution_count": 10,
   "id": "d3871059",
   "metadata": {},
   "outputs": [
    {
     "name": "stdout",
     "output_type": "stream",
     "text": [
      "[[ 1.   2.8]\n",
      " [ 4.6  6.4]\n",
      " [ 8.2 10. ]]\n",
      "-----\n",
      "[[ 1.   2.8  4.6]\n",
      " [ 6.4  8.2 10. ]]\n",
      "-----\n",
      "[[0 1 2 3]\n",
      " [4 5 6 7]]\n",
      "-----\n",
      "[[0 1]\n",
      " [2 3]\n",
      " [4 5]\n",
      " [6 7]]\n"
     ]
    }
   ],
   "source": [
    "# Practice\n",
    "\n",
    "import numpy as np\n",
    "\n",
    "w = np.linspace(1, 10, 6).reshape((3, 2))\n",
    "print(w)\n",
    "print('-----')\n",
    "x = np.linspace(1, 10, 6).reshape((2, 3))\n",
    "print(x)\n",
    "print('-----')\n",
    "y = np.arange(8).reshape((2, 4))\n",
    "print(y)\n",
    "print('-----')\n",
    "z = np.arange(8).reshape((4, 2))\n",
    "print(z)"
   ]
  },
  {
   "cell_type": "code",
   "execution_count": 11,
   "id": "be218869",
   "metadata": {},
   "outputs": [
    {
     "name": "stdout",
     "output_type": "stream",
     "text": [
      "r1=> [25.  25.5 26.  26.5 27.  27.5 28.  28.5 29.  29.5]\n"
     ]
    }
   ],
   "source": [
    "# Practice\n",
    "# 不包含結束值30\n",
    "\n",
    "import numpy as np\n",
    "\n",
    "r1 = np.arange(25, 30, .5)\n",
    "print('r1=>', r1)"
   ]
  },
  {
   "cell_type": "code",
   "execution_count": 12,
   "id": "a7ad09d8",
   "metadata": {},
   "outputs": [
    {
     "name": "stdout",
     "output_type": "stream",
     "text": [
      "r1=> [3.   3.25 3.5  3.75 4.   4.25 4.5  4.75 5.  ]\n"
     ]
    }
   ],
   "source": [
    "# Practice\n",
    "# 包含結束值5\n",
    "\n",
    "import numpy as np\n",
    "\n",
    "r1 = np.linspace(3, 5, 9)\n",
    "print('r1=>', r1)"
   ]
  },
  {
   "cell_type": "code",
   "execution_count": null,
   "id": "d46f5c96",
   "metadata": {},
   "outputs": [],
   "source": []
  }
 ],
 "metadata": {
  "kernelspec": {
   "display_name": "Python 3",
   "language": "python",
   "name": "python3"
  },
  "language_info": {
   "codemirror_mode": {
    "name": "ipython",
    "version": 3
   },
   "file_extension": ".py",
   "mimetype": "text/x-python",
   "name": "python",
   "nbconvert_exporter": "python",
   "pygments_lexer": "ipython3",
   "version": "3.7.10"
  }
 },
 "nbformat": 4,
 "nbformat_minor": 5
}
