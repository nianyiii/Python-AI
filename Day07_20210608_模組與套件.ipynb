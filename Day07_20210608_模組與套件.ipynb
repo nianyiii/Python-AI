{
 "cells": [
  {
   "cell_type": "markdown",
   "id": "15de1c12",
   "metadata": {},
   "source": [
    "# 使用模組"
   ]
  },
  {
   "cell_type": "code",
   "execution_count": 1,
   "id": "9614f474",
   "metadata": {},
   "outputs": [
    {
     "name": "stdout",
     "output_type": "stream",
     "text": [
      "['__builtins__', '__cached__', '__doc__', '__file__', '__loader__', '__name__', '__package__', '__spec__', 'minus', 'multi', 'plus']\n"
     ]
    }
   ],
   "source": [
    "# 自訂函數minus、multi、plus並建立sample.py\n",
    "\n",
    "import sample as spl\n",
    "\n",
    "print(dir(spl)) # dir顯示套件屬性＆方法"
   ]
  },
  {
   "cell_type": "code",
   "execution_count": 2,
   "id": "3b2d995c",
   "metadata": {},
   "outputs": [],
   "source": [
    "# 從套件匯入指定方法\n",
    "from sample import minus\n",
    "minus?"
   ]
  },
  {
   "cell_type": "code",
   "execution_count": 3,
   "id": "f74bfb62",
   "metadata": {},
   "outputs": [
    {
     "name": "stdout",
     "output_type": "stream",
     "text": [
      "['__builtins__', '__cached__', '__doc__', '__file__', '__loader__', '__name__', '__package__', '__spec__', 'fun1', 'test1']\n"
     ]
    }
   ],
   "source": [
    "# Practice\n",
    "\n",
    "import modu\n",
    "\n",
    "print(dir(modu))"
   ]
  },
  {
   "cell_type": "code",
   "execution_count": 17,
   "id": "f28301a6",
   "metadata": {},
   "outputs": [
    {
     "name": "stdout",
     "output_type": "stream",
     "text": [
      "create\n",
      "function\n"
     ]
    },
    {
     "data": {
      "text/plain": [
       "()"
      ]
     },
     "execution_count": 17,
     "metadata": {},
     "output_type": "execute_result"
    }
   ],
   "source": [
    "cls = modu.test1() # 初始模組中的類別\n",
    "modu.fun1()        # 呼叫模組中的函數"
   ]
  },
  {
   "cell_type": "markdown",
   "id": "fd8d5fd9",
   "metadata": {},
   "source": [
    "# 自製套件"
   ]
  },
  {
   "cell_type": "code",
   "execution_count": 18,
   "id": "f209e582",
   "metadata": {},
   "outputs": [
    {
     "name": "stdout",
     "output_type": "stream",
     "text": [
      "/opt/anaconda3/lib/python3.7/site-packages/pandas/__init__.py\n"
     ]
    }
   ],
   "source": [
    "# 每個套件裡必須存在__init__.py，以pandas為例\n",
    "\n",
    "import pandas\n",
    "print(pandas.__file__)"
   ]
  },
  {
   "cell_type": "markdown",
   "id": "d0e8427c",
   "metadata": {},
   "source": [
    "# 亂數呼叫使用"
   ]
  },
  {
   "cell_type": "code",
   "execution_count": 22,
   "id": "e79755f3",
   "metadata": {},
   "outputs": [
    {
     "name": "stdout",
     "output_type": "stream",
     "text": [
      "<class 'module'>\n",
      "['BPF', 'LOG4', 'NV_MAGICCONST', 'RECIP_BPF', 'Random', 'SG_MAGICCONST', 'SystemRandom', 'TWOPI', '_BuiltinMethodType', '_MethodType', '_Sequence', '_Set', '__all__', '__builtins__', '__cached__', '__doc__', '__file__', '__loader__', '__name__', '__package__', '__spec__', '_acos', '_bisect', '_ceil', '_cos', '_e', '_exp', '_inst', '_itertools', '_log', '_os', '_pi', '_random', '_sha512', '_sin', '_sqrt', '_test', '_test_generator', '_urandom', '_warn', 'betavariate', 'choice', 'choices', 'expovariate', 'gammavariate', 'gauss', 'getrandbits', 'getstate', 'lognormvariate', 'normalvariate', 'paretovariate', 'randint', 'random', 'randrange', 'sample', 'seed', 'setstate', 'shuffle', 'triangular', 'uniform', 'vonmisesvariate', 'weibullvariate']\n"
     ]
    }
   ],
   "source": [
    "# 檢視random\n",
    "\n",
    "import random\n",
    "print(type(random))\n",
    "print(dir(random))"
   ]
  },
  {
   "cell_type": "code",
   "execution_count": 24,
   "id": "586f3a56",
   "metadata": {},
   "outputs": [
    {
     "data": {
      "text/plain": [
       "6"
      ]
     },
     "execution_count": 24,
     "metadata": {},
     "output_type": "execute_result"
    }
   ],
   "source": [
    "# 舉例randint（隨機整數），產生1-6之間的數字\n",
    "random.randint(1, 6)"
   ]
  },
  {
   "cell_type": "code",
   "execution_count": 41,
   "id": "f914ebbb",
   "metadata": {},
   "outputs": [
    {
     "data": {
      "text/plain": [
       "[1, 6, 2, 3, 6, 4, 4, 4, 5, 5]"
      ]
     },
     "execution_count": 41,
     "metadata": {},
     "output_type": "execute_result"
    }
   ],
   "source": [
    "# Exam:產生十個數字1-6的亂數，放在變數data內（data為list）\n",
    "# 方法1\n",
    "\n",
    "data = [random.randint(1, 6) for a in range(10)]\n",
    "data"
   ]
  },
  {
   "cell_type": "code",
   "execution_count": 46,
   "id": "dc5fa79e",
   "metadata": {
    "scrolled": false
   },
   "outputs": [
    {
     "name": "stdout",
     "output_type": "stream",
     "text": [
      "[5, 6, 5, 2, 5, 2, 3, 4, 3, 3]\n"
     ]
    }
   ],
   "source": [
    "# Exam:產生十個數字1-6的亂數，放在變數data內（data為list）\n",
    "# 方法2\n",
    "\n",
    "data = []\n",
    "\n",
    "for a in range(10):\n",
    "    data.append(random.randint(1, 6))\n",
    "print(data)"
   ]
  },
  {
   "cell_type": "code",
   "execution_count": 1,
   "id": "465d836b",
   "metadata": {},
   "outputs": [
    {
     "data": {
      "text/plain": [
       "'3.7.10 (default, Feb 26 2021, 10:16:00) \\n[Clang 10.0.0 ]'"
      ]
     },
     "execution_count": 1,
     "metadata": {},
     "output_type": "execute_result"
    }
   ],
   "source": [
    "# 補充：版本顯示\n",
    "\n",
    "import sys\n",
    "sys.version"
   ]
  },
  {
   "cell_type": "code",
   "execution_count": 9,
   "id": "b5457a3a",
   "metadata": {},
   "outputs": [
    {
     "data": {
      "text/plain": [
       "0.2527772681320545"
      ]
     },
     "execution_count": 9,
     "metadata": {},
     "output_type": "execute_result"
    }
   ],
   "source": [
    "# 隨機數值：random.random()\n",
    "\n",
    "import random\n",
    "random.random()"
   ]
  },
  {
   "cell_type": "code",
   "execution_count": 18,
   "id": "4821cc56",
   "metadata": {},
   "outputs": [
    {
     "data": {
      "text/plain": [
       "4"
      ]
     },
     "execution_count": 18,
     "metadata": {},
     "output_type": "execute_result"
    }
   ],
   "source": [
    "# 隨機選取x到y之間z的倍數（x, y, z）：random.randrange()\n",
    "random.randrange(0, 10, 2)"
   ]
  },
  {
   "cell_type": "code",
   "execution_count": 22,
   "id": "b9359660",
   "metadata": {},
   "outputs": [
    {
     "name": "stdout",
     "output_type": "stream",
     "text": [
      "37\n",
      "76\n",
      "0.41082233851997885\n"
     ]
    }
   ],
   "source": [
    "# Practice\n",
    "\n",
    "import random\n",
    "a = random.randint(0, 100)\n",
    "print(a)\n",
    "b = random.randrange(0, 100, 2)\n",
    "print(b)\n",
    "c = random.random()\n",
    "print(c)"
   ]
  },
  {
   "cell_type": "code",
   "execution_count": 31,
   "id": "7679a776",
   "metadata": {},
   "outputs": [
    {
     "data": {
      "text/plain": [
       "[1, 4, 3, 5, 2]"
      ]
     },
     "execution_count": 31,
     "metadata": {},
     "output_type": "execute_result"
    }
   ],
   "source": [
    "# 重新調整順序：random.shuffle(items)\n",
    "\n",
    "number = [1, 2, 3, 4, 5]\n",
    "random.shuffle(number)\n",
    "number"
   ]
  },
  {
   "cell_type": "code",
   "execution_count": 35,
   "id": "0c9cf0b0",
   "metadata": {},
   "outputs": [
    {
     "data": {
      "text/plain": [
       "2"
      ]
     },
     "execution_count": 35,
     "metadata": {},
     "output_type": "execute_result"
    }
   ],
   "source": [
    "# 隨機字元：random.choice()\n",
    "\n",
    "number = [1, 2, 3, 4, 5]\n",
    "random.choice(number)"
   ]
  },
  {
   "cell_type": "code",
   "execution_count": 38,
   "id": "096f72ea",
   "metadata": {},
   "outputs": [
    {
     "data": {
      "text/plain": [
       "[4, 5, 3]"
      ]
     },
     "execution_count": 38,
     "metadata": {},
     "output_type": "execute_result"
    }
   ],
   "source": [
    "# 多個字元選取特定數量的字元：random.sample()\n",
    "\n",
    "number = [1, 2, 3, 4, 5]\n",
    "random.sample(number, 3)"
   ]
  },
  {
   "cell_type": "code",
   "execution_count": 42,
   "id": "caf1bd7e",
   "metadata": {
    "scrolled": true
   },
   "outputs": [
    {
     "name": "stdout",
     "output_type": "stream",
     "text": [
      "['g', 'e', 'h', 'o', 'd', 'i']\n",
      "lion\n",
      "[6, 1, 4, 3, 5, 2]\n"
     ]
    }
   ],
   "source": [
    "# Practice\n",
    "\n",
    "import random\n",
    "a = random.sample('abcdefghijklmnopq', 6)\n",
    "print(a)\n",
    "b = random.choice(['cat', 'dog', 'duck', 'lion'])\n",
    "print(b)\n",
    "c = [1, 2, 3, 4, 5, 6]\n",
    "random.shuffle(c)\n",
    "print(c)"
   ]
  },
  {
   "cell_type": "markdown",
   "id": "301ebb27",
   "metadata": {},
   "source": [
    "# 數學函數"
   ]
  },
  {
   "cell_type": "code",
   "execution_count": 43,
   "id": "3ad6dd2d",
   "metadata": {},
   "outputs": [
    {
     "data": {
      "text/plain": [
       "(1.4142135623730951, 1.4142135623730951)"
      ]
     },
     "execution_count": 43,
     "metadata": {},
     "output_type": "execute_result"
    }
   ],
   "source": [
    "# sqrt(x):x的平方根（x>0）\n",
    "\n",
    "import math\n",
    "2 ** 0.5, math.sqrt(2)"
   ]
  },
  {
   "cell_type": "code",
   "execution_count": 44,
   "id": "d3e98860",
   "metadata": {},
   "outputs": [
    {
     "data": {
      "text/plain": [
       "(8, 8.0)"
      ]
     },
     "execution_count": 44,
     "metadata": {},
     "output_type": "execute_result"
    }
   ],
   "source": [
    "# pow(x, y):x的y次方\n",
    "\n",
    "2 ** 3, math.pow(2, 3)"
   ]
  },
  {
   "cell_type": "code",
   "execution_count": 45,
   "id": "40b274e0",
   "metadata": {},
   "outputs": [
    {
     "data": {
      "text/plain": [
       "(124, 123)"
      ]
     },
     "execution_count": 45,
     "metadata": {},
     "output_type": "execute_result"
    }
   ],
   "source": [
    "# ceil(x):取出不小於x的最小整數\n",
    "# floor(x):取出不大於x的最大整數\n",
    "\n",
    "math.ceil(123.456), math.floor(123.456)"
   ]
  }
 ],
 "metadata": {
  "kernelspec": {
   "display_name": "Python 3",
   "language": "python",
   "name": "python3"
  },
  "language_info": {
   "codemirror_mode": {
    "name": "ipython",
    "version": 3
   },
   "file_extension": ".py",
   "mimetype": "text/x-python",
   "name": "python",
   "nbconvert_exporter": "python",
   "pygments_lexer": "ipython3",
   "version": "3.7.10"
  }
 },
 "nbformat": 4,
 "nbformat_minor": 5
}
