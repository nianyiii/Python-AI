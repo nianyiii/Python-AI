{
  "nbformat": 4,
  "nbformat_minor": 0,
  "metadata": {
    "colab": {
      "name": "Day06-20210603-數值與函數進階運用.ipynb",
      "provenance": [],
      "collapsed_sections": [],
      "authorship_tag": "ABX9TyOvOj2dybRFUsga30F9NYsx"
    },
    "kernelspec": {
      "name": "python3",
      "display_name": "Python 3"
    },
    "language_info": {
      "name": "python"
    }
  },
  "cells": [
    {
      "cell_type": "code",
      "metadata": {
        "colab": {
          "base_uri": "https://localhost:8080/"
        },
        "id": "UaBKW1aKgROx",
        "outputId": "65695cf7-b584-47f1-9b93-3c0f1597849c"
      },
      "source": [
        "# 函數說明可使用\"?\" or \"help\"\n",
        "len?\n",
        "help(len)"
      ],
      "execution_count": 11,
      "outputs": [
        {
          "output_type": "stream",
          "text": [
            "Help on built-in function len in module builtins:\n",
            "\n",
            "len(obj, /)\n",
            "    Return the number of items in a container.\n",
            "\n"
          ],
          "name": "stdout"
        }
      ]
    },
    {
      "cell_type": "code",
      "metadata": {
        "id": "4da0RRxUF3Zn"
      },
      "source": [
        "# def自訂函數運用\n",
        "\n",
        "scores = [9, 19, 29, 39, 49, 59, 69, 79]\n",
        "\n",
        "# 成績放大\n",
        "# 規則：開根號*10"
      ],
      "execution_count": null,
      "outputs": []
    },
    {
      "cell_type": "code",
      "metadata": {
        "colab": {
          "base_uri": "https://localhost:8080/"
        },
        "id": "m-xvGywFYIwm",
        "outputId": "8bf5fe47-362d-4f8b-e2b7-4bf1df230c4f"
      },
      "source": [
        "# def自訂函數運用_I (開根號)\n",
        "\n",
        "9 ** 0.5 * 10, \\\n",
        "19 ** 0.5 * 10, \\\n",
        "29 ** 0.5 * 10"
      ],
      "execution_count": 3,
      "outputs": [
        {
          "output_type": "execute_result",
          "data": {
            "text/plain": [
              "(30.0, 43.58898943540674, 53.85164807134504)"
            ]
          },
          "metadata": {},
          "execution_count": 3
        }
      ]
    },
    {
      "cell_type": "code",
      "metadata": {
        "colab": {
          "base_uri": "https://localhost:8080/"
        },
        "id": "XhBL820AZPjV",
        "outputId": "a0a53a01-ee3f-4a7d-9809-75cf6c39e90a"
      },
      "source": [
        "# def自訂函數運用_II (四捨五入)\n",
        "\n",
        "round(30.3), round(43.58898943540674), round(53.85164807134504)"
      ],
      "execution_count": 5,
      "outputs": [
        {
          "output_type": "execute_result",
          "data": {
            "text/plain": [
              "(30, 44, 54)"
            ]
          },
          "metadata": {},
          "execution_count": 5
        }
      ]
    },
    {
      "cell_type": "code",
      "metadata": {
        "colab": {
          "base_uri": "https://localhost:8080/"
        },
        "id": "ki9GEhgWZ1bF",
        "outputId": "199eb657-d320-469e-d530-e3476d8b5cd8"
      },
      "source": [
        "# def自訂函數運用_I + II\n",
        "\n",
        "def upgrade(s):\n",
        "  return round(s ** 0.5 * 10)\n",
        "upgrade(9), upgrade(19), upgrade(29)"
      ],
      "execution_count": 8,
      "outputs": [
        {
          "output_type": "execute_result",
          "data": {
            "text/plain": [
              "(30, 44, 54)"
            ]
          },
          "metadata": {},
          "execution_count": 8
        }
      ]
    },
    {
      "cell_type": "code",
      "metadata": {
        "colab": {
          "base_uri": "https://localhost:8080/"
        },
        "id": "fxJ4-AETb6Z3",
        "outputId": "712e3fd0-1bd6-4b7d-fd92-a44a8ecfbd1f"
      },
      "source": [
        "# def自訂函數運用_III\n",
        "\n",
        "scores = [9, 19, 29, 39, 49, 59, 69, 79]\n",
        "\n",
        "for s in scores:\n",
        "  print(s, upgrade(s))"
      ],
      "execution_count": 9,
      "outputs": [
        {
          "output_type": "stream",
          "text": [
            "9 30\n",
            "19 44\n",
            "29 54\n",
            "39 62\n",
            "49 70\n",
            "59 77\n",
            "69 83\n",
            "79 89\n"
          ],
          "name": "stdout"
        }
      ]
    },
    {
      "cell_type": "code",
      "metadata": {
        "colab": {
          "base_uri": "https://localhost:8080/"
        },
        "id": "5CadG1nxdVyi",
        "outputId": "ef4829f5-8d95-4abd-a320-f3eb22b84161"
      },
      "source": [
        "# def自訂函數運用_IV (list comprehension)\n",
        "\n",
        "scores = [9, 19, 29, 39, 49, 59, 69, 79]\n",
        "\n",
        "[upgrade(s) for s in scores]"
      ],
      "execution_count": 10,
      "outputs": [
        {
          "output_type": "execute_result",
          "data": {
            "text/plain": [
              "[30, 44, 54, 62, 70, 77, 83, 89]"
            ]
          },
          "metadata": {},
          "execution_count": 10
        }
      ]
    },
    {
      "cell_type": "code",
      "metadata": {
        "colab": {
          "base_uri": "https://localhost:8080/"
        },
        "id": "TAioDM41htf1",
        "outputId": "e1b86875-6955-4025-c181-beb6465b2997"
      },
      "source": [
        "# def樣式I\n",
        "\n",
        "def func(): # 接收參數，此處沒有接收資料\n",
        "  print('呼叫函數')\n",
        "  return() # 函數結束前的資料回傳，此處沒有傳回資料可省略\n",
        "\n",
        "func()"
      ],
      "execution_count": 14,
      "outputs": [
        {
          "output_type": "stream",
          "text": [
            "呼叫函數\n"
          ],
          "name": "stdout"
        }
      ]
    },
    {
      "cell_type": "code",
      "metadata": {
        "colab": {
          "base_uri": "https://localhost:8080/"
        },
        "id": "t_Lke6cakkbP",
        "outputId": "6efa43ef-cffe-47ae-e307-9f99bd78f757"
      },
      "source": [
        "# def樣式II\n",
        "\n",
        "def func(a, b): # 接收參數，此處接收兩個資料\n",
        "  c = a + b\n",
        "  print(c)\n",
        "  return() # 函數結束前的資料回傳\n",
        "\n",
        "print('1')\n",
        "func(3, 4)\n",
        "print('2')"
      ],
      "execution_count": 15,
      "outputs": [
        {
          "output_type": "stream",
          "text": [
            "1\n",
            "7\n",
            "2\n"
          ],
          "name": "stdout"
        }
      ]
    },
    {
      "cell_type": "code",
      "metadata": {
        "colab": {
          "base_uri": "https://localhost:8080/",
          "height": 232
        },
        "id": "NmmU9dNfy3wI",
        "outputId": "ba04e928-ef66-436e-e9a4-cbee8bc8008e"
      },
      "source": [
        "# Practice\n",
        "\n",
        "def func(a, b):\n",
        "  c = a + b\n",
        "  print(c)\n",
        "  return()\n",
        "\n",
        "print('1')\n",
        "func() # 此處沒有參數，則出現錯誤\n",
        "print('2')"
      ],
      "execution_count": 16,
      "outputs": [
        {
          "output_type": "stream",
          "text": [
            "1\n"
          ],
          "name": "stdout"
        },
        {
          "output_type": "error",
          "ename": "TypeError",
          "evalue": "ignored",
          "traceback": [
            "\u001b[0;31m---------------------------------------------------------------------------\u001b[0m",
            "\u001b[0;31mTypeError\u001b[0m                                 Traceback (most recent call last)",
            "\u001b[0;32m<ipython-input-16-e6af4069bf17>\u001b[0m in \u001b[0;36m<module>\u001b[0;34m()\u001b[0m\n\u001b[1;32m      7\u001b[0m \u001b[0;34m\u001b[0m\u001b[0m\n\u001b[1;32m      8\u001b[0m \u001b[0mprint\u001b[0m\u001b[0;34m(\u001b[0m\u001b[0;34m'1'\u001b[0m\u001b[0;34m)\u001b[0m\u001b[0;34m\u001b[0m\u001b[0;34m\u001b[0m\u001b[0m\n\u001b[0;32m----> 9\u001b[0;31m \u001b[0mfunc\u001b[0m\u001b[0;34m(\u001b[0m\u001b[0;34m)\u001b[0m\u001b[0;34m\u001b[0m\u001b[0;34m\u001b[0m\u001b[0m\n\u001b[0m\u001b[1;32m     10\u001b[0m \u001b[0mprint\u001b[0m\u001b[0;34m(\u001b[0m\u001b[0;34m'2'\u001b[0m\u001b[0;34m)\u001b[0m\u001b[0;34m\u001b[0m\u001b[0;34m\u001b[0m\u001b[0m\n",
            "\u001b[0;31mTypeError\u001b[0m: func() missing 2 required positional arguments: 'a' and 'b'"
          ]
        }
      ]
    },
    {
      "cell_type": "code",
      "metadata": {
        "colab": {
          "base_uri": "https://localhost:8080/"
        },
        "id": "gp0VurkzznQM",
        "outputId": "ca3a02a9-bf4d-4b48-e304-57fdebf0f42a"
      },
      "source": [
        "# Practice 延續上題\n",
        "\n",
        "def func(a=0, b=0): # 此處設定預設值就OK\n",
        "  c = a + b\n",
        "  print(c)\n",
        "  return()\n",
        "\n",
        "print('1')\n",
        "func()\n",
        "print('2')"
      ],
      "execution_count": 17,
      "outputs": [
        {
          "output_type": "stream",
          "text": [
            "1\n",
            "0\n",
            "2\n"
          ],
          "name": "stdout"
        }
      ]
    },
    {
      "cell_type": "code",
      "metadata": {
        "colab": {
          "base_uri": "https://localhost:8080/"
        },
        "id": "8Ku2MupFg0K2",
        "outputId": "3af7c41c-cd4e-48e5-ae77-852d067983af"
      },
      "source": [
        "# def樣式III\n",
        "\n",
        "def func(a, b): # 接收參數，此處接收兩個資料\n",
        "  c = a + b\n",
        "  return(c) # 函數結束前的資料回傳\n",
        "z = func(10, 15) # 回傳資料會傳回呼叫此函數的語法；如語法有指派，也就是\"=\"，就會回傳給=左邊的變數\n",
        "\n",
        "print(z)"
      ],
      "execution_count": 19,
      "outputs": [
        {
          "output_type": "stream",
          "text": [
            "25\n"
          ],
          "name": "stdout"
        }
      ]
    },
    {
      "cell_type": "code",
      "metadata": {
        "colab": {
          "base_uri": "https://localhost:8080/"
        },
        "id": "Yvqg2pwl5gSo",
        "outputId": "1ae67393-3427-4c3e-da56-d0981dba8b99"
      },
      "source": [
        "# 驗證return = stop <return可停止後續程式碼的執行>\n",
        "\n",
        "def func(a, b):\n",
        "  c = a + b\n",
        "  print('a + b =', c)\n",
        "  return\n",
        "  c = a - b\n",
        "  print('a - b =', c)\n",
        "\n",
        "func(1, 2)"
      ],
      "execution_count": 23,
      "outputs": [
        {
          "output_type": "stream",
          "text": [
            "a + b = 3\n"
          ],
          "name": "stdout"
        }
      ]
    },
    {
      "cell_type": "code",
      "metadata": {
        "colab": {
          "base_uri": "https://localhost:8080/"
        },
        "id": "-0JwabGt8gpf",
        "outputId": "9a4fdc92-97a2-4d48-df35-6c1ddd765815"
      },
      "source": [
        "# Practice\n",
        "\n",
        "def func(a, b):\n",
        "  c = a + b * 2\n",
        "  return(c)\n",
        "\n",
        "print('1')\n",
        "z = func(3, 4)\n",
        "print(2)\n",
        "print(z)"
      ],
      "execution_count": 25,
      "outputs": [
        {
          "output_type": "stream",
          "text": [
            "1\n",
            "2\n",
            "11\n"
          ],
          "name": "stdout"
        }
      ]
    },
    {
      "cell_type": "code",
      "metadata": {
        "colab": {
          "base_uri": "https://localhost:8080/"
        },
        "id": "GVCzoBzQ91Gb",
        "outputId": "c6c44210-c8ac-4367-b0e1-91e7e1943664"
      },
      "source": [
        "# Practice\n",
        "\n",
        "def func(x, y):\n",
        "  return(x+y, x-y, x*y, x/y)\n",
        "\n",
        "temp = func(1, 2)\n",
        "print(temp)\n",
        "print(temp[0])\n",
        "print(temp[1])\n",
        "print(temp[2])\n",
        "print(temp[3])"
      ],
      "execution_count": 27,
      "outputs": [
        {
          "output_type": "stream",
          "text": [
            "(3, -1, 2, 0.5)\n",
            "3\n",
            "-1\n",
            "2\n",
            "0.5\n"
          ],
          "name": "stdout"
        }
      ]
    },
    {
      "cell_type": "code",
      "metadata": {
        "colab": {
          "base_uri": "https://localhost:8080/"
        },
        "id": "OB0X8HGJ_-vt",
        "outputId": "c3ac53f3-54d0-424d-9efc-ba749f133df3"
      },
      "source": [
        "# Practice\n",
        "\n",
        "def func(x, y):\n",
        "  return(x+y, x-y, x*y, x/y)\n",
        "\n",
        "a, b, c, d = func(1, 2)\n",
        "\n",
        "print(a, b, c, d)"
      ],
      "execution_count": 28,
      "outputs": [
        {
          "output_type": "stream",
          "text": [
            "3 -1 2 0.5\n"
          ],
          "name": "stdout"
        }
      ]
    }
  ]
}