{
  "nbformat": 4,
  "nbformat_minor": 0,
  "metadata": {
    "colab": {
      "name": "Day05-20210601-CH5-字典與函數.ipynb",
      "provenance": [],
      "collapsed_sections": [],
      "authorship_tag": "ABX9TyNvmxeKzob6qp1kCLLA7o3n"
    },
    "kernelspec": {
      "name": "python3",
      "display_name": "Python 3"
    },
    "language_info": {
      "name": "python"
    }
  },
  "cells": [
    {
      "cell_type": "code",
      "metadata": {
        "id": "PuVkyqR7koDJ",
        "colab": {
          "base_uri": "https://localhost:8080/"
        },
        "outputId": "7eb142b8-e877-4739-f7c8-1c2cfff3c0b4"
      },
      "source": [
        "# 查找_list\n",
        "\n",
        "names = ['Jean', 'Lucy', 'Kuku', 'Mia']\n",
        "scores = [0, 100, 99, 98]\n",
        "\n",
        "n = input('請輸入學生姓名 ')\n",
        "\n",
        "if names.count(n) > 0:\n",
        "  pos = names.index(n)\n",
        "  print(scores[pos])"
      ],
      "execution_count": null,
      "outputs": [
        {
          "output_type": "stream",
          "text": [
            "請輸入學生姓名 Lucy\n",
            "100\n"
          ],
          "name": "stdout"
        }
      ]
    },
    {
      "cell_type": "code",
      "metadata": {
        "colab": {
          "base_uri": "https://localhost:8080/"
        },
        "id": "1nH-OnKoKiQ6",
        "outputId": "3e725d46-f5aa-42c4-96f3-a9a4ce949c1f"
      },
      "source": [
        "# 查找_dict = {key:value, key:value...}\n",
        "\n",
        "students= {'Jean':0, 'Lucy':100, 'Kuku':99, 'Mia':98}\n",
        "n = input('請輸入學生姓名 ')\n",
        "students[n]"
      ],
      "execution_count": null,
      "outputs": [
        {
          "output_type": "stream",
          "text": [
            "請輸入學生姓名 Mia\n"
          ],
          "name": "stdout"
        },
        {
          "output_type": "execute_result",
          "data": {
            "text/plain": [
              "98"
            ]
          },
          "metadata": {
            "tags": []
          },
          "execution_count": 4
        }
      ]
    },
    {
      "cell_type": "code",
      "metadata": {
        "colab": {
          "base_uri": "https://localhost:8080/"
        },
        "id": "24R_pNHuMsYY",
        "outputId": "f5bab749-f72f-4944-d3af-e0be296e7ffb"
      },
      "source": [
        "# dictionary查找_使用get：資料內沒有則搜尋不到\n",
        "\n",
        "students = {'Jean':0, 'Lucy':100, 'Kuku':99, 'Mia':98}\n",
        "n = input('請輸入學生姓名 ')\n",
        "students.get(n)"
      ],
      "execution_count": null,
      "outputs": [
        {
          "output_type": "stream",
          "text": [
            "請輸入學生姓名 Huhu\n"
          ],
          "name": "stdout"
        }
      ]
    },
    {
      "cell_type": "code",
      "metadata": {
        "colab": {
          "base_uri": "https://localhost:8080/"
        },
        "id": "-7Bs4LE6ax9f",
        "outputId": "b096db92-a993-46b1-eef2-0645e49cf27a"
      },
      "source": [
        "# 當key重複，後方data會蓋掉前方\n",
        "\n",
        "students = {'Jean':0, 'Lucy':100, 'Kuku':99, 'Jean':98}\n",
        "students"
      ],
      "execution_count": null,
      "outputs": [
        {
          "output_type": "execute_result",
          "data": {
            "text/plain": [
              "{'Jean': 98, 'Kuku': 99, 'Lucy': 100}"
            ]
          },
          "metadata": {
            "tags": []
          },
          "execution_count": 9
        }
      ]
    },
    {
      "cell_type": "code",
      "metadata": {
        "colab": {
          "base_uri": "https://localhost:8080/",
          "height": 283
        },
        "id": "W4TJ7zEDOV9h",
        "outputId": "b5481950-1a22-4507-c52a-9521553b95e9"
      },
      "source": [
        "# Practice\n",
        "\n",
        "data = {'a':100, 'b':200, 'c':300}\n",
        "print(data)\n",
        "data = {'a':100, 'b':400, 'c':300}\n",
        "print(data)\n",
        "print(data['a'])\n",
        "print(data['b'])\n",
        "print(data.get('d'))\n",
        "print(data['d']) # 建議使用get不會出現錯誤"
      ],
      "execution_count": null,
      "outputs": [
        {
          "output_type": "stream",
          "text": [
            "{'a': 100, 'b': 200, 'c': 300}\n",
            "{'a': 100, 'b': 400, 'c': 300}\n",
            "100\n",
            "400\n",
            "None\n"
          ],
          "name": "stdout"
        },
        {
          "output_type": "error",
          "ename": "KeyError",
          "evalue": "ignored",
          "traceback": [
            "\u001b[0;31m---------------------------------------------------------------------------\u001b[0m",
            "\u001b[0;31mKeyError\u001b[0m                                  Traceback (most recent call last)",
            "\u001b[0;32m<ipython-input-23-d4ecfbbc32aa>\u001b[0m in \u001b[0;36m<module>\u001b[0;34m()\u001b[0m\n\u001b[1;32m      8\u001b[0m \u001b[0mprint\u001b[0m\u001b[0;34m(\u001b[0m\u001b[0mdata\u001b[0m\u001b[0;34m[\u001b[0m\u001b[0;34m'b'\u001b[0m\u001b[0;34m]\u001b[0m\u001b[0;34m)\u001b[0m\u001b[0;34m\u001b[0m\u001b[0;34m\u001b[0m\u001b[0m\n\u001b[1;32m      9\u001b[0m \u001b[0mprint\u001b[0m\u001b[0;34m(\u001b[0m\u001b[0mdata\u001b[0m\u001b[0;34m.\u001b[0m\u001b[0mget\u001b[0m\u001b[0;34m(\u001b[0m\u001b[0;34m'd'\u001b[0m\u001b[0;34m)\u001b[0m\u001b[0;34m)\u001b[0m\u001b[0;34m\u001b[0m\u001b[0;34m\u001b[0m\u001b[0m\n\u001b[0;32m---> 10\u001b[0;31m \u001b[0mprint\u001b[0m\u001b[0;34m(\u001b[0m\u001b[0mdata\u001b[0m\u001b[0;34m[\u001b[0m\u001b[0;34m'd'\u001b[0m\u001b[0;34m]\u001b[0m\u001b[0;34m)\u001b[0m \u001b[0;31m# 建議使用get不會出現錯誤\u001b[0m\u001b[0;34m\u001b[0m\u001b[0;34m\u001b[0m\u001b[0m\n\u001b[0m",
            "\u001b[0;31mKeyError\u001b[0m: 'd'"
          ]
        }
      ]
    },
    {
      "cell_type": "code",
      "metadata": {
        "colab": {
          "base_uri": "https://localhost:8080/"
        },
        "id": "zdYbv761ek4B",
        "outputId": "0f5dc964-f622-40f5-a312-4fba1154fc1f"
      },
      "source": [
        "# 使用.keys()、.values()找出key、value\n",
        "\n",
        "students= {'Jean':0, 'Lucy':100, 'Kuku':99, 'Mia':98}\n",
        "\n",
        "print(students.keys(), students.values())\n",
        "print(list(students.keys()), list(students.values())) # 轉換list"
      ],
      "execution_count": null,
      "outputs": [
        {
          "output_type": "stream",
          "text": [
            "dict_keys(['Jean', 'Lucy', 'Kuku', 'Mia']) dict_values([0, 100, 99, 98])\n",
            "['Jean', 'Lucy', 'Kuku', 'Mia'] [0, 100, 99, 98]\n"
          ],
          "name": "stdout"
        }
      ]
    },
    {
      "cell_type": "code",
      "metadata": {
        "colab": {
          "base_uri": "https://localhost:8080/"
        },
        "id": "EPeEbY7AgWMG",
        "outputId": "e97ba73e-1569-44c6-d244-b8dcdb720ee5"
      },
      "source": [
        "# update用法：data內沒有就新增\n",
        "\n",
        "students= {'Jean':0, 'Lucy':100, 'Kuku':99, 'Mia':98}\n",
        "students.update({'Huhu':97})\n",
        "students"
      ],
      "execution_count": null,
      "outputs": [
        {
          "output_type": "execute_result",
          "data": {
            "text/plain": [
              "{'Huhu': 97, 'Jean': 0, 'Kuku': 99, 'Lucy': 100, 'Mia': 98}"
            ]
          },
          "metadata": {
            "tags": []
          },
          "execution_count": 20
        }
      ]
    },
    {
      "cell_type": "code",
      "metadata": {
        "colab": {
          "base_uri": "https://localhost:8080/"
        },
        "id": "vgA6I4_ZjP2m",
        "outputId": "994dde93-a73f-46f3-9cde-8f9ba5e71b48"
      },
      "source": [
        "# update用法：data內沒有就更新\n",
        "\n",
        "students= {'Jean':0, 'Lucy':100, 'Kuku':99, 'Mia':98}\n",
        "students.update({'Mia':99})\n",
        "students"
      ],
      "execution_count": null,
      "outputs": [
        {
          "output_type": "execute_result",
          "data": {
            "text/plain": [
              "{'Jean': 0, 'Kuku': 99, 'Lucy': 100, 'Mia': 99}"
            ]
          },
          "metadata": {
            "tags": []
          },
          "execution_count": 21
        }
      ]
    },
    {
      "cell_type": "code",
      "metadata": {
        "colab": {
          "base_uri": "https://localhost:8080/"
        },
        "id": "KXZwoQBRjihD",
        "outputId": "2537f0b6-1ea0-4b48-c8bf-083208c04096"
      },
      "source": [
        "# Practice\n",
        "\n",
        "data = {'a':100, 'b':200, 'c':300}\n",
        "print(data)\n",
        "add_dic = {'d':400}\n",
        "data.update(add_dic)\n",
        "print(data)"
      ],
      "execution_count": null,
      "outputs": [
        {
          "output_type": "stream",
          "text": [
            "{'a': 100, 'b': 200, 'c': 300}\n",
            "{'a': 100, 'b': 200, 'c': 300, 'd': 400}\n"
          ],
          "name": "stdout"
        }
      ]
    },
    {
      "cell_type": "code",
      "metadata": {
        "colab": {
          "base_uri": "https://localhost:8080/"
        },
        "id": "Uwl5wuAMnFbW",
        "outputId": "5f822831-869c-4ed3-d592-98345e38661f"
      },
      "source": [
        "# Practice 簡易更新\n",
        "\n",
        "data = {'a':100, 'b':200, 'c':300}\n",
        "data['b'] = 500\n",
        "data"
      ],
      "execution_count": null,
      "outputs": [
        {
          "output_type": "execute_result",
          "data": {
            "text/plain": [
              "{'a': 100, 'b': 500, 'c': 300}"
            ]
          },
          "metadata": {
            "tags": []
          },
          "execution_count": 25
        }
      ]
    },
    {
      "cell_type": "code",
      "metadata": {
        "colab": {
          "base_uri": "https://localhost:8080/"
        },
        "id": "i-ue-8gGn8pe",
        "outputId": "3ea9d396-b358-437f-fa49-a7c0607fdfb9"
      },
      "source": [
        "# Practice 簡易新增\n",
        "\n",
        "data = {'a':100, 'b':200, 'c':300}\n",
        "data['d'] = 500\n",
        "data"
      ],
      "execution_count": null,
      "outputs": [
        {
          "output_type": "execute_result",
          "data": {
            "text/plain": [
              "{'a': 100, 'b': 200, 'c': 300, 'd': 500}"
            ]
          },
          "metadata": {
            "tags": []
          },
          "execution_count": 26
        }
      ]
    },
    {
      "cell_type": "code",
      "metadata": {
        "colab": {
          "base_uri": "https://localhost:8080/"
        },
        "id": "YR6XXnbroXwY",
        "outputId": "77b382d7-45a6-486f-806f-f407df347ff4"
      },
      "source": [
        "# 兩個list組合成dict_a\n",
        "\n",
        "names = ['Jean', 'Lucy', 'Kuku', 'Mia']\n",
        "scores = [0, 100, 99, 98]\n",
        "students = {}\n",
        "\n",
        "for i in range(len(names)):\n",
        "  #print(names[i], scores[i])\n",
        "  students[names[i]] = scores[i]\n",
        "\n",
        "students"
      ],
      "execution_count": null,
      "outputs": [
        {
          "output_type": "execute_result",
          "data": {
            "text/plain": [
              "{'Jean': 0, 'Kuku': 99, 'Lucy': 100, 'Mia': 98}"
            ]
          },
          "metadata": {
            "tags": []
          },
          "execution_count": 32
        }
      ]
    },
    {
      "cell_type": "code",
      "metadata": {
        "colab": {
          "base_uri": "https://localhost:8080/"
        },
        "id": "9orWLruWrtWd",
        "outputId": "27c73997-0597-4678-b7ef-d1274ffecd1d"
      },
      "source": [
        "# zip用法\n",
        "# zip是兩個數值輸出\n",
        "# dict([(k:v, k:v, k:v)])\n",
        "\n",
        "for j in zip(names, scores):\n",
        "  print(j)"
      ],
      "execution_count": null,
      "outputs": [
        {
          "output_type": "stream",
          "text": [
            "('Jean', 0)\n",
            "('Lucy', 100)\n",
            "('Kuku', 99)\n",
            "('Mia', 98)\n"
          ],
          "name": "stdout"
        }
      ]
    },
    {
      "cell_type": "code",
      "metadata": {
        "colab": {
          "base_uri": "https://localhost:8080/"
        },
        "id": "p8eL_-Ta7aKg",
        "outputId": "183e7eab-e694-4e02-9e33-bbfbf4898e36"
      },
      "source": [
        "# 兩個list組合成dict_b\n",
        "\n",
        "names = ['Jean', 'Lucy', 'Kuku', 'Mia']\n",
        "scores = [0, 100, 99, 98]\n",
        "students = {}\n",
        "\n",
        "for i in zip(names, scores):\n",
        "  print(i)\n",
        "  students[i[0]] = i[1]\n",
        "\n",
        "students"
      ],
      "execution_count": 8,
      "outputs": [
        {
          "output_type": "stream",
          "text": [
            "('Jean', 0)\n",
            "('Lucy', 100)\n",
            "('Kuku', 99)\n",
            "('Mia', 98)\n"
          ],
          "name": "stdout"
        },
        {
          "output_type": "execute_result",
          "data": {
            "text/plain": [
              "{'Jean': 0, 'Kuku': 99, 'Lucy': 100, 'Mia': 98}"
            ]
          },
          "metadata": {},
          "execution_count": 8
        }
      ]
    },
    {
      "cell_type": "code",
      "metadata": {
        "colab": {
          "base_uri": "https://localhost:8080/"
        },
        "id": "9op7aATKusAU",
        "outputId": "7bccf6c9-4dd4-4bb3-c558-029f238d2e2e"
      },
      "source": [
        "# 兩個list組合成dict_c\n",
        "# 接續上述，使用list comprehension\n",
        "\n",
        "dict(j for j in zip(names, scores))"
      ],
      "execution_count": null,
      "outputs": [
        {
          "output_type": "execute_result",
          "data": {
            "text/plain": [
              "{'Jean': 0, 'Kuku': 99, 'Lucy': 100, 'Mia': 98}"
            ]
          },
          "metadata": {
            "tags": []
          },
          "execution_count": 34
        }
      ]
    },
    {
      "cell_type": "code",
      "metadata": {
        "id": "DgODCrq7vL8v",
        "colab": {
          "base_uri": "https://localhost:8080/"
        },
        "outputId": "7385ab64-65a1-452e-9e73-6898febe6397"
      },
      "source": [
        "# 兩個list組合成dict_d\n",
        "# 倒著寫成dict([(v:k, v:k, v:k)])\n",
        "\n",
        "names = ['Jean', 'Lucy', 'Kuku', 'Mia']\n",
        "scores = [0, 100, 99, 98]\n",
        "\n",
        "dict([(j[1],j[0]) for j in zip(names, scores)])"
      ],
      "execution_count": 5,
      "outputs": [
        {
          "output_type": "execute_result",
          "data": {
            "text/plain": [
              "{0: 'Jean', 98: 'Mia', 99: 'Kuku', 100: 'Lucy'}"
            ]
          },
          "metadata": {},
          "execution_count": 5
        }
      ]
    },
    {
      "cell_type": "code",
      "metadata": {
        "colab": {
          "base_uri": "https://localhost:8080/"
        },
        "id": "VzSob-un7LlO",
        "outputId": "54d43262-3704-42a9-8179-d283d39e0027"
      },
      "source": [
        "# del刪除資料\n",
        "\n",
        "students = {'Jean':99, 'Lucy':98, 'Kuku':97, 'Mia':96}\n",
        "del(students['Jean'])\n",
        "students['Nian'] = 99\n",
        "students"
      ],
      "execution_count": 11,
      "outputs": [
        {
          "output_type": "execute_result",
          "data": {
            "text/plain": [
              "{'Kuku': 97, 'Lucy': 98, 'Mia': 96, 'Nian': 99}"
            ]
          },
          "metadata": {},
          "execution_count": 11
        }
      ]
    },
    {
      "cell_type": "code",
      "metadata": {
        "colab": {
          "base_uri": "https://localhost:8080/"
        },
        "id": "3375qevM_1nx",
        "outputId": "70bbc621-58c2-4de2-d505-8291ac97d728"
      },
      "source": [
        "# key的判斷:dict，回傳True or False\n",
        "\n",
        "students = {'Jean':99, 'Lucy':98, 'Kuku':97, 'Mia':96}\n",
        "'Huhu' in students.keys()"
      ],
      "execution_count": 12,
      "outputs": [
        {
          "output_type": "execute_result",
          "data": {
            "text/plain": [
              "False"
            ]
          },
          "metadata": {},
          "execution_count": 12
        }
      ]
    },
    {
      "cell_type": "code",
      "metadata": {
        "colab": {
          "base_uri": "https://localhost:8080/"
        },
        "id": "SJIqffByES0l",
        "outputId": "7fdf4f8e-9cbf-4e90-9f3d-e0b4287a3c5e"
      },
      "source": [
        "# key的判斷:list，回傳True or False\n",
        "\n",
        "students = ['Jean', 'Lucy', 'Kuku', 'Mia']\n",
        "'Huhu' in students"
      ],
      "execution_count": 13,
      "outputs": [
        {
          "output_type": "execute_result",
          "data": {
            "text/plain": [
              "False"
            ]
          },
          "metadata": {},
          "execution_count": 13
        }
      ]
    },
    {
      "cell_type": "code",
      "metadata": {
        "colab": {
          "base_uri": "https://localhost:8080/"
        },
        "id": "ePszB0stGf8L",
        "outputId": "98984a3a-3f75-4ac0-fa22-2771a796812c"
      },
      "source": [
        "# Practice_使用del刪除某個key\n",
        "\n",
        "data = {'a':100, 'b':200, 'c':300}\n",
        "del data['a']\n",
        "print('a' in data.keys())"
      ],
      "execution_count": 15,
      "outputs": [
        {
          "output_type": "stream",
          "text": [
            "False\n"
          ],
          "name": "stdout"
        }
      ]
    },
    {
      "cell_type": "code",
      "metadata": {
        "colab": {
          "base_uri": "https://localhost:8080/"
        },
        "id": "5SkgOUIwHYe9",
        "outputId": "41f6957a-c43e-41d6-c111-4d0f6593bd23"
      },
      "source": [
        "# Practice_使用clear清除所有內容\n",
        "\n",
        "data = {'a':100, 'b':200, 'c':300}\n",
        "data.clear()\n",
        "print('a' in data.keys())\n",
        "print(data)"
      ],
      "execution_count": 16,
      "outputs": [
        {
          "output_type": "stream",
          "text": [
            "False\n",
            "{}\n"
          ],
          "name": "stdout"
        }
      ]
    },
    {
      "cell_type": "code",
      "metadata": {
        "colab": {
          "base_uri": "https://localhost:8080/",
          "height": 198
        },
        "id": "zN25LLo0I1cd",
        "outputId": "834cabb6-6e77-446c-d427-4055cc533cb6"
      },
      "source": [
        "# Practice_使用del刪除dict\n",
        "# 變數已被刪除，因此輸出時出現錯誤\n",
        "\n",
        "data = {'a':100, 'b':200, 'c':300}\n",
        "del data\n",
        "print(data)"
      ],
      "execution_count": 18,
      "outputs": [
        {
          "output_type": "error",
          "ename": "NameError",
          "evalue": "ignored",
          "traceback": [
            "\u001b[0;31m---------------------------------------------------------------------------\u001b[0m",
            "\u001b[0;31mNameError\u001b[0m                                 Traceback (most recent call last)",
            "\u001b[0;32m<ipython-input-18-3dbaa5a16bc0>\u001b[0m in \u001b[0;36m<module>\u001b[0;34m()\u001b[0m\n\u001b[1;32m      3\u001b[0m \u001b[0mdata\u001b[0m \u001b[0;34m=\u001b[0m \u001b[0;34m{\u001b[0m\u001b[0;34m'a'\u001b[0m\u001b[0;34m:\u001b[0m\u001b[0;36m100\u001b[0m\u001b[0;34m,\u001b[0m \u001b[0;34m'b'\u001b[0m\u001b[0;34m:\u001b[0m\u001b[0;36m200\u001b[0m\u001b[0;34m,\u001b[0m \u001b[0;34m'c'\u001b[0m\u001b[0;34m:\u001b[0m\u001b[0;36m300\u001b[0m\u001b[0;34m}\u001b[0m\u001b[0;34m\u001b[0m\u001b[0;34m\u001b[0m\u001b[0m\n\u001b[1;32m      4\u001b[0m \u001b[0;32mdel\u001b[0m \u001b[0mdata\u001b[0m\u001b[0;34m\u001b[0m\u001b[0;34m\u001b[0m\u001b[0m\n\u001b[0;32m----> 5\u001b[0;31m \u001b[0mprint\u001b[0m\u001b[0;34m(\u001b[0m\u001b[0mdata\u001b[0m\u001b[0;34m)\u001b[0m\u001b[0;34m\u001b[0m\u001b[0;34m\u001b[0m\u001b[0m\n\u001b[0m",
            "\u001b[0;31mNameError\u001b[0m: name 'data' is not defined"
          ]
        }
      ]
    },
    {
      "cell_type": "code",
      "metadata": {
        "colab": {
          "base_uri": "https://localhost:8080/"
        },
        "id": "Om4RI9zYKOB1",
        "outputId": "4d033dc7-9330-4323-e380-33444d80da68"
      },
      "source": [
        "# Practice\n",
        "\n",
        "data = {'a':100, 'b':200, 'c':300}\n",
        "\n",
        "for k in data.keys():\n",
        "  print(k)\n",
        "print('-----')\n",
        "for k in data.keys():\n",
        "  print(data[k])\n",
        "print('-----')"
      ],
      "execution_count": 19,
      "outputs": [
        {
          "output_type": "stream",
          "text": [
            "a\n",
            "b\n",
            "c\n",
            "-----\n",
            "100\n",
            "200\n",
            "300\n",
            "-----\n"
          ],
          "name": "stdout"
        }
      ]
    },
    {
      "cell_type": "code",
      "metadata": {
        "colab": {
          "base_uri": "https://localhost:8080/"
        },
        "id": "x8Vu3PvVOJnY",
        "outputId": "6c8464b8-02dd-4b35-8486-820c4a4682f6"
      },
      "source": [
        "# Practice_輸出key\n",
        "\n",
        "blue = {'R':0, 'G':0, 'B':255}\n",
        "\n",
        "for i in blue:\n",
        "  print(i)"
      ],
      "execution_count": 23,
      "outputs": [
        {
          "output_type": "stream",
          "text": [
            "R\n",
            "G\n",
            "B\n"
          ],
          "name": "stdout"
        }
      ]
    },
    {
      "cell_type": "code",
      "metadata": {
        "colab": {
          "base_uri": "https://localhost:8080/"
        },
        "id": "5isjpNcTOymv",
        "outputId": "e6c8a3f2-d569-49f4-9eb2-fe11a9da5a5e"
      },
      "source": [
        "# Practice\n",
        "# dict.items()輸出key、value\n",
        "\n",
        "black = {'R':0, 'G':0, 'B':0}\n",
        "\n",
        "for i in black.items():\n",
        "  print(i)"
      ],
      "execution_count": 25,
      "outputs": [
        {
          "output_type": "stream",
          "text": [
            "('R', 0)\n",
            "('G', 0)\n",
            "('B', 0)\n"
          ],
          "name": "stdout"
        }
      ]
    },
    {
      "cell_type": "code",
      "metadata": {
        "colab": {
          "base_uri": "https://localhost:8080/"
        },
        "id": "FkdwxAZbRJxw",
        "outputId": "d6ff7790-fa40-489d-e4f0-cc0ae0b52d10"
      },
      "source": [
        "# Practice_輸出value\n",
        "\n",
        "white = {'R':255, 'G':255, 'B':255}\n",
        "\n",
        "for i in white.values():\n",
        "  print(i)"
      ],
      "execution_count": 35,
      "outputs": [
        {
          "output_type": "stream",
          "text": [
            "255\n",
            "255\n",
            "255\n"
          ],
          "name": "stdout"
        }
      ]
    },
    {
      "cell_type": "code",
      "metadata": {
        "id": "35u32BjXTDnx"
      },
      "source": [
        "# 支出最大與最小\n",
        "\n",
        "\n"
      ],
      "execution_count": 57,
      "outputs": []
    }
  ]
}