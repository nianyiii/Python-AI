{
 "cells": [
  {
   "cell_type": "markdown",
   "id": "91a631c8",
   "metadata": {},
   "source": [
    "# 使用模組"
   ]
  },
  {
   "cell_type": "code",
   "execution_count": 1,
   "id": "1a3818db",
   "metadata": {},
   "outputs": [
    {
     "name": "stdout",
     "output_type": "stream",
     "text": [
      "['__builtins__', '__cached__', '__doc__', '__file__', '__loader__', '__name__', '__package__', '__spec__', 'minus', 'multi', 'plus']\n"
     ]
    }
   ],
   "source": [
    "# 自訂函數minus、multi、plus並建立sample.py\n",
    "\n",
    "import sample as spl\n",
    "\n",
    "print(dir(spl)) # dir顯示套件屬性＆方法"
   ]
  },
  {
   "cell_type": "code",
   "execution_count": 2,
   "id": "63545c3f",
   "metadata": {},
   "outputs": [],
   "source": [
    "# 從套件匯入指定方法\n",
    "from sample import minus\n",
    "minus?"
   ]
  },
  {
   "cell_type": "code",
   "execution_count": 3,
   "id": "0acd71c0",
   "metadata": {},
   "outputs": [
    {
     "name": "stdout",
     "output_type": "stream",
     "text": [
      "['__builtins__', '__cached__', '__doc__', '__file__', '__loader__', '__name__', '__package__', '__spec__', 'fun1', 'test1']\n"
     ]
    }
   ],
   "source": [
    "# Practice\n",
    "\n",
    "import modu\n",
    "\n",
    "print(dir(modu))"
   ]
  },
  {
   "cell_type": "code",
   "execution_count": 17,
   "id": "212b3e6d",
   "metadata": {},
   "outputs": [
    {
     "name": "stdout",
     "output_type": "stream",
     "text": [
      "create\n",
      "function\n"
     ]
    },
    {
     "data": {
      "text/plain": [
       "()"
      ]
     },
     "execution_count": 17,
     "metadata": {},
     "output_type": "execute_result"
    }
   ],
   "source": [
    "cls = modu.test1() # 初始模組種的類別\n",
    "modu.fun1()        # 呼叫模組中的函數"
   ]
  },
  {
   "cell_type": "markdown",
   "id": "37b47fb5",
   "metadata": {},
   "source": [
    "# 自製套件"
   ]
  },
  {
   "cell_type": "code",
   "execution_count": 18,
   "id": "68a57809",
   "metadata": {},
   "outputs": [
    {
     "name": "stdout",
     "output_type": "stream",
     "text": [
      "/opt/anaconda3/lib/python3.7/site-packages/pandas/__init__.py\n"
     ]
    }
   ],
   "source": [
    "# 每個套件裡必須存在__init__.py，以pandas為例\n",
    "\n",
    "import pandas\n",
    "print(pandas.__file__)"
   ]
  },
  {
   "cell_type": "markdown",
   "id": "47f72f84",
   "metadata": {},
   "source": [
    "# 亂數呼叫使用"
   ]
  },
  {
   "cell_type": "code",
   "execution_count": 22,
   "id": "b813475a",
   "metadata": {},
   "outputs": [
    {
     "name": "stdout",
     "output_type": "stream",
     "text": [
      "<class 'module'>\n",
      "['BPF', 'LOG4', 'NV_MAGICCONST', 'RECIP_BPF', 'Random', 'SG_MAGICCONST', 'SystemRandom', 'TWOPI', '_BuiltinMethodType', '_MethodType', '_Sequence', '_Set', '__all__', '__builtins__', '__cached__', '__doc__', '__file__', '__loader__', '__name__', '__package__', '__spec__', '_acos', '_bisect', '_ceil', '_cos', '_e', '_exp', '_inst', '_itertools', '_log', '_os', '_pi', '_random', '_sha512', '_sin', '_sqrt', '_test', '_test_generator', '_urandom', '_warn', 'betavariate', 'choice', 'choices', 'expovariate', 'gammavariate', 'gauss', 'getrandbits', 'getstate', 'lognormvariate', 'normalvariate', 'paretovariate', 'randint', 'random', 'randrange', 'sample', 'seed', 'setstate', 'shuffle', 'triangular', 'uniform', 'vonmisesvariate', 'weibullvariate']\n"
     ]
    }
   ],
   "source": [
    "# 檢視random\n",
    "\n",
    "import random\n",
    "print(type(random))\n",
    "print(dir(random))"
   ]
  },
  {
   "cell_type": "code",
   "execution_count": 24,
   "id": "72032ebc",
   "metadata": {},
   "outputs": [
    {
     "data": {
      "text/plain": [
       "6"
      ]
     },
     "execution_count": 24,
     "metadata": {},
     "output_type": "execute_result"
    }
   ],
   "source": [
    "# 舉例randint，產生1-6之間的數字\n",
    "random.randint(1, 6)"
   ]
  },
  {
   "cell_type": "code",
   "execution_count": 41,
   "id": "665a56aa",
   "metadata": {},
   "outputs": [
    {
     "data": {
      "text/plain": [
       "[1, 6, 2, 3, 6, 4, 4, 4, 5, 5]"
      ]
     },
     "execution_count": 41,
     "metadata": {},
     "output_type": "execute_result"
    }
   ],
   "source": [
    "# Exam:產生十個數字1-6的亂數，放在變數data內（data為list）\n",
    "# 方法1\n",
    "\n",
    "data = [random.randint(1, 6) for a in range(10)]\n",
    "data"
   ]
  },
  {
   "cell_type": "code",
   "execution_count": 46,
   "id": "f0525358",
   "metadata": {
    "scrolled": false
   },
   "outputs": [
    {
     "name": "stdout",
     "output_type": "stream",
     "text": [
      "[5, 6, 5, 2, 5, 2, 3, 4, 3, 3]\n"
     ]
    }
   ],
   "source": [
    "# Exam:產生十個數字1-6的亂數，放在變數data內（data為list）\n",
    "# 方法2\n",
    "\n",
    "data = []\n",
    "\n",
    "for a in range(10):\n",
    "    data.append(random.randint(1, 6))\n",
    "print(data)"
   ]
  },
  {
   "cell_type": "code",
   "execution_count": null,
   "id": "554b1d11",
   "metadata": {},
   "outputs": [],
   "source": []
  }
 ],
 "metadata": {
  "kernelspec": {
   "display_name": "Python 3",
   "language": "python",
   "name": "python3"
  },
  "language_info": {
   "codemirror_mode": {
    "name": "ipython",
    "version": 3
   },
   "file_extension": ".py",
   "mimetype": "text/x-python",
   "name": "python",
   "nbconvert_exporter": "python",
   "pygments_lexer": "ipython3",
   "version": "3.7.10"
  }
 },
 "nbformat": 4,
 "nbformat_minor": 5
}
