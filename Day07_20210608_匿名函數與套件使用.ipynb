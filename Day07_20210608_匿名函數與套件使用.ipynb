{
  "nbformat": 4,
  "nbformat_minor": 0,
  "metadata": {
    "colab": {
      "name": "Day07-20210608-匿名函數與套件使用.ipynb",
      "provenance": [],
      "collapsed_sections": [],
      "authorship_tag": "ABX9TyPR1+MCqFm7v0uu/Zvx4DV1"
    },
    "kernelspec": {
      "name": "python3",
      "display_name": "Python 3"
    },
    "language_info": {
      "name": "python"
    }
  },
  "cells": [
    {
      "cell_type": "markdown",
      "metadata": {
        "id": "Dvv-rwqpzG8u"
      },
      "source": [
        "# 匿名函數"
      ]
    },
    {
      "cell_type": "code",
      "metadata": {
        "colab": {
          "base_uri": "https://localhost:8080/"
        },
        "id": "cpyndtq5zKwp",
        "outputId": "51c13fcd-07fb-41d0-8eb0-6625ad7f541c"
      },
      "source": [
        "# 具名函數\n",
        "# 開根號乘以乘以10\n",
        "\n",
        "def upgrade(s):\n",
        "  return (round(s ** 0.5 * 10))\n",
        "\n",
        "upgrade(55)"
      ],
      "execution_count": 1,
      "outputs": [
        {
          "output_type": "execute_result",
          "data": {
            "text/plain": [
              "74"
            ]
          },
          "metadata": {},
          "execution_count": 1
        }
      ]
    },
    {
      "cell_type": "code",
      "metadata": {
        "colab": {
          "base_uri": "https://localhost:8080/"
        },
        "id": "vx2i02naz8BM",
        "outputId": "ec8c494f-ab65-41c1-8bf5-bf6111cb2607"
      },
      "source": [
        "# 具名函數_迴圈\n",
        "\n",
        "scores = [2, 13, 27, 39, 46, 58]\n",
        "\n",
        "for s in scores:\n",
        "  print(upgrade(s))"
      ],
      "execution_count": 3,
      "outputs": [
        {
          "output_type": "stream",
          "name": "stdout",
          "text": [
            "14\n",
            "36\n",
            "52\n",
            "62\n",
            "68\n",
            "76\n"
          ]
        }
      ]
    },
    {
      "cell_type": "code",
      "metadata": {
        "colab": {
          "base_uri": "https://localhost:8080/"
        },
        "id": "RYq-IpMS0V_D",
        "outputId": "0fbc5992-d789-44b3-d1d8-c8d8b833da9e"
      },
      "source": [
        "# 具名函數_List Comprehension-1\n",
        "\n",
        "scores = [2, 13, 27, 39, 46, 58]\n",
        "\n",
        "[upgrade(s) for s in scores]"
      ],
      "execution_count": 4,
      "outputs": [
        {
          "output_type": "execute_result",
          "data": {
            "text/plain": [
              "[14, 36, 52, 62, 68, 76]"
            ]
          },
          "metadata": {},
          "execution_count": 4
        }
      ]
    },
    {
      "cell_type": "code",
      "metadata": {
        "colab": {
          "base_uri": "https://localhost:8080/"
        },
        "id": "Y3j0fRj01cwP",
        "outputId": "efe9b922-6a34-4d86-df29-fd1919540c23"
      },
      "source": [
        "# 具名函數_List Comprehension-2\n",
        "\n",
        "scores = [2, 13, 27, 39, 46, 58]\n",
        "\n",
        "[round(s ** 0.5 * 10) for s in scores]"
      ],
      "execution_count": 11,
      "outputs": [
        {
          "output_type": "execute_result",
          "data": {
            "text/plain": [
              "[14, 36, 52, 62, 68, 76]"
            ]
          },
          "metadata": {},
          "execution_count": 11
        }
      ]
    },
    {
      "cell_type": "code",
      "metadata": {
        "colab": {
          "base_uri": "https://localhost:8080/"
        },
        "id": "Ais35ENA0wgT",
        "outputId": "67d7aa50-a583-434c-e1ed-aa63f989c98c"
      },
      "source": [
        "# 匿名函數\n",
        "\n",
        "up = lambda x: round(x ** 0.5 * 10)\n",
        "up(55)"
      ],
      "execution_count": 5,
      "outputs": [
        {
          "output_type": "execute_result",
          "data": {
            "text/plain": [
              "74"
            ]
          },
          "metadata": {},
          "execution_count": 5
        }
      ]
    },
    {
      "cell_type": "code",
      "metadata": {
        "colab": {
          "base_uri": "https://localhost:8080/"
        },
        "id": "40q-U69E4vp4",
        "outputId": "e167a836-6f8a-41c5-f40e-7e3a9002c34e"
      },
      "source": [
        "# 匿名函數_迴圈\n",
        "\n",
        "scores = [2, 13, 27, 39, 46, 58]\n",
        "\n",
        "for s in scores:\n",
        "  print((lambda x: round(x ** 0.5 * 10))(s))"
      ],
      "execution_count": 46,
      "outputs": [
        {
          "output_type": "stream",
          "name": "stdout",
          "text": [
            "14\n",
            "36\n",
            "52\n",
            "62\n",
            "68\n",
            "76\n"
          ]
        }
      ]
    },
    {
      "cell_type": "code",
      "metadata": {
        "colab": {
          "base_uri": "https://localhost:8080/"
        },
        "id": "WtaNgm4b4LfS",
        "outputId": "e8bd797d-7555-4e16-d230-18c014b06c13"
      },
      "source": [
        "# 匿名函數_List Comprehension\n",
        "\n",
        "scores = [2, 13, 27, 39, 46, 58]\n",
        "\n",
        "[(lambda x: round(x ** 0.5 * 10)) (s) for s in scores]"
      ],
      "execution_count": 13,
      "outputs": [
        {
          "output_type": "execute_result",
          "data": {
            "text/plain": [
              "[14, 36, 52, 62, 68, 76]"
            ]
          },
          "metadata": {},
          "execution_count": 13
        }
      ]
    },
    {
      "cell_type": "code",
      "metadata": {
        "colab": {
          "base_uri": "https://localhost:8080/"
        },
        "id": "t4wHoUsE_8uZ",
        "outputId": "2296840c-b52c-40d2-8658-24233fef0551"
      },
      "source": [
        "# Practice\n",
        "\n",
        "## 具名函數\n",
        "def f(x, y, z):\n",
        "  return x + y + z\n",
        "\n",
        "print('具名函數處理')\n",
        "print(f(2, 30, 400))\n",
        "\n",
        "## 匿名函數\n",
        "k = lambda x, y, z: x + y + z\n",
        "\n",
        "print('匿名函數處理')\n",
        "print(k(2, 30, 400))"
      ],
      "execution_count": 49,
      "outputs": [
        {
          "output_type": "stream",
          "name": "stdout",
          "text": [
            "具名函數處理\n",
            "432\n",
            "匿名函數處理\n",
            "432\n"
          ]
        }
      ]
    },
    {
      "cell_type": "code",
      "metadata": {
        "colab": {
          "base_uri": "https://localhost:8080/"
        },
        "id": "bjLlEI78BQ5v",
        "outputId": "9805b16d-bfb5-4bfc-e164-0160291c7bac"
      },
      "source": [
        "# Practice\n",
        "\n",
        "mz = (lambda a = 'Wolfgangus', b = 'Theophilus', c = 'Mozart': a + b + c)\n",
        "print(mz(a = 'Wolfgang', b = 'Amadeus'))"
      ],
      "execution_count": 53,
      "outputs": [
        {
          "output_type": "stream",
          "name": "stdout",
          "text": [
            "WolfgangAmadeusMozart\n"
          ]
        }
      ]
    },
    {
      "cell_type": "code",
      "metadata": {
        "colab": {
          "base_uri": "https://localhost:8080/"
        },
        "id": "UCVL7SWZC-nh",
        "outputId": "e833e4e5-bf67-4010-a86e-567a455d6f1d"
      },
      "source": [
        "# Practice\n",
        "# put the funtion in the list\n",
        "\n",
        "try1 = [lambda x: x ** 2, lambda x: x ** 3, lambda x: x ** 4]\n",
        "print(try1.__class__)\n",
        "print('------------------')\n",
        "\n",
        "for h in try1:\n",
        "  print('每一個',h.__class__)\n",
        "  print('運算後是',h(3))\n",
        "print('------------------')\n",
        "\n",
        "print(try1[0](11)) # ---> 從list取出第零個進行運算，記得加上(參數)"
      ],
      "execution_count": 56,
      "outputs": [
        {
          "output_type": "stream",
          "name": "stdout",
          "text": [
            "<class 'list'>\n",
            "------------------\n",
            "每一個 <class 'function'>\n",
            "運算後是 9\n",
            "每一個 <class 'function'>\n",
            "運算後是 27\n",
            "每一個 <class 'function'>\n",
            "運算後是 81\n",
            "------------------\n",
            "121\n"
          ]
        }
      ]
    },
    {
      "cell_type": "code",
      "metadata": {
        "colab": {
          "base_uri": "https://localhost:8080/"
        },
        "id": "FAsgIeO4IEUm",
        "outputId": "1426d518-5047-4221-8ce2-ef7f45d3dec0"
      },
      "source": [
        "# Practice\n",
        "\n",
        "print('一般函數處理')\n",
        "def f1(x):\n",
        "  return x ** 2\n",
        "def f2(x):\n",
        "  return x ** 3\n",
        "def f3(x):\n",
        "  return x ** 4\n",
        "\n",
        "try2 = [f1, f2, f3]\n",
        "\n",
        "for ff in try2:\n",
        "  print('每一個',ff.__class__)\n",
        "  print('運算後是',ff(3))\n",
        "print('------------------')\n",
        "\n",
        "print(try2[0](11))"
      ],
      "execution_count": 58,
      "outputs": [
        {
          "output_type": "stream",
          "name": "stdout",
          "text": [
            "一般函數處理\n",
            "每一個 <class 'function'>\n",
            "運算後是 9\n",
            "每一個 <class 'function'>\n",
            "運算後是 27\n",
            "每一個 <class 'function'>\n",
            "運算後是 81\n",
            "------------------\n",
            "121\n"
          ]
        }
      ]
    },
    {
      "cell_type": "code",
      "metadata": {
        "colab": {
          "base_uri": "https://localhost:8080/"
        },
        "id": "LykRGxJgKP1_",
        "outputId": "f80efe52-b656-4f6d-d88e-8530d20b0268"
      },
      "source": [
        "# 補充：三元運算式\n",
        "\n",
        "x, y = 1, 3\n",
        "\n",
        "x if x <= y else y # 由下方判斷式改為單行\n",
        "\n",
        "# if x <= y:\n",
        "#   print(x)\n",
        "# else:\n",
        "#   print(y)"
      ],
      "execution_count": 59,
      "outputs": [
        {
          "output_type": "execute_result",
          "data": {
            "text/plain": [
              "1"
            ]
          },
          "metadata": {},
          "execution_count": 59
        }
      ]
    },
    {
      "cell_type": "code",
      "metadata": {
        "colab": {
          "base_uri": "https://localhost:8080/"
        },
        "id": "52FamADJLFUz",
        "outputId": "d14c2591-a8e2-4baf-f82b-ab0a36dc9c44"
      },
      "source": [
        "# Practice\n",
        "# 取最小\n",
        "\n",
        "print('匿名函數可用於條件分析表達上')\n",
        "findmin = lambda x, y: x if x < y else y\n",
        "\n",
        "print(findmin(101 * 99, 102 * 98))\n",
        "print(findmin(102 * 98, 101 * 99))"
      ],
      "execution_count": 60,
      "outputs": [
        {
          "output_type": "stream",
          "name": "stdout",
          "text": [
            "匿名函數可用於條件分析表達上\n",
            "9996\n",
            "9996\n"
          ]
        }
      ]
    },
    {
      "cell_type": "code",
      "metadata": {
        "colab": {
          "base_uri": "https://localhost:8080/"
        },
        "id": "fh7iMvF4PmDP",
        "outputId": "037ed396-6647-470b-8a23-cd64d7f3358c"
      },
      "source": [
        "# 承上練習，簡化\n",
        "\n",
        "print('匿名函數可用於條件分析表達上')\n",
        "findmin = lambda x, y: min(x, y)\n",
        "\n",
        "print(findmin(101 * 99, 102 * 98))\n",
        "print(findmin(102 * 98, 101 * 99))"
      ],
      "execution_count": 61,
      "outputs": [
        {
          "output_type": "stream",
          "name": "stdout",
          "text": [
            "匿名函數可用於條件分析表達上\n",
            "9996\n",
            "9996\n"
          ]
        }
      ]
    }
  ]
}