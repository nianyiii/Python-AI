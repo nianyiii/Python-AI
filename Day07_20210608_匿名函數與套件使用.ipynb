{
  "nbformat": 4,
  "nbformat_minor": 0,
  "metadata": {
    "colab": {
      "name": "Day07-20210608-匿名函數與套件使用.ipynb",
      "provenance": [],
      "collapsed_sections": [],
      "authorship_tag": "ABX9TyOEgxnxxhrVpH0qMcK3PEmM"
    },
    "kernelspec": {
      "name": "python3",
      "display_name": "Python 3"
    },
    "language_info": {
      "name": "python"
    }
  },
  "cells": [
    {
      "cell_type": "markdown",
      "metadata": {
        "id": "Dvv-rwqpzG8u"
      },
      "source": [
        "# 匿名函數"
      ]
    },
    {
      "cell_type": "code",
      "metadata": {
        "colab": {
          "base_uri": "https://localhost:8080/"
        },
        "id": "cpyndtq5zKwp",
        "outputId": "51c13fcd-07fb-41d0-8eb0-6625ad7f541c"
      },
      "source": [
        "# 具名函數\n",
        "# 開根號乘以乘以10\n",
        "\n",
        "def upgrade(s):\n",
        "  return (round(s ** 0.5 * 10))\n",
        "\n",
        "upgrade(55)"
      ],
      "execution_count": null,
      "outputs": [
        {
          "output_type": "execute_result",
          "data": {
            "text/plain": [
              "74"
            ]
          },
          "metadata": {},
          "execution_count": 1
        }
      ]
    },
    {
      "cell_type": "code",
      "metadata": {
        "colab": {
          "base_uri": "https://localhost:8080/"
        },
        "id": "vx2i02naz8BM",
        "outputId": "ec8c494f-ab65-41c1-8bf5-bf6111cb2607"
      },
      "source": [
        "# 具名函數_迴圈\n",
        "\n",
        "scores = [2, 13, 27, 39, 46, 58]\n",
        "\n",
        "for s in scores:\n",
        "  print(upgrade(s))"
      ],
      "execution_count": null,
      "outputs": [
        {
          "output_type": "stream",
          "name": "stdout",
          "text": [
            "14\n",
            "36\n",
            "52\n",
            "62\n",
            "68\n",
            "76\n"
          ]
        }
      ]
    },
    {
      "cell_type": "code",
      "metadata": {
        "colab": {
          "base_uri": "https://localhost:8080/"
        },
        "id": "RYq-IpMS0V_D",
        "outputId": "0fbc5992-d789-44b3-d1d8-c8d8b833da9e"
      },
      "source": [
        "# 具名函數_List Comprehension-1\n",
        "\n",
        "scores = [2, 13, 27, 39, 46, 58]\n",
        "\n",
        "[upgrade(s) for s in scores]"
      ],
      "execution_count": null,
      "outputs": [
        {
          "output_type": "execute_result",
          "data": {
            "text/plain": [
              "[14, 36, 52, 62, 68, 76]"
            ]
          },
          "metadata": {},
          "execution_count": 4
        }
      ]
    },
    {
      "cell_type": "code",
      "metadata": {
        "colab": {
          "base_uri": "https://localhost:8080/"
        },
        "id": "Y3j0fRj01cwP",
        "outputId": "efe9b922-6a34-4d86-df29-fd1919540c23"
      },
      "source": [
        "# 具名函數_List Comprehension-2\n",
        "\n",
        "scores = [2, 13, 27, 39, 46, 58]\n",
        "\n",
        "[round(s ** 0.5 * 10) for s in scores]"
      ],
      "execution_count": null,
      "outputs": [
        {
          "output_type": "execute_result",
          "data": {
            "text/plain": [
              "[14, 36, 52, 62, 68, 76]"
            ]
          },
          "metadata": {},
          "execution_count": 11
        }
      ]
    },
    {
      "cell_type": "code",
      "metadata": {
        "colab": {
          "base_uri": "https://localhost:8080/"
        },
        "id": "Ais35ENA0wgT",
        "outputId": "67d7aa50-a583-434c-e1ed-aa63f989c98c"
      },
      "source": [
        "# 匿名函數\n",
        "\n",
        "up = lambda x: round(x ** 0.5 * 10)\n",
        "up(55)"
      ],
      "execution_count": null,
      "outputs": [
        {
          "output_type": "execute_result",
          "data": {
            "text/plain": [
              "74"
            ]
          },
          "metadata": {},
          "execution_count": 5
        }
      ]
    },
    {
      "cell_type": "code",
      "metadata": {
        "colab": {
          "base_uri": "https://localhost:8080/"
        },
        "id": "40q-U69E4vp4",
        "outputId": "e167a836-6f8a-41c5-f40e-7e3a9002c34e"
      },
      "source": [
        "# 匿名函數_迴圈\n",
        "\n",
        "scores = [2, 13, 27, 39, 46, 58]\n",
        "\n",
        "for s in scores:\n",
        "  print((lambda x: round(x ** 0.5 * 10))(s))"
      ],
      "execution_count": null,
      "outputs": [
        {
          "output_type": "stream",
          "name": "stdout",
          "text": [
            "14\n",
            "36\n",
            "52\n",
            "62\n",
            "68\n",
            "76\n"
          ]
        }
      ]
    },
    {
      "cell_type": "code",
      "metadata": {
        "colab": {
          "base_uri": "https://localhost:8080/"
        },
        "id": "WtaNgm4b4LfS",
        "outputId": "e8bd797d-7555-4e16-d230-18c014b06c13"
      },
      "source": [
        "# 匿名函數_List Comprehension\n",
        "\n",
        "scores = [2, 13, 27, 39, 46, 58]\n",
        "\n",
        "[(lambda x: round(x ** 0.5 * 10)) (s) for s in scores]"
      ],
      "execution_count": null,
      "outputs": [
        {
          "output_type": "execute_result",
          "data": {
            "text/plain": [
              "[14, 36, 52, 62, 68, 76]"
            ]
          },
          "metadata": {},
          "execution_count": 13
        }
      ]
    },
    {
      "cell_type": "code",
      "metadata": {
        "colab": {
          "base_uri": "https://localhost:8080/"
        },
        "id": "t4wHoUsE_8uZ",
        "outputId": "2296840c-b52c-40d2-8658-24233fef0551"
      },
      "source": [
        "# Practice\n",
        "\n",
        "## 具名函數\n",
        "def f(x, y, z):\n",
        "  return x + y + z\n",
        "\n",
        "print('具名函數處理')\n",
        "print(f(2, 30, 400))\n",
        "\n",
        "## 匿名函數\n",
        "k = lambda x, y, z: x + y + z\n",
        "\n",
        "print('匿名函數處理')\n",
        "print(k(2, 30, 400))"
      ],
      "execution_count": null,
      "outputs": [
        {
          "output_type": "stream",
          "name": "stdout",
          "text": [
            "具名函數處理\n",
            "432\n",
            "匿名函數處理\n",
            "432\n"
          ]
        }
      ]
    },
    {
      "cell_type": "code",
      "metadata": {
        "colab": {
          "base_uri": "https://localhost:8080/"
        },
        "id": "bjLlEI78BQ5v",
        "outputId": "9805b16d-bfb5-4bfc-e164-0160291c7bac"
      },
      "source": [
        "# Practice\n",
        "\n",
        "mz = (lambda a = 'Wolfgangus', b = 'Theophilus', c = 'Mozart': a + b + c)\n",
        "print(mz(a = 'Wolfgang', b = 'Amadeus'))"
      ],
      "execution_count": null,
      "outputs": [
        {
          "output_type": "stream",
          "name": "stdout",
          "text": [
            "WolfgangAmadeusMozart\n"
          ]
        }
      ]
    },
    {
      "cell_type": "code",
      "metadata": {
        "colab": {
          "base_uri": "https://localhost:8080/"
        },
        "id": "UCVL7SWZC-nh",
        "outputId": "e833e4e5-bf67-4010-a86e-567a455d6f1d"
      },
      "source": [
        "# Practice\n",
        "# put the funtion in the list\n",
        "\n",
        "try1 = [lambda x: x ** 2, lambda x: x ** 3, lambda x: x ** 4]\n",
        "print(try1.__class__)\n",
        "print('------------------')\n",
        "\n",
        "for h in try1:\n",
        "  print('每一個',h.__class__)\n",
        "  print('運算後是',h(3))\n",
        "print('------------------')\n",
        "\n",
        "print(try1[0](11)) # ---> 從list取出第零個進行運算，記得加上(參數)"
      ],
      "execution_count": null,
      "outputs": [
        {
          "output_type": "stream",
          "name": "stdout",
          "text": [
            "<class 'list'>\n",
            "------------------\n",
            "每一個 <class 'function'>\n",
            "運算後是 9\n",
            "每一個 <class 'function'>\n",
            "運算後是 27\n",
            "每一個 <class 'function'>\n",
            "運算後是 81\n",
            "------------------\n",
            "121\n"
          ]
        }
      ]
    },
    {
      "cell_type": "code",
      "metadata": {
        "colab": {
          "base_uri": "https://localhost:8080/"
        },
        "id": "FAsgIeO4IEUm",
        "outputId": "1426d518-5047-4221-8ce2-ef7f45d3dec0"
      },
      "source": [
        "# Practice\n",
        "\n",
        "print('一般函數處理')\n",
        "def f1(x):\n",
        "  return x ** 2\n",
        "def f2(x):\n",
        "  return x ** 3\n",
        "def f3(x):\n",
        "  return x ** 4\n",
        "\n",
        "try2 = [f1, f2, f3]\n",
        "\n",
        "for ff in try2:\n",
        "  print('每一個',ff.__class__)\n",
        "  print('運算後是',ff(3))\n",
        "print('------------------')\n",
        "\n",
        "print(try2[0](11))"
      ],
      "execution_count": null,
      "outputs": [
        {
          "output_type": "stream",
          "name": "stdout",
          "text": [
            "一般函數處理\n",
            "每一個 <class 'function'>\n",
            "運算後是 9\n",
            "每一個 <class 'function'>\n",
            "運算後是 27\n",
            "每一個 <class 'function'>\n",
            "運算後是 81\n",
            "------------------\n",
            "121\n"
          ]
        }
      ]
    },
    {
      "cell_type": "code",
      "metadata": {
        "colab": {
          "base_uri": "https://localhost:8080/"
        },
        "id": "LykRGxJgKP1_",
        "outputId": "f80efe52-b656-4f6d-d88e-8530d20b0268"
      },
      "source": [
        "# 補充：三元運算式\n",
        "\n",
        "x, y = 1, 3\n",
        "\n",
        "x if x <= y else y # 由下方判斷式改為單行\n",
        "\n",
        "# if x <= y:\n",
        "#   print(x)\n",
        "# else:\n",
        "#   print(y)"
      ],
      "execution_count": null,
      "outputs": [
        {
          "output_type": "execute_result",
          "data": {
            "text/plain": [
              "1"
            ]
          },
          "metadata": {},
          "execution_count": 59
        }
      ]
    },
    {
      "cell_type": "code",
      "metadata": {
        "colab": {
          "base_uri": "https://localhost:8080/"
        },
        "id": "52FamADJLFUz",
        "outputId": "d14c2591-a8e2-4baf-f82b-ab0a36dc9c44"
      },
      "source": [
        "# Practice\n",
        "# 取最小\n",
        "\n",
        "print('匿名函數可用於條件分析表達上')\n",
        "findmin = lambda x, y: x if x < y else y\n",
        "\n",
        "print(findmin(101 * 99, 102 * 98))\n",
        "print(findmin(102 * 98, 101 * 99))"
      ],
      "execution_count": null,
      "outputs": [
        {
          "output_type": "stream",
          "name": "stdout",
          "text": [
            "匿名函數可用於條件分析表達上\n",
            "9996\n",
            "9996\n"
          ]
        }
      ]
    },
    {
      "cell_type": "code",
      "metadata": {
        "colab": {
          "base_uri": "https://localhost:8080/"
        },
        "id": "fh7iMvF4PmDP",
        "outputId": "037ed396-6647-470b-8a23-cd64d7f3358c"
      },
      "source": [
        "# 承上練習，簡化\n",
        "\n",
        "print('匿名函數可用於條件分析表達上')\n",
        "findmin = lambda x, y: min(x, y)\n",
        "\n",
        "print(findmin(101 * 99, 102 * 98))\n",
        "print(findmin(102 * 98, 101 * 99))"
      ],
      "execution_count": null,
      "outputs": [
        {
          "output_type": "stream",
          "name": "stdout",
          "text": [
            "匿名函數可用於條件分析表達上\n",
            "9996\n",
            "9996\n"
          ]
        }
      ]
    },
    {
      "cell_type": "code",
      "metadata": {
        "colab": {
          "base_uri": "https://localhost:8080/",
          "height": 173
        },
        "id": "zcrMr4A3pvn0",
        "outputId": "05ab6bab-2b3b-4ba7-dbd6-363fc5cbbbb8"
      },
      "source": [
        "# 補充：Lambda 取代 def\n",
        "\n",
        "import pandas as pd\n",
        "\n",
        "students = {'names':['Lucy', 'Jean', 'Kuku', 'Mia'],\n",
        "            'height':[158, 165, 158, 156]}\n",
        "\n",
        "df = pd.DataFrame(students) # 轉換TABLE\n",
        "df"
      ],
      "execution_count": 3,
      "outputs": [
        {
          "output_type": "execute_result",
          "data": {
            "text/html": [
              "<div>\n",
              "<style scoped>\n",
              "    .dataframe tbody tr th:only-of-type {\n",
              "        vertical-align: middle;\n",
              "    }\n",
              "\n",
              "    .dataframe tbody tr th {\n",
              "        vertical-align: top;\n",
              "    }\n",
              "\n",
              "    .dataframe thead th {\n",
              "        text-align: right;\n",
              "    }\n",
              "</style>\n",
              "<table border=\"1\" class=\"dataframe\">\n",
              "  <thead>\n",
              "    <tr style=\"text-align: right;\">\n",
              "      <th></th>\n",
              "      <th>names</th>\n",
              "      <th>height</th>\n",
              "    </tr>\n",
              "  </thead>\n",
              "  <tbody>\n",
              "    <tr>\n",
              "      <th>0</th>\n",
              "      <td>Lucy</td>\n",
              "      <td>158</td>\n",
              "    </tr>\n",
              "    <tr>\n",
              "      <th>1</th>\n",
              "      <td>Jean</td>\n",
              "      <td>165</td>\n",
              "    </tr>\n",
              "    <tr>\n",
              "      <th>2</th>\n",
              "      <td>Kuku</td>\n",
              "      <td>158</td>\n",
              "    </tr>\n",
              "    <tr>\n",
              "      <th>3</th>\n",
              "      <td>Mia</td>\n",
              "      <td>156</td>\n",
              "    </tr>\n",
              "  </tbody>\n",
              "</table>\n",
              "</div>"
            ],
            "text/plain": [
              "  names  height\n",
              "0  Lucy     158\n",
              "1  Jean     165\n",
              "2  Kuku     158\n",
              "3   Mia     156"
            ]
          },
          "metadata": {},
          "execution_count": 3
        }
      ]
    },
    {
      "cell_type": "code",
      "metadata": {
        "colab": {
          "base_uri": "https://localhost:8080/",
          "height": 173
        },
        "id": "qlhMc0uEt1Y_",
        "outputId": "c0f29d34-ee55-49dd-dd5d-b66c0af22ef6"
      },
      "source": [
        "# 承上補充，加上level欄位_1（def）\n",
        "# 轉換身高 >=160 為高挑，其餘為普通\n",
        "\n",
        "def grade(x):\n",
        "  return('高挑' if x >=160 else '普通')\n",
        "\n",
        "df['level'] = df['height'].apply(grade)\n",
        "df"
      ],
      "execution_count": 4,
      "outputs": [
        {
          "output_type": "execute_result",
          "data": {
            "text/html": [
              "<div>\n",
              "<style scoped>\n",
              "    .dataframe tbody tr th:only-of-type {\n",
              "        vertical-align: middle;\n",
              "    }\n",
              "\n",
              "    .dataframe tbody tr th {\n",
              "        vertical-align: top;\n",
              "    }\n",
              "\n",
              "    .dataframe thead th {\n",
              "        text-align: right;\n",
              "    }\n",
              "</style>\n",
              "<table border=\"1\" class=\"dataframe\">\n",
              "  <thead>\n",
              "    <tr style=\"text-align: right;\">\n",
              "      <th></th>\n",
              "      <th>names</th>\n",
              "      <th>height</th>\n",
              "      <th>level</th>\n",
              "    </tr>\n",
              "  </thead>\n",
              "  <tbody>\n",
              "    <tr>\n",
              "      <th>0</th>\n",
              "      <td>Lucy</td>\n",
              "      <td>158</td>\n",
              "      <td>普通</td>\n",
              "    </tr>\n",
              "    <tr>\n",
              "      <th>1</th>\n",
              "      <td>Jean</td>\n",
              "      <td>165</td>\n",
              "      <td>高挑</td>\n",
              "    </tr>\n",
              "    <tr>\n",
              "      <th>2</th>\n",
              "      <td>Kuku</td>\n",
              "      <td>158</td>\n",
              "      <td>普通</td>\n",
              "    </tr>\n",
              "    <tr>\n",
              "      <th>3</th>\n",
              "      <td>Mia</td>\n",
              "      <td>156</td>\n",
              "      <td>普通</td>\n",
              "    </tr>\n",
              "  </tbody>\n",
              "</table>\n",
              "</div>"
            ],
            "text/plain": [
              "  names  height level\n",
              "0  Lucy     158    普通\n",
              "1  Jean     165    高挑\n",
              "2  Kuku     158    普通\n",
              "3   Mia     156    普通"
            ]
          },
          "metadata": {},
          "execution_count": 4
        }
      ]
    },
    {
      "cell_type": "code",
      "metadata": {
        "colab": {
          "base_uri": "https://localhost:8080/",
          "height": 173
        },
        "id": "DcQW7xhaxK58",
        "outputId": "685350c2-d3fa-4677-f002-0791fb8eca6a"
      },
      "source": [
        "# 承上補充，加上level欄位_2（lambda）\n",
        "# 轉換身高 >=160 為高挑，其餘為普通\n",
        "\n",
        "df['level2'] = df['height'].apply(lambda x:'高挑' if x >=160 else '普通')\n",
        "df"
      ],
      "execution_count": 9,
      "outputs": [
        {
          "output_type": "execute_result",
          "data": {
            "text/html": [
              "<div>\n",
              "<style scoped>\n",
              "    .dataframe tbody tr th:only-of-type {\n",
              "        vertical-align: middle;\n",
              "    }\n",
              "\n",
              "    .dataframe tbody tr th {\n",
              "        vertical-align: top;\n",
              "    }\n",
              "\n",
              "    .dataframe thead th {\n",
              "        text-align: right;\n",
              "    }\n",
              "</style>\n",
              "<table border=\"1\" class=\"dataframe\">\n",
              "  <thead>\n",
              "    <tr style=\"text-align: right;\">\n",
              "      <th></th>\n",
              "      <th>names</th>\n",
              "      <th>height</th>\n",
              "      <th>level</th>\n",
              "      <th>level2</th>\n",
              "    </tr>\n",
              "  </thead>\n",
              "  <tbody>\n",
              "    <tr>\n",
              "      <th>0</th>\n",
              "      <td>Lucy</td>\n",
              "      <td>158</td>\n",
              "      <td>普通</td>\n",
              "      <td>普通</td>\n",
              "    </tr>\n",
              "    <tr>\n",
              "      <th>1</th>\n",
              "      <td>Jean</td>\n",
              "      <td>165</td>\n",
              "      <td>高挑</td>\n",
              "      <td>高挑</td>\n",
              "    </tr>\n",
              "    <tr>\n",
              "      <th>2</th>\n",
              "      <td>Kuku</td>\n",
              "      <td>158</td>\n",
              "      <td>普通</td>\n",
              "      <td>普通</td>\n",
              "    </tr>\n",
              "    <tr>\n",
              "      <th>3</th>\n",
              "      <td>Mia</td>\n",
              "      <td>156</td>\n",
              "      <td>普通</td>\n",
              "      <td>普通</td>\n",
              "    </tr>\n",
              "  </tbody>\n",
              "</table>\n",
              "</div>"
            ],
            "text/plain": [
              "  names  height level level2\n",
              "0  Lucy     158    普通     普通\n",
              "1  Jean     165    高挑     高挑\n",
              "2  Kuku     158    普通     普通\n",
              "3   Mia     156    普通     普通"
            ]
          },
          "metadata": {},
          "execution_count": 9
        }
      ]
    },
    {
      "cell_type": "code",
      "metadata": {
        "colab": {
          "base_uri": "https://localhost:8080/"
        },
        "id": "XEjvIX9-0F88",
        "outputId": "86371631-2040-4d7a-9b49-9c7b1e64fead"
      },
      "source": [
        "# 一般寫法（def）\n",
        "\n",
        "height = [158, 165, 158, 156]\n",
        "\n",
        "def grade(x):\n",
        "  return('高挑' if x >=160 else '普通')\n",
        "for h in height:\n",
        "  print(h, grade(h))"
      ],
      "execution_count": 11,
      "outputs": [
        {
          "output_type": "stream",
          "name": "stdout",
          "text": [
            "158 普通\n",
            "165 高挑\n",
            "158 普通\n",
            "156 普通\n"
          ]
        }
      ]
    },
    {
      "cell_type": "code",
      "metadata": {
        "colab": {
          "base_uri": "https://localhost:8080/"
        },
        "id": "-LA7vkO-4kBI",
        "outputId": "ac51015b-44b5-4134-fef2-03d2b42b3f17"
      },
      "source": [
        "# 承上，加入convert（def）\n",
        "\n",
        "convert = []\n",
        "height = [158, 165, 158, 156]\n",
        "\n",
        "def grade(x):\n",
        "  return('高挑' if x >=160 else '普通')\n",
        "\n",
        "for h in height:\n",
        "  print(h, grade(h))\n",
        "  convert.append(grade(h))\n",
        "convert"
      ],
      "execution_count": 19,
      "outputs": [
        {
          "output_type": "stream",
          "name": "stdout",
          "text": [
            "158 普通\n",
            "165 高挑\n",
            "158 普通\n",
            "156 普通\n"
          ]
        },
        {
          "output_type": "execute_result",
          "data": {
            "text/plain": [
              "['普通', '高挑', '普通', '普通']"
            ]
          },
          "metadata": {},
          "execution_count": 19
        }
      ]
    },
    {
      "cell_type": "code",
      "metadata": {
        "colab": {
          "base_uri": "https://localhost:8080/"
        },
        "id": "jYX_8jgM57-T",
        "outputId": "6edee4e6-9fd3-4d81-ddb8-fd599fd0bce2"
      },
      "source": [
        "# 一般寫法（lambda）\n",
        "\n",
        "height = [158, 165, 158, 156]\n",
        "\n",
        "g = lambda x: '高挑' if x >=160 else '普通'\n",
        "\n",
        "for h in height:\n",
        "  print(h, g(h))"
      ],
      "execution_count": 22,
      "outputs": [
        {
          "output_type": "stream",
          "name": "stdout",
          "text": [
            "158 普通\n",
            "165 高挑\n",
            "158 普通\n",
            "156 普通\n"
          ]
        }
      ]
    },
    {
      "cell_type": "code",
      "metadata": {
        "colab": {
          "base_uri": "https://localhost:8080/"
        },
        "id": "cT_qmY9Q7TSj",
        "outputId": "ecc7d096-7140-4837-fcbf-7e66756b7c27"
      },
      "source": [
        "# 一般寫法（list comprehension）\n",
        "\n",
        "height = [158, 165, 158, 156]\n",
        "\n",
        "['高挑' if x >=160 else '普通' for x in height]"
      ],
      "execution_count": 23,
      "outputs": [
        {
          "output_type": "execute_result",
          "data": {
            "text/plain": [
              "['普通', '高挑', '普通', '普通']"
            ]
          },
          "metadata": {},
          "execution_count": 23
        }
      ]
    },
    {
      "cell_type": "code",
      "metadata": {
        "colab": {
          "base_uri": "https://localhost:8080/"
        },
        "id": "dR5WNeEw8SEi",
        "outputId": "929ad493-7e8a-4227-cf9c-d1f31c42ae26"
      },
      "source": [
        "# 一般寫法（list comprehension with lambda indirectly）\n",
        "\n",
        "height = [158, 165, 158, 156]\n",
        "\n",
        "g = lambda x: '高挑' if x >=160 else '普通'\n",
        "\n",
        "[g(x) for x in height]"
      ],
      "execution_count": 24,
      "outputs": [
        {
          "output_type": "execute_result",
          "data": {
            "text/plain": [
              "['普通', '高挑', '普通', '普通']"
            ]
          },
          "metadata": {},
          "execution_count": 24
        }
      ]
    },
    {
      "cell_type": "code",
      "metadata": {
        "colab": {
          "base_uri": "https://localhost:8080/"
        },
        "id": "6mWq3g5k9ePM",
        "outputId": "e009eb2c-f070-4d24-e9f3-c214f97033f7"
      },
      "source": [
        "# 一般寫法（list comprehension with lambda directly）\n",
        "\n",
        "height = [158, 165, 158, 156]\n",
        "\n",
        "[(lambda x: '高挑' if x >=160 else '普通') (x) for x in height]"
      ],
      "execution_count": 29,
      "outputs": [
        {
          "output_type": "execute_result",
          "data": {
            "text/plain": [
              "['普通', '高挑', '普通', '普通']"
            ]
          },
          "metadata": {},
          "execution_count": 29
        }
      ]
    }
  ]
}