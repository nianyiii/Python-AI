{
  "nbformat": 4,
  "nbformat_minor": 0,
  "metadata": {
    "colab": {
      "name": "Day07-20210608-匿名函數.ipynb",
      "provenance": [],
      "collapsed_sections": [],
      "authorship_tag": "ABX9TyOAVm6s3lqJbC2LzTAtqfmx"
    },
    "kernelspec": {
      "name": "python3",
      "display_name": "Python 3"
    },
    "language_info": {
      "name": "python"
    }
  },
  "cells": [
    {
      "cell_type": "markdown",
      "metadata": {
        "id": "Dvv-rwqpzG8u"
      },
      "source": [
        "# 匿名函數"
      ]
    },
    {
      "cell_type": "code",
      "metadata": {
        "colab": {
          "base_uri": "https://localhost:8080/"
        },
        "id": "cpyndtq5zKwp",
        "outputId": "51c13fcd-07fb-41d0-8eb0-6625ad7f541c"
      },
      "source": [
        "# 具名函數\n",
        "# 開根號乘以10\n",
        "\n",
        "def upgrade(s):\n",
        "  return (round(s ** 0.5 * 10))\n",
        "\n",
        "upgrade(55)"
      ],
      "execution_count": null,
      "outputs": [
        {
          "output_type": "execute_result",
          "data": {
            "text/plain": [
              "74"
            ]
          },
          "metadata": {},
          "execution_count": 1
        }
      ]
    },
    {
      "cell_type": "code",
      "metadata": {
        "colab": {
          "base_uri": "https://localhost:8080/"
        },
        "id": "vx2i02naz8BM",
        "outputId": "ec8c494f-ab65-41c1-8bf5-bf6111cb2607"
      },
      "source": [
        "# 具名函數_迴圈\n",
        "\n",
        "scores = [2, 13, 27, 39, 46, 58]\n",
        "\n",
        "for s in scores:\n",
        "  print(upgrade(s))"
      ],
      "execution_count": null,
      "outputs": [
        {
          "output_type": "stream",
          "name": "stdout",
          "text": [
            "14\n",
            "36\n",
            "52\n",
            "62\n",
            "68\n",
            "76\n"
          ]
        }
      ]
    },
    {
      "cell_type": "code",
      "metadata": {
        "colab": {
          "base_uri": "https://localhost:8080/"
        },
        "id": "RYq-IpMS0V_D",
        "outputId": "0fbc5992-d789-44b3-d1d8-c8d8b833da9e"
      },
      "source": [
        "# 具名函數_List Comprehension-1\n",
        "\n",
        "scores = [2, 13, 27, 39, 46, 58]\n",
        "\n",
        "[upgrade(s) for s in scores]"
      ],
      "execution_count": null,
      "outputs": [
        {
          "output_type": "execute_result",
          "data": {
            "text/plain": [
              "[14, 36, 52, 62, 68, 76]"
            ]
          },
          "metadata": {},
          "execution_count": 4
        }
      ]
    },
    {
      "cell_type": "code",
      "metadata": {
        "colab": {
          "base_uri": "https://localhost:8080/"
        },
        "id": "Y3j0fRj01cwP",
        "outputId": "efe9b922-6a34-4d86-df29-fd1919540c23"
      },
      "source": [
        "# 具名函數_List Comprehension-2\n",
        "\n",
        "scores = [2, 13, 27, 39, 46, 58]\n",
        "\n",
        "[round(s ** 0.5 * 10) for s in scores]"
      ],
      "execution_count": null,
      "outputs": [
        {
          "output_type": "execute_result",
          "data": {
            "text/plain": [
              "[14, 36, 52, 62, 68, 76]"
            ]
          },
          "metadata": {},
          "execution_count": 11
        }
      ]
    },
    {
      "cell_type": "code",
      "metadata": {
        "colab": {
          "base_uri": "https://localhost:8080/"
        },
        "id": "Ais35ENA0wgT",
        "outputId": "67d7aa50-a583-434c-e1ed-aa63f989c98c"
      },
      "source": [
        "# 匿名函數\n",
        "\n",
        "up = lambda x: round(x ** 0.5 * 10)\n",
        "up(55)"
      ],
      "execution_count": null,
      "outputs": [
        {
          "output_type": "execute_result",
          "data": {
            "text/plain": [
              "74"
            ]
          },
          "metadata": {},
          "execution_count": 5
        }
      ]
    },
    {
      "cell_type": "code",
      "metadata": {
        "colab": {
          "base_uri": "https://localhost:8080/"
        },
        "id": "40q-U69E4vp4",
        "outputId": "e167a836-6f8a-41c5-f40e-7e3a9002c34e"
      },
      "source": [
        "# 匿名函數_迴圈\n",
        "\n",
        "scores = [2, 13, 27, 39, 46, 58]\n",
        "\n",
        "for s in scores:\n",
        "  print((lambda x: round(x ** 0.5 * 10))(s))"
      ],
      "execution_count": null,
      "outputs": [
        {
          "output_type": "stream",
          "name": "stdout",
          "text": [
            "14\n",
            "36\n",
            "52\n",
            "62\n",
            "68\n",
            "76\n"
          ]
        }
      ]
    },
    {
      "cell_type": "code",
      "metadata": {
        "colab": {
          "base_uri": "https://localhost:8080/"
        },
        "id": "WtaNgm4b4LfS",
        "outputId": "e8bd797d-7555-4e16-d230-18c014b06c13"
      },
      "source": [
        "# 匿名函數_List Comprehension\n",
        "\n",
        "scores = [2, 13, 27, 39, 46, 58]\n",
        "\n",
        "[(lambda x: round(x ** 0.5 * 10)) (s) for s in scores]"
      ],
      "execution_count": null,
      "outputs": [
        {
          "output_type": "execute_result",
          "data": {
            "text/plain": [
              "[14, 36, 52, 62, 68, 76]"
            ]
          },
          "metadata": {},
          "execution_count": 13
        }
      ]
    },
    {
      "cell_type": "code",
      "metadata": {
        "colab": {
          "base_uri": "https://localhost:8080/"
        },
        "id": "t4wHoUsE_8uZ",
        "outputId": "2296840c-b52c-40d2-8658-24233fef0551"
      },
      "source": [
        "# Practice\n",
        "\n",
        "## 具名函數\n",
        "def f(x, y, z):\n",
        "  return x + y + z\n",
        "\n",
        "print('具名函數處理')\n",
        "print(f(2, 30, 400))\n",
        "\n",
        "## 匿名函數\n",
        "k = lambda x, y, z: x + y + z\n",
        "\n",
        "print('匿名函數處理')\n",
        "print(k(2, 30, 400))"
      ],
      "execution_count": null,
      "outputs": [
        {
          "output_type": "stream",
          "name": "stdout",
          "text": [
            "具名函數處理\n",
            "432\n",
            "匿名函數處理\n",
            "432\n"
          ]
        }
      ]
    },
    {
      "cell_type": "code",
      "metadata": {
        "colab": {
          "base_uri": "https://localhost:8080/"
        },
        "id": "bjLlEI78BQ5v",
        "outputId": "9805b16d-bfb5-4bfc-e164-0160291c7bac"
      },
      "source": [
        "# Practice\n",
        "\n",
        "mz = (lambda a = 'Wolfgangus', b = 'Theophilus', c = 'Mozart': a + b + c)\n",
        "print(mz(a = 'Wolfgang', b = 'Amadeus'))"
      ],
      "execution_count": null,
      "outputs": [
        {
          "output_type": "stream",
          "name": "stdout",
          "text": [
            "WolfgangAmadeusMozart\n"
          ]
        }
      ]
    },
    {
      "cell_type": "code",
      "metadata": {
        "colab": {
          "base_uri": "https://localhost:8080/"
        },
        "id": "UCVL7SWZC-nh",
        "outputId": "e833e4e5-bf67-4010-a86e-567a455d6f1d"
      },
      "source": [
        "# Practice\n",
        "# put the funtion in the list\n",
        "\n",
        "try1 = [lambda x: x ** 2, lambda x: x ** 3, lambda x: x ** 4]\n",
        "print(try1.__class__)\n",
        "print('------------------')\n",
        "\n",
        "for h in try1:\n",
        "  print('每一個',h.__class__)\n",
        "  print('運算後是',h(3))\n",
        "print('------------------')\n",
        "\n",
        "print(try1[0](11)) # ---> 從list取出第零個進行運算，記得加上(參數)"
      ],
      "execution_count": null,
      "outputs": [
        {
          "output_type": "stream",
          "name": "stdout",
          "text": [
            "<class 'list'>\n",
            "------------------\n",
            "每一個 <class 'function'>\n",
            "運算後是 9\n",
            "每一個 <class 'function'>\n",
            "運算後是 27\n",
            "每一個 <class 'function'>\n",
            "運算後是 81\n",
            "------------------\n",
            "121\n"
          ]
        }
      ]
    },
    {
      "cell_type": "code",
      "metadata": {
        "colab": {
          "base_uri": "https://localhost:8080/"
        },
        "id": "FAsgIeO4IEUm",
        "outputId": "1426d518-5047-4221-8ce2-ef7f45d3dec0"
      },
      "source": [
        "# Practice\n",
        "\n",
        "print('一般函數處理')\n",
        "def f1(x):\n",
        "  return x ** 2\n",
        "def f2(x):\n",
        "  return x ** 3\n",
        "def f3(x):\n",
        "  return x ** 4\n",
        "\n",
        "try2 = [f1, f2, f3]\n",
        "\n",
        "for ff in try2:\n",
        "  print('每一個',ff.__class__)\n",
        "  print('運算後是',ff(3))\n",
        "print('------------------')\n",
        "\n",
        "print(try2[0](11))"
      ],
      "execution_count": null,
      "outputs": [
        {
          "output_type": "stream",
          "name": "stdout",
          "text": [
            "一般函數處理\n",
            "每一個 <class 'function'>\n",
            "運算後是 9\n",
            "每一個 <class 'function'>\n",
            "運算後是 27\n",
            "每一個 <class 'function'>\n",
            "運算後是 81\n",
            "------------------\n",
            "121\n"
          ]
        }
      ]
    },
    {
      "cell_type": "code",
      "metadata": {
        "colab": {
          "base_uri": "https://localhost:8080/"
        },
        "id": "LykRGxJgKP1_",
        "outputId": "f80efe52-b656-4f6d-d88e-8530d20b0268"
      },
      "source": [
        "# 補充：三元運算式\n",
        "\n",
        "x, y = 1, 3\n",
        "\n",
        "x if x <= y else y # 由下方判斷式改為單行\n",
        "\n",
        "# if x <= y:\n",
        "#   print(x)\n",
        "# else:\n",
        "#   print(y)"
      ],
      "execution_count": null,
      "outputs": [
        {
          "output_type": "execute_result",
          "data": {
            "text/plain": [
              "1"
            ]
          },
          "metadata": {},
          "execution_count": 59
        }
      ]
    },
    {
      "cell_type": "code",
      "metadata": {
        "colab": {
          "base_uri": "https://localhost:8080/"
        },
        "id": "52FamADJLFUz",
        "outputId": "d14c2591-a8e2-4baf-f82b-ab0a36dc9c44"
      },
      "source": [
        "# Practice\n",
        "# 取最小\n",
        "\n",
        "print('匿名函數可用於條件分析表達上')\n",
        "findmin = lambda x, y: x if x < y else y\n",
        "\n",
        "print(findmin(101 * 99, 102 * 98))\n",
        "print(findmin(102 * 98, 101 * 99))"
      ],
      "execution_count": null,
      "outputs": [
        {
          "output_type": "stream",
          "name": "stdout",
          "text": [
            "匿名函數可用於條件分析表達上\n",
            "9996\n",
            "9996\n"
          ]
        }
      ]
    },
    {
      "cell_type": "code",
      "metadata": {
        "colab": {
          "base_uri": "https://localhost:8080/"
        },
        "id": "fh7iMvF4PmDP",
        "outputId": "037ed396-6647-470b-8a23-cd64d7f3358c"
      },
      "source": [
        "# 承上練習，簡化\n",
        "\n",
        "print('匿名函數可用於條件分析表達上')\n",
        "findmin = lambda x, y: min(x, y)\n",
        "\n",
        "print(findmin(101 * 99, 102 * 98))\n",
        "print(findmin(102 * 98, 101 * 99))"
      ],
      "execution_count": null,
      "outputs": [
        {
          "output_type": "stream",
          "name": "stdout",
          "text": [
            "匿名函數可用於條件分析表達上\n",
            "9996\n",
            "9996\n"
          ]
        }
      ]
    },
    {
      "cell_type": "code",
      "metadata": {
        "colab": {
          "base_uri": "https://localhost:8080/",
          "height": 173
        },
        "id": "zcrMr4A3pvn0",
        "outputId": "05ab6bab-2b3b-4ba7-dbd6-363fc5cbbbb8"
      },
      "source": [
        "# 補充：Lambda 取代 def\n",
        "\n",
        "import pandas as pd\n",
        "\n",
        "students = {'names':['Lucy', 'Jean', 'Kuku', 'Mia'],\n",
        "            'height':[158, 165, 158, 156]}\n",
        "\n",
        "df = pd.DataFrame(students) # 轉換TABLE\n",
        "df"
      ],
      "execution_count": null,
      "outputs": [
        {
          "output_type": "execute_result",
          "data": {
            "text/html": [
              "<div>\n",
              "<style scoped>\n",
              "    .dataframe tbody tr th:only-of-type {\n",
              "        vertical-align: middle;\n",
              "    }\n",
              "\n",
              "    .dataframe tbody tr th {\n",
              "        vertical-align: top;\n",
              "    }\n",
              "\n",
              "    .dataframe thead th {\n",
              "        text-align: right;\n",
              "    }\n",
              "</style>\n",
              "<table border=\"1\" class=\"dataframe\">\n",
              "  <thead>\n",
              "    <tr style=\"text-align: right;\">\n",
              "      <th></th>\n",
              "      <th>names</th>\n",
              "      <th>height</th>\n",
              "    </tr>\n",
              "  </thead>\n",
              "  <tbody>\n",
              "    <tr>\n",
              "      <th>0</th>\n",
              "      <td>Lucy</td>\n",
              "      <td>158</td>\n",
              "    </tr>\n",
              "    <tr>\n",
              "      <th>1</th>\n",
              "      <td>Jean</td>\n",
              "      <td>165</td>\n",
              "    </tr>\n",
              "    <tr>\n",
              "      <th>2</th>\n",
              "      <td>Kuku</td>\n",
              "      <td>158</td>\n",
              "    </tr>\n",
              "    <tr>\n",
              "      <th>3</th>\n",
              "      <td>Mia</td>\n",
              "      <td>156</td>\n",
              "    </tr>\n",
              "  </tbody>\n",
              "</table>\n",
              "</div>"
            ],
            "text/plain": [
              "  names  height\n",
              "0  Lucy     158\n",
              "1  Jean     165\n",
              "2  Kuku     158\n",
              "3   Mia     156"
            ]
          },
          "metadata": {},
          "execution_count": 3
        }
      ]
    },
    {
      "cell_type": "code",
      "metadata": {
        "colab": {
          "base_uri": "https://localhost:8080/",
          "height": 173
        },
        "id": "qlhMc0uEt1Y_",
        "outputId": "c0f29d34-ee55-49dd-dd5d-b66c0af22ef6"
      },
      "source": [
        "# 承上補充，加上level欄位_1（def）\n",
        "# 轉換身高 >=160 為高挑，其餘為普通\n",
        "\n",
        "def grade(x):\n",
        "  return('高挑' if x >=160 else '普通')\n",
        "\n",
        "df['level'] = df['height'].apply(grade)\n",
        "df"
      ],
      "execution_count": null,
      "outputs": [
        {
          "output_type": "execute_result",
          "data": {
            "text/html": [
              "<div>\n",
              "<style scoped>\n",
              "    .dataframe tbody tr th:only-of-type {\n",
              "        vertical-align: middle;\n",
              "    }\n",
              "\n",
              "    .dataframe tbody tr th {\n",
              "        vertical-align: top;\n",
              "    }\n",
              "\n",
              "    .dataframe thead th {\n",
              "        text-align: right;\n",
              "    }\n",
              "</style>\n",
              "<table border=\"1\" class=\"dataframe\">\n",
              "  <thead>\n",
              "    <tr style=\"text-align: right;\">\n",
              "      <th></th>\n",
              "      <th>names</th>\n",
              "      <th>height</th>\n",
              "      <th>level</th>\n",
              "    </tr>\n",
              "  </thead>\n",
              "  <tbody>\n",
              "    <tr>\n",
              "      <th>0</th>\n",
              "      <td>Lucy</td>\n",
              "      <td>158</td>\n",
              "      <td>普通</td>\n",
              "    </tr>\n",
              "    <tr>\n",
              "      <th>1</th>\n",
              "      <td>Jean</td>\n",
              "      <td>165</td>\n",
              "      <td>高挑</td>\n",
              "    </tr>\n",
              "    <tr>\n",
              "      <th>2</th>\n",
              "      <td>Kuku</td>\n",
              "      <td>158</td>\n",
              "      <td>普通</td>\n",
              "    </tr>\n",
              "    <tr>\n",
              "      <th>3</th>\n",
              "      <td>Mia</td>\n",
              "      <td>156</td>\n",
              "      <td>普通</td>\n",
              "    </tr>\n",
              "  </tbody>\n",
              "</table>\n",
              "</div>"
            ],
            "text/plain": [
              "  names  height level\n",
              "0  Lucy     158    普通\n",
              "1  Jean     165    高挑\n",
              "2  Kuku     158    普通\n",
              "3   Mia     156    普通"
            ]
          },
          "metadata": {},
          "execution_count": 4
        }
      ]
    },
    {
      "cell_type": "code",
      "metadata": {
        "colab": {
          "base_uri": "https://localhost:8080/",
          "height": 173
        },
        "id": "DcQW7xhaxK58",
        "outputId": "685350c2-d3fa-4677-f002-0791fb8eca6a"
      },
      "source": [
        "# 承上補充，加上level欄位_2（lambda）\n",
        "# 轉換身高 >=160 為高挑，其餘為普通\n",
        "\n",
        "df['level2'] = df['height'].apply(lambda x:'高挑' if x >=160 else '普通')\n",
        "df"
      ],
      "execution_count": null,
      "outputs": [
        {
          "output_type": "execute_result",
          "data": {
            "text/html": [
              "<div>\n",
              "<style scoped>\n",
              "    .dataframe tbody tr th:only-of-type {\n",
              "        vertical-align: middle;\n",
              "    }\n",
              "\n",
              "    .dataframe tbody tr th {\n",
              "        vertical-align: top;\n",
              "    }\n",
              "\n",
              "    .dataframe thead th {\n",
              "        text-align: right;\n",
              "    }\n",
              "</style>\n",
              "<table border=\"1\" class=\"dataframe\">\n",
              "  <thead>\n",
              "    <tr style=\"text-align: right;\">\n",
              "      <th></th>\n",
              "      <th>names</th>\n",
              "      <th>height</th>\n",
              "      <th>level</th>\n",
              "      <th>level2</th>\n",
              "    </tr>\n",
              "  </thead>\n",
              "  <tbody>\n",
              "    <tr>\n",
              "      <th>0</th>\n",
              "      <td>Lucy</td>\n",
              "      <td>158</td>\n",
              "      <td>普通</td>\n",
              "      <td>普通</td>\n",
              "    </tr>\n",
              "    <tr>\n",
              "      <th>1</th>\n",
              "      <td>Jean</td>\n",
              "      <td>165</td>\n",
              "      <td>高挑</td>\n",
              "      <td>高挑</td>\n",
              "    </tr>\n",
              "    <tr>\n",
              "      <th>2</th>\n",
              "      <td>Kuku</td>\n",
              "      <td>158</td>\n",
              "      <td>普通</td>\n",
              "      <td>普通</td>\n",
              "    </tr>\n",
              "    <tr>\n",
              "      <th>3</th>\n",
              "      <td>Mia</td>\n",
              "      <td>156</td>\n",
              "      <td>普通</td>\n",
              "      <td>普通</td>\n",
              "    </tr>\n",
              "  </tbody>\n",
              "</table>\n",
              "</div>"
            ],
            "text/plain": [
              "  names  height level level2\n",
              "0  Lucy     158    普通     普通\n",
              "1  Jean     165    高挑     高挑\n",
              "2  Kuku     158    普通     普通\n",
              "3   Mia     156    普通     普通"
            ]
          },
          "metadata": {},
          "execution_count": 9
        }
      ]
    },
    {
      "cell_type": "code",
      "metadata": {
        "colab": {
          "base_uri": "https://localhost:8080/"
        },
        "id": "XEjvIX9-0F88",
        "outputId": "86371631-2040-4d7a-9b49-9c7b1e64fead"
      },
      "source": [
        "# 一般寫法（def）\n",
        "\n",
        "height = [158, 165, 158, 156]\n",
        "\n",
        "def grade(x):\n",
        "  return('高挑' if x >=160 else '普通')\n",
        "for h in height:\n",
        "  print(h, grade(h))"
      ],
      "execution_count": null,
      "outputs": [
        {
          "output_type": "stream",
          "name": "stdout",
          "text": [
            "158 普通\n",
            "165 高挑\n",
            "158 普通\n",
            "156 普通\n"
          ]
        }
      ]
    },
    {
      "cell_type": "code",
      "metadata": {
        "colab": {
          "base_uri": "https://localhost:8080/"
        },
        "id": "-LA7vkO-4kBI",
        "outputId": "ac51015b-44b5-4134-fef2-03d2b42b3f17"
      },
      "source": [
        "# 承上，加入convert（def）\n",
        "\n",
        "convert = []\n",
        "height = [158, 165, 158, 156]\n",
        "\n",
        "def grade(x):\n",
        "  return('高挑' if x >=160 else '普通')\n",
        "\n",
        "for h in height:\n",
        "  print(h, grade(h))\n",
        "  convert.append(grade(h))\n",
        "convert"
      ],
      "execution_count": null,
      "outputs": [
        {
          "output_type": "stream",
          "name": "stdout",
          "text": [
            "158 普通\n",
            "165 高挑\n",
            "158 普通\n",
            "156 普通\n"
          ]
        },
        {
          "output_type": "execute_result",
          "data": {
            "text/plain": [
              "['普通', '高挑', '普通', '普通']"
            ]
          },
          "metadata": {},
          "execution_count": 19
        }
      ]
    },
    {
      "cell_type": "code",
      "metadata": {
        "colab": {
          "base_uri": "https://localhost:8080/"
        },
        "id": "jYX_8jgM57-T",
        "outputId": "6edee4e6-9fd3-4d81-ddb8-fd599fd0bce2"
      },
      "source": [
        "# 一般寫法（lambda）\n",
        "\n",
        "height = [158, 165, 158, 156]\n",
        "\n",
        "g = lambda x: '高挑' if x >=160 else '普通'\n",
        "\n",
        "for h in height:\n",
        "  print(h, g(h))"
      ],
      "execution_count": null,
      "outputs": [
        {
          "output_type": "stream",
          "name": "stdout",
          "text": [
            "158 普通\n",
            "165 高挑\n",
            "158 普通\n",
            "156 普通\n"
          ]
        }
      ]
    },
    {
      "cell_type": "code",
      "metadata": {
        "colab": {
          "base_uri": "https://localhost:8080/"
        },
        "id": "cT_qmY9Q7TSj",
        "outputId": "ecc7d096-7140-4837-fcbf-7e66756b7c27"
      },
      "source": [
        "# 一般寫法（list comprehension）\n",
        "\n",
        "height = [158, 165, 158, 156]\n",
        "\n",
        "['高挑' if x >=160 else '普通' for x in height]"
      ],
      "execution_count": null,
      "outputs": [
        {
          "output_type": "execute_result",
          "data": {
            "text/plain": [
              "['普通', '高挑', '普通', '普通']"
            ]
          },
          "metadata": {},
          "execution_count": 23
        }
      ]
    },
    {
      "cell_type": "code",
      "metadata": {
        "colab": {
          "base_uri": "https://localhost:8080/"
        },
        "id": "dR5WNeEw8SEi",
        "outputId": "929ad493-7e8a-4227-cf9c-d1f31c42ae26"
      },
      "source": [
        "# 一般寫法（list comprehension with lambda indirectly）\n",
        "\n",
        "height = [158, 165, 158, 156]\n",
        "\n",
        "g = lambda x: '高挑' if x >=160 else '普通'\n",
        "\n",
        "[g(x) for x in height]"
      ],
      "execution_count": null,
      "outputs": [
        {
          "output_type": "execute_result",
          "data": {
            "text/plain": [
              "['普通', '高挑', '普通', '普通']"
            ]
          },
          "metadata": {},
          "execution_count": 24
        }
      ]
    },
    {
      "cell_type": "code",
      "metadata": {
        "colab": {
          "base_uri": "https://localhost:8080/"
        },
        "id": "6mWq3g5k9ePM",
        "outputId": "e009eb2c-f070-4d24-e9f3-c214f97033f7"
      },
      "source": [
        "# 一般寫法（list comprehension with lambda directly）\n",
        "\n",
        "height = [158, 165, 158, 156]\n",
        "\n",
        "[(lambda x: '高挑' if x >=160 else '普通') (x) for x in height]"
      ],
      "execution_count": null,
      "outputs": [
        {
          "output_type": "execute_result",
          "data": {
            "text/plain": [
              "['普通', '高挑', '普通', '普通']"
            ]
          },
          "metadata": {},
          "execution_count": 29
        }
      ]
    },
    {
      "cell_type": "code",
      "metadata": {
        "colab": {
          "base_uri": "https://localhost:8080/"
        },
        "id": "9A8gTE3VQOAR",
        "outputId": "e14e40b8-ee36-444e-8876-1b7a64fae3b5"
      },
      "source": [
        "# Practice\n",
        "# 搭配dict，設計出分組挑選的流程\n",
        "\n",
        "score = int(input('please input：'))\n",
        "\n",
        "level = score // 10\n",
        "\n",
        "data = {\n",
        "    10 : lambda: print('Perfect'),\n",
        "    9  : lambda: print('A'),\n",
        "    8  : lambda: print('B'),\n",
        "    7  : lambda: print('C'),\n",
        "    6  : lambda: print('D')\n",
        "    }\n",
        "\n",
        "data.get(level, lambda: print('E') ) () # ()表示LAMBDA要輸出"
      ],
      "execution_count": null,
      "outputs": [
        {
          "output_type": "stream",
          "name": "stdout",
          "text": [
            "please input：98\n",
            "A\n"
          ]
        }
      ]
    },
    {
      "cell_type": "code",
      "metadata": {
        "colab": {
          "base_uri": "https://localhost:8080/",
          "height": 54
        },
        "id": "9qma14VbTjtJ",
        "outputId": "af5775d4-6446-430d-d233-998f0bb8eec6"
      },
      "source": [
        "# 承上練習，簡化\n",
        "\n",
        "score = int(input('please input：'))\n",
        "\n",
        "level = score // 10\n",
        "data = {\n",
        "    10 : 'Perfect',\n",
        "    9  : 'A',\n",
        "    8  : 'B',\n",
        "    7  : 'C',\n",
        "    6  : 'D'\n",
        "    }\n",
        "\n",
        "data.get(level, 'E' ) "
      ],
      "execution_count": null,
      "outputs": [
        {
          "name": "stdout",
          "output_type": "stream",
          "text": [
            "please input：66\n"
          ]
        },
        {
          "output_type": "execute_result",
          "data": {
            "application/vnd.google.colaboratory.intrinsic+json": {
              "type": "string"
            },
            "text/plain": [
              "'D'"
            ]
          },
          "metadata": {},
          "execution_count": 2
        }
      ]
    },
    {
      "cell_type": "markdown",
      "metadata": {
        "id": "JzVRt1heSfIq"
      },
      "source": [
        "# map運用"
      ]
    },
    {
      "cell_type": "code",
      "metadata": {
        "colab": {
          "base_uri": "https://localhost:8080/"
        },
        "id": "dVK-Xf6wSpD-",
        "outputId": "ec25d4ef-a641-4c26-dfff-ca105ad81f73"
      },
      "source": [
        "# https://scikit-learn.org/stable/modules/generated/sklearn.datasets.load_iris.html\n",
        "# 使用list comprehension\n",
        "\n",
        "# 來源\n",
        "species = [0, 1, 1, 2, 0, 2]\n",
        "\n",
        "# 對應表\n",
        "target = {0:'setosa' , 1:'versicolor', 2:'virginica'}\n",
        "\n",
        "#要轉換成以下\n",
        "result = ['setosa', 'versicolor', 'versicolor', 'virginica', 'setosa', 'virginica']\n",
        "\n",
        "[target[s] for s in species]"
      ],
      "execution_count": null,
      "outputs": [
        {
          "output_type": "execute_result",
          "data": {
            "text/plain": [
              "['setosa', 'versicolor', 'versicolor', 'virginica', 'setosa', 'virginica']"
            ]
          },
          "metadata": {},
          "execution_count": 4
        }
      ]
    },
    {
      "cell_type": "code",
      "metadata": {
        "colab": {
          "base_uri": "https://localhost:8080/"
        },
        "id": "gCJ3kPyqVCzL",
        "outputId": "f5eed49a-fe99-4899-c35d-2c308fd4c2c2"
      },
      "source": [
        "# 承上例，使用map函數\n",
        "\n",
        "# map?\n",
        "# map(func, *iterables 逐一處理) --> map object\n",
        "# map (函數, 資料) = 根據 [資料] 每一筆，逐一跟 [函數] 對應或轉換\n",
        "\n",
        "list(map(lambda x: target[x], species))"
      ],
      "execution_count": null,
      "outputs": [
        {
          "output_type": "execute_result",
          "data": {
            "text/plain": [
              "['setosa', 'versicolor', 'versicolor', 'virginica', 'setosa', 'virginica']"
            ]
          },
          "metadata": {},
          "execution_count": 6
        }
      ]
    },
    {
      "cell_type": "code",
      "metadata": {
        "colab": {
          "base_uri": "https://localhost:8080/"
        },
        "id": "9yVljRaba7tI",
        "outputId": "e82f72a1-968d-4814-f2d7-409df106580c"
      },
      "source": [
        "# Practice\n",
        "\n",
        "def multiply2(x):\n",
        "\treturn x * 2\n",
        "a = map(multiply2, [1, 2, 3, 4])\n",
        "list1 = list(a)\n",
        "print(list1)\n",
        "\n",
        "a = map(lambda x : x * 2, [1, 2, 3, 4])\n",
        "list2 = list(a)\n",
        "print(list2)\n",
        "\n",
        "b = [1, 2, 3, 4]\n",
        "c = b * 2\n",
        "print(c)"
      ],
      "execution_count": null,
      "outputs": [
        {
          "output_type": "stream",
          "name": "stdout",
          "text": [
            "[2, 4, 6, 8]\n",
            "[2, 4, 6, 8]\n",
            "[1, 2, 3, 4, 1, 2, 3, 4]\n"
          ]
        }
      ]
    },
    {
      "cell_type": "code",
      "metadata": {
        "id": "ZdxR0NdBcHe6",
        "colab": {
          "base_uri": "https://localhost:8080/"
        },
        "outputId": "83baa6e1-22a7-4cb9-8ec0-bed846c388e9"
      },
      "source": [
        "# 補充：\n",
        "\n",
        "species = [0, 1, 1, 2, 0, 2]\n",
        "target = {0:'setosa' , 1:'versicolor', 2:'virginica'}\n",
        "\n",
        "def species_name(x):\n",
        "  return[target[x]]\n",
        "list(map(species_name, species))"
      ],
      "execution_count": null,
      "outputs": [
        {
          "output_type": "execute_result",
          "data": {
            "text/plain": [
              "[['setosa'],\n",
              " ['versicolor'],\n",
              " ['versicolor'],\n",
              " ['virginica'],\n",
              " ['setosa'],\n",
              " ['virginica']]"
            ]
          },
          "metadata": {},
          "execution_count": 6
        }
      ]
    },
    {
      "cell_type": "code",
      "metadata": {
        "colab": {
          "base_uri": "https://localhost:8080/"
        },
        "id": "lLqaOjslUJMm",
        "outputId": "96edae9e-4b6b-488c-b86d-672134b39106"
      },
      "source": [
        "# 承上練習，使用lambda函數\n",
        "\n",
        "species = [0, 1, 1, 2, 0, 2]\n",
        "target = {0:'setosa' , 1:'versicolor', 2:'virginica'}\n",
        "\n",
        "def species_name(x):\n",
        "  return[target[x]]\n",
        "list(map(lambda x: target[x], species))"
      ],
      "execution_count": null,
      "outputs": [
        {
          "output_type": "execute_result",
          "data": {
            "text/plain": [
              "['setosa', 'versicolor', 'versicolor', 'virginica', 'setosa', 'virginica']"
            ]
          },
          "metadata": {},
          "execution_count": 7
        }
      ]
    },
    {
      "cell_type": "code",
      "metadata": {
        "colab": {
          "base_uri": "https://localhost:8080/"
        },
        "id": "ACixE9tDaZJn",
        "outputId": "8075a443-e30c-4364-d4b2-393e43261ebe"
      },
      "source": [
        "# Practice：list內包含dict資料型態\n",
        "\n",
        "dict1 = [\n",
        "         {'name'    : 'python', \n",
        "          'points'  : 10}, \n",
        "         {'name'    : 'java', \n",
        "          'points'  :  8} \n",
        "        ]\n",
        "print(type(dict1))\n",
        "\n",
        "list3 = map(lambda x : x['name'], dict1)\n",
        "print(list(list3))\n",
        "list4 = map(lambda x : x['points']*10, dict1)\n",
        "print(list(list4))\n",
        "list5 = map(lambda x : x['name'] == \"python\", dict1)\n",
        "print(list(list5))\n",
        "list6a = [1,  2,  3]\n",
        "list6b = [10, 20, 30]\n",
        "list6 = map(lambda x, y: x + y, list6a, list6b)\n",
        "print(list(list6))"
      ],
      "execution_count": null,
      "outputs": [
        {
          "output_type": "stream",
          "name": "stdout",
          "text": [
            "<class 'list'>\n",
            "['python', 'java']\n",
            "[100, 80]\n",
            "[True, False]\n",
            "[11, 22, 33]\n"
          ]
        }
      ]
    },
    {
      "cell_type": "code",
      "metadata": {
        "colab": {
          "base_uri": "https://localhost:8080/"
        },
        "id": "xlX3wt7gbh1Q",
        "outputId": "33fc43bd-f0f3-45d1-983e-8ce0a6c4ae1f"
      },
      "source": [
        "# 承上例，list comprehension拆解_1\n",
        "\n",
        "list3 = map(lambda x : x['name'], dict1)\n",
        "print(list(list3))\n",
        "\n",
        "[d['name'] for d in dict1]"
      ],
      "execution_count": null,
      "outputs": [
        {
          "output_type": "stream",
          "name": "stdout",
          "text": [
            "['python', 'java']\n"
          ]
        },
        {
          "output_type": "execute_result",
          "data": {
            "text/plain": [
              "['python', 'java']"
            ]
          },
          "metadata": {},
          "execution_count": 11
        }
      ]
    },
    {
      "cell_type": "code",
      "metadata": {
        "colab": {
          "base_uri": "https://localhost:8080/"
        },
        "id": "zD_rAyXffw9r",
        "outputId": "3de0bf81-6007-433a-cd9a-a3e669bb99f4"
      },
      "source": [
        "# 承上例，list comprehension拆解_2\n",
        "\n",
        "list4 = map(lambda x : x['points'] * 10, dict1)\n",
        "print(list(list4))\n",
        "\n",
        "[d['points'] * 10 for d in dict1]"
      ],
      "execution_count": null,
      "outputs": [
        {
          "output_type": "stream",
          "name": "stdout",
          "text": [
            "[100, 80]\n"
          ]
        },
        {
          "output_type": "execute_result",
          "data": {
            "text/plain": [
              "[100, 80]"
            ]
          },
          "metadata": {},
          "execution_count": 12
        }
      ]
    },
    {
      "cell_type": "code",
      "metadata": {
        "colab": {
          "base_uri": "https://localhost:8080/"
        },
        "id": "OxkZiPcGjWRb",
        "outputId": "4cdb369f-9c81-40bd-a734-df5ccae28afa"
      },
      "source": [
        "# 承上例，list comprehension拆解_3\n",
        "\n",
        "list5 = map(lambda x : x['name'] == 'python', dict1)\n",
        "print(list(list5))\n",
        "\n",
        "[d['name'] == 'python' for d in dict1]"
      ],
      "execution_count": null,
      "outputs": [
        {
          "output_type": "stream",
          "name": "stdout",
          "text": [
            "[True, False]\n"
          ]
        },
        {
          "output_type": "execute_result",
          "data": {
            "text/plain": [
              "[True, False]"
            ]
          },
          "metadata": {},
          "execution_count": 14
        }
      ]
    },
    {
      "cell_type": "code",
      "metadata": {
        "colab": {
          "base_uri": "https://localhost:8080/"
        },
        "id": "SWakSsgdjpcN",
        "outputId": "11ecd287-322a-476b-b47d-b147a3c77e10"
      },
      "source": [
        "# 承上例，list comprehension拆解_4\n",
        "\n",
        "list6a = [1,  2,  3]\n",
        "list6b = [10, 20, 30]\n",
        "list6 = map(lambda x, y: x + y, list6a, list6b)\n",
        "print(list(list6))\n",
        "\n",
        "[z[0] + z[1] for z in zip(list6a, list6b)]"
      ],
      "execution_count": null,
      "outputs": [
        {
          "output_type": "stream",
          "name": "stdout",
          "text": [
            "[11, 22, 33]\n"
          ]
        },
        {
          "output_type": "execute_result",
          "data": {
            "text/plain": [
              "[11, 22, 33]"
            ]
          },
          "metadata": {},
          "execution_count": 28
        }
      ]
    },
    {
      "cell_type": "markdown",
      "metadata": {
        "id": "5Ze8JgEpYr01"
      },
      "source": [
        "# filter運用"
      ]
    },
    {
      "cell_type": "code",
      "metadata": {
        "colab": {
          "base_uri": "https://localhost:8080/"
        },
        "id": "bhcK2sblYwac",
        "outputId": "28e0d381-fdb8-4ac2-ea0e-db16916ff9ac"
      },
      "source": [
        "# 使用list comprehension\n",
        "\n",
        "# filter?\n",
        "# filter(function or None, iterable) --> filter object\n",
        "# 排除0\n",
        "\n",
        "species = [0, 1, 1, 2, 0, 2]\n",
        "target = {0:'setosa' , 1:'versicolor', 2:'virginica'}\n",
        "\n",
        "[s for s in species if s!=0]"
      ],
      "execution_count": null,
      "outputs": [
        {
          "output_type": "execute_result",
          "data": {
            "text/plain": [
              "[1, 1, 2, 2]"
            ]
          },
          "metadata": {},
          "execution_count": 7
        }
      ]
    },
    {
      "cell_type": "code",
      "metadata": {
        "colab": {
          "base_uri": "https://localhost:8080/"
        },
        "id": "_RE0Y57NZsKw",
        "outputId": "70ee3e37-a7a1-41e1-a5c3-861d6f2f69c6"
      },
      "source": [
        "# 承上例，使用filter函數\n",
        "# filter需要藉由list產生最後結果\n",
        "\n",
        "species = [0, 1, 1, 2, 0, 2]\n",
        "target = {0:'setosa' , 1:'versicolor', 2:'virginica'}\n",
        "\n",
        "list(filter(lambda x: True if x!=0 else False, species))"
      ],
      "execution_count": null,
      "outputs": [
        {
          "output_type": "execute_result",
          "data": {
            "text/plain": [
              "[1, 1, 2, 2]"
            ]
          },
          "metadata": {},
          "execution_count": 8
        }
      ]
    },
    {
      "cell_type": "code",
      "metadata": {
        "colab": {
          "base_uri": "https://localhost:8080/"
        },
        "id": "UYPt_nYYOAun",
        "outputId": "afe4511d-5c4d-4a74-a5f7-5a481f869630"
      },
      "source": [
        "# Practice：list內包含dict資料型態\n",
        "\n",
        "a = [1, 2, 3, 4, 5, 6]\n",
        "\n",
        "list7 = filter(lambda x : x % 2 == 0, a) \n",
        "print(list(list7))\n",
        "dict8 = [\n",
        "        {'name': 'python', 'points': 10}, \n",
        "        {'name': 'java'  , 'points': 8 }\n",
        "        ]\n",
        "list8=filter(lambda x : x['name'] == 'python', dict8)\n",
        "print(list(list8)) "
      ],
      "execution_count": null,
      "outputs": [
        {
          "output_type": "stream",
          "name": "stdout",
          "text": [
            "[2, 4, 6]\n",
            "[{'name': 'python', 'points': 10}]\n"
          ]
        }
      ]
    },
    {
      "cell_type": "code",
      "metadata": {
        "colab": {
          "base_uri": "https://localhost:8080/"
        },
        "id": "EEq9tiiBOxZQ",
        "outputId": "9be1a51f-91e4-4421-8782-18e2e4156d7e"
      },
      "source": [
        "# 承上例，list comprehension拆解_1\n",
        "\n",
        "a = [1, 2, 3, 4, 5, 6]\n",
        "\n",
        "list7 = filter(lambda x : x % 2 == 0, a) \n",
        "print(list(list7))\n",
        "\n",
        "[aa for aa in a if aa % 2 == 0]"
      ],
      "execution_count": null,
      "outputs": [
        {
          "output_type": "stream",
          "name": "stdout",
          "text": [
            "[2, 4, 6]\n"
          ]
        },
        {
          "output_type": "execute_result",
          "data": {
            "text/plain": [
              "[2, 4, 6]"
            ]
          },
          "metadata": {},
          "execution_count": 3
        }
      ]
    },
    {
      "cell_type": "code",
      "metadata": {
        "colab": {
          "base_uri": "https://localhost:8080/"
        },
        "id": "n1bz_bPrPulp",
        "outputId": "6951d58f-e9bf-449b-a4e9-d8e596ad4052"
      },
      "source": [
        "# 承上例，list comprehension拆解_2\n",
        "\n",
        "dict8 = [\n",
        "        {'name': 'python', 'points': 10}, \n",
        "        {'name': 'java'  , 'points': 8 }\n",
        "        ]\n",
        "list8 = filter(lambda x : x['name'] == 'python', dict8)\n",
        "print(list(list8)) \n",
        "\n",
        "[d for d in dict8 if d['name'] == 'python']"
      ],
      "execution_count": null,
      "outputs": [
        {
          "output_type": "stream",
          "name": "stdout",
          "text": [
            "[{'name': 'python', 'points': 10}]\n"
          ]
        },
        {
          "output_type": "execute_result",
          "data": {
            "text/plain": [
              "[{'name': 'python', 'points': 10}]"
            ]
          },
          "metadata": {},
          "execution_count": 4
        }
      ]
    },
    {
      "cell_type": "markdown",
      "metadata": {
        "id": "NCUcW-gfTyAs"
      },
      "source": [
        "# EXAM"
      ]
    },
    {
      "cell_type": "code",
      "metadata": {
        "colab": {
          "base_uri": "https://localhost:8080/"
        },
        "id": "znmQKRaTRmH3",
        "outputId": "2e948c00-9088-4faa-ed4e-a5e06e08feeb"
      },
      "source": [
        "# exam_list comprehension_1\n",
        "# 使data結果為[1, 2, 3, 4, 5, 6, 7, 8]\n",
        "\n",
        "data = [[1, 2, 3], [4, 5], [6], [7, 8]]\n",
        "\n",
        "for magic in data:\n",
        "  for a in magic:\n",
        "    print(a)\n",
        "        \n",
        "[a for magic in data for a in magic]"
      ],
      "execution_count": null,
      "outputs": [
        {
          "output_type": "stream",
          "name": "stdout",
          "text": [
            "1\n",
            "2\n",
            "3\n",
            "4\n",
            "5\n",
            "6\n",
            "7\n",
            "8\n"
          ]
        },
        {
          "output_type": "execute_result",
          "data": {
            "text/plain": [
              "[1, 2, 3, 4, 5, 6, 7, 8]"
            ]
          },
          "metadata": {},
          "execution_count": 5
        }
      ]
    },
    {
      "cell_type": "code",
      "metadata": {
        "colab": {
          "base_uri": "https://localhost:8080/"
        },
        "id": "LHXOH9DZTteH",
        "outputId": "13cc2942-6b05-4eb2-d7f4-d5aafb89d0ed"
      },
      "source": [
        "# exam_list comprehension_2-1\n",
        "# 使data結果為[1, 2, 3, 4, 5, 6, 7, 8]\n",
        "\n",
        "data = [[1, 2, 3], [4, 5], 6, [7, 8]]\n",
        "\n",
        "# 確認資料型態是否為list\n",
        "for magic in data:\n",
        "    print(magic, type(magic) == list)\n",
        "print('------------')\n",
        "# 不為list就加[]\n",
        "for magic in data:\n",
        "  if type(magic) == list:\n",
        "    print(magic)\n",
        "  else:\n",
        "    print([magic])\n",
        "print('------------')\n",
        "[magic if type(magic) == list else [magic] for magic in data]"
      ],
      "execution_count": null,
      "outputs": [
        {
          "output_type": "stream",
          "name": "stdout",
          "text": [
            "[1, 2, 3] True\n",
            "[4, 5] True\n",
            "6 False\n",
            "[7, 8] True\n",
            "------------\n",
            "[1, 2, 3]\n",
            "[4, 5]\n",
            "[6]\n",
            "[7, 8]\n",
            "------------\n"
          ]
        },
        {
          "output_type": "execute_result",
          "data": {
            "text/plain": [
              "[[1, 2, 3], [4, 5], [6], [7, 8]]"
            ]
          },
          "metadata": {},
          "execution_count": 12
        }
      ]
    },
    {
      "cell_type": "code",
      "metadata": {
        "colab": {
          "base_uri": "https://localhost:8080/"
        },
        "id": "tPOKpjvPZB7w",
        "outputId": "9466e82e-7435-4091-f98a-8345395c4dd2"
      },
      "source": [
        "# exam_list comprehension_2-2\n",
        "# 接續上例\n",
        "\n",
        "aa = [magic if type(magic) == list else [magic] for magic in data]\n",
        "\n",
        "for ans in aa:\n",
        "  for ans1 in ans:\n",
        "    print(ans1)\n",
        "\n",
        "[ans1 for ans in aa for ans1 in ans]"
      ],
      "execution_count": null,
      "outputs": [
        {
          "output_type": "stream",
          "name": "stdout",
          "text": [
            "1\n",
            "2\n",
            "3\n",
            "4\n",
            "5\n",
            "6\n",
            "7\n",
            "8\n"
          ]
        },
        {
          "output_type": "execute_result",
          "data": {
            "text/plain": [
              "[1, 2, 3, 4, 5, 6, 7, 8]"
            ]
          },
          "metadata": {},
          "execution_count": 14
        }
      ]
    },
    {
      "cell_type": "code",
      "metadata": {
        "colab": {
          "base_uri": "https://localhost:8080/"
        },
        "id": "DRgP_puwaXwy",
        "outputId": "5636bac1-9e9a-4aa3-b079-879763f6eb4b"
      },
      "source": [
        "# exam_list comprehension_2-*\n",
        "\n",
        "data = [[1, 2, 3], [4, 5], 6, [7, 8]]\n",
        "\n",
        "[ans1 for ans in [magic if type(magic) == list else [magic] for magic in data] for ans1 in ans]  "
      ],
      "execution_count": null,
      "outputs": [
        {
          "output_type": "execute_result",
          "data": {
            "text/plain": [
              "[1, 2, 3, 4, 5, 6, 7, 8]"
            ]
          },
          "metadata": {},
          "execution_count": 15
        }
      ]
    },
    {
      "cell_type": "code",
      "metadata": {
        "colab": {
          "base_uri": "https://localhost:8080/"
        },
        "id": "lE1A-zAk1AaF",
        "outputId": "96f27a7f-bfd7-424c-a314-90955b827646"
      },
      "source": [
        "# 有個list內容為['apple', 'banana', 'watermelon', 'papaya']\n",
        "# 使用匿名函數在資料後方加上***\n",
        "\n",
        "data = ['apple', 'banana', 'watermelon', 'papaya']\n",
        "\n",
        "[r + '***' for r in data]"
      ],
      "execution_count": 1,
      "outputs": [
        {
          "output_type": "execute_result",
          "data": {
            "text/plain": [
              "['apple***', 'banana***', 'watermelon***', 'papaya***']"
            ]
          },
          "metadata": {},
          "execution_count": 1
        }
      ]
    }
  ]
}